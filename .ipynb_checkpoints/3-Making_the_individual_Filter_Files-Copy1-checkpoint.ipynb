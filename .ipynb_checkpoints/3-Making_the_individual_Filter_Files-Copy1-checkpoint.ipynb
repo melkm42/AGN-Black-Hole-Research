{
 "cells": [
  {
   "cell_type": "markdown",
   "id": "06c41c37-4823-46ae-b84a-8096719e4d5e",
   "metadata": {
    "tags": []
   },
   "source": [
    "# <font color='#cec748'>This notebook is to get the individual filters for all the galaxies</font>\n",
    "The notebook uses data from the get_spec_example file to:\n",
    "- w"
   ]
  },
  {
   "cell_type": "markdown",
   "id": "439bf1d0-ad92-40ea-8691-1f0281595a80",
   "metadata": {},
   "source": [
    "## <font color='#e55730' size=3 >Imports</font>"
   ]
  },
  {
   "cell_type": "code",
   "execution_count": 1,
   "id": "5b713695-c460-45b5-9bab-0f5e0e951920",
   "metadata": {},
   "outputs": [],
   "source": [
    "from dustmaps.config import config\n",
    "config.reset()"
   ]
  },
  {
   "cell_type": "code",
   "execution_count": 2,
   "id": "69b4fa84-44f9-4dd4-aa11-de54c3731d6c",
   "metadata": {},
   "outputs": [
    {
     "name": "stdout",
     "output_type": "stream",
     "text": [
      "Populating dustmaps config with /home/jovyan/Hobby-Eberly-Telesco/hdr3/calib/dustmaps\n"
     ]
    }
   ],
   "source": [
    "from hetdex_api.detections import Detections\n",
    "import astropy.units as u\n",
    "from astropy.coordinates import SkyCoord\n",
    "from astropy.coordinates import match_coordinates_sky\n",
    "from astropy.convolution import convolve, Gaussian1DKernel, Box1DKernel\n",
    "import tables\n",
    "import numpy as np\n",
    "import os.path as op\n",
    "import math\n",
    "import os\n",
    "import h5py\n",
    "\n",
    "from elixer import global_config as G\n",
    "G.GLOBAL_LOGGING = True\n",
    "from elixer import spectrum_utilities as ESU\n",
    "from elixer import catalogs\n",
    "\n",
    "\n",
    "from hetdex_api.elixer_widget_cls import ElixerWidget\n",
    "from hetdex_api.config import HDRconfig\n",
    "from hetdex_tools.get_spec import get_spectra\n",
    "from hetdex_api.shot import *\n",
    "from hetdex_api.survey import FiberIndex\n",
    "from hetdex_api.detections import Detections\n",
    "\n",
    "from multiprocessing import Pool\n",
    "from astropy.table import QTable, Table, Column\n",
    "from scipy.ndimage import gaussian_filter1d\n",
    "from scipy.interpolate import interp1d\n",
    "from scipy import interpolate\n",
    "\n",
    "import inspect\n",
    "import scipy.stats as stats\n",
    "from astropy.table import Table\n",
    "from astropy.table import QTable, Table, Column\n",
    "import warnings\n",
    "from astropy.modeling import models\n",
    "from specutils.spectra import Spectrum1D, SpectralRegion\n",
    "from specutils.fitting import fit_generic_continuum\n",
    "from specutils.fitting.continuum import fit_continuum\n",
    "from astropy.stats import biweight_location\n",
    "from scipy.integrate import quad as quad\n",
    "from numpy.polynomial.polynomial import polyfit\n",
    "from numpy.polynomial.polynomial import polyval\n",
    "from photutils.centroids import centroid_2dg, centroid_sources\n",
    "from photutils.datasets import make_4gaussians_image\n",
    "from numpy import inf\n",
    "from photutils.datasets import make_4gaussians_image\n",
    "from photutils.centroids import centroid_quadratic"
   ]
  },
  {
   "cell_type": "code",
   "execution_count": 3,
   "id": "a13c8fed-6e53-4f16-8f24-e04eb8508c7a",
   "metadata": {},
   "outputs": [
    {
     "name": "stdout",
     "output_type": "stream",
     "text": [
      "'lmfit' has been imported\n"
     ]
    }
   ],
   "source": [
    "import importlib.util\n",
    "import sys\n",
    "\n",
    "# For illustrative purposes.\n",
    "name = 'lmfit'\n",
    "\n",
    "if name in sys.modules:\n",
    "    print(f\"{name!r} already in sys.modules\")\n",
    "elif (spec := importlib.util.find_spec(name)) is not None:\n",
    "    # If you choose to perform the actual import ...\n",
    "    module = importlib.util.module_from_spec(spec)\n",
    "    sys.modules[name] = module\n",
    "    spec.loader.exec_module(module)\n",
    "    print(f\"{name!r} has been imported\")\n",
    "else:\n",
    "    print(f\"Nope Installing Now\")\n",
    "    !pip install lmfit\n",
    "    condition = True"
   ]
  },
  {
   "cell_type": "code",
   "execution_count": null,
   "id": "ca745571-3abd-43e9-98c7-a420e71fdca7",
   "metadata": {},
   "outputs": [],
   "source": []
  },
  {
   "cell_type": "code",
   "execution_count": null,
   "id": "038c784d-df92-4d46-9d36-49936820aa45",
   "metadata": {},
   "outputs": [],
   "source": []
  },
  {
   "cell_type": "markdown",
   "id": "35309f18-b029-4d1b-90c9-453a269cab22",
   "metadata": {},
   "source": [
    "## <font color='#e55730' size=3 >Plotting imports and settings</font>"
   ]
  },
  {
   "cell_type": "code",
   "execution_count": 4,
   "id": "b4161c99-f476-4ef1-bf5c-35f2199d8eb8",
   "metadata": {},
   "outputs": [],
   "source": [
    "import matplotlib.pyplot as plt\n",
    "import matplotlib\n",
    "from matplotlib import rc\n",
    "import matplotlib.ticker\n",
    "import matplotlib.patches as patches\n",
    "\n",
    "%matplotlib ipympl\n",
    "plt.style.use('default')\n",
    "plt.rcParams['axes.linewidth'] = 1.5\n",
    "plt.rcParams.update({'font.size': 14})\n",
    "plt.rcParams['lines.linewidth'] = 2\n",
    "plt.rcParams['font.family'] = 'serif'\n",
    "plt.rcParams['mathtext.fontset'] = 'dejavuserif'\n",
    "plt.rcParams['mathtext.default'] = 'regular'\n",
    "plt.rcParams['xtick.direction']= 'in'\n",
    "plt.rcParams['ytick.direction']= 'in'\n",
    "plt.rcParams['xtick.labelsize']= 14.0\n",
    "plt.rcParams['ytick.labelsize']= 14.0"
   ]
  },
  {
   "cell_type": "markdown",
   "id": "cf69a09b-4afe-4a3f-af61-1b0ce9780323",
   "metadata": {},
   "source": [
    "## <font color='#e55730' size=3 >Values</font>"
   ]
  },
  {
   "cell_type": "code",
   "execution_count": 5,
   "id": "65c61da2-0d77-4d80-b1ba-8ca693292f5c",
   "metadata": {},
   "outputs": [
    {
     "name": "stdout",
     "output_type": "stream",
     "text": [
      "374.740625\n"
     ]
    }
   ],
   "source": [
    "c = 299792.5 #km s^-1\n",
    "H_0 = 70 #km s^-1 MpC^-1\n",
    "R = 800\n",
    "\n",
    "V = c/R\n",
    "print(V)"
   ]
  },
  {
   "cell_type": "markdown",
   "id": "06a4e213-27a5-4633-9bb1-9bf3552fb46e",
   "metadata": {},
   "source": [
    "## <font color='#e55730' size=3 >Definitions</font>"
   ]
  },
  {
   "cell_type": "code",
   "execution_count": null,
   "id": "e2dc425c-6bda-4082-b52c-5a44df80d952",
   "metadata": {},
   "outputs": [],
   "source": []
  },
  {
   "cell_type": "markdown",
   "id": "0f8b2bf7-2b69-4010-bd5e-ccb4753fc495",
   "metadata": {},
   "source": [
    "## <font color='#e55730' size=3 >Creating Files</font>"
   ]
  },
  {
   "cell_type": "code",
   "execution_count": 6,
   "id": "68ffb6cb-42ba-4910-afd2-934240f0afbc",
   "metadata": {},
   "outputs": [],
   "source": [
    "File_Redshift_Confirmed = \"Table_Spec_Redshift_Confirmed_New_Old.fits\"\n"
   ]
  },
  {
   "cell_type": "code",
   "execution_count": 7,
   "id": "3fe0c304-216c-43ce-8444-8b782a0d3cc8",
   "metadata": {},
   "outputs": [],
   "source": [
    "Data_Redshift_Confirmed = Table.read(File_Redshift_Confirmed, format = 'fits')\n"
   ]
  },
  {
   "cell_type": "code",
   "execution_count": 8,
   "id": "8ef3b840-c855-47e2-b583-1f7fbdfd44b7",
   "metadata": {},
   "outputs": [],
   "source": [
    "catlib = catalogs.CatalogLibrary()"
   ]
  },
  {
   "cell_type": "code",
   "execution_count": 9,
   "id": "93cfa4c1-0e47-4a94-8ee4-e27339594b6f",
   "metadata": {},
   "outputs": [
    {
     "name": "stdout",
     "output_type": "stream",
     "text": [
      "1377\n"
     ]
    }
   ],
   "source": [
    "print(len(Data_Redshift_Confirmed[\"Detectid\"]))"
   ]
  },
  {
   "cell_type": "code",
   "execution_count": null,
   "id": "b57de230-03ce-4ca0-9667-198463c565df",
   "metadata": {},
   "outputs": [],
   "source": []
  },
  {
   "cell_type": "code",
   "execution_count": 10,
   "id": "662fcad9-9f5e-4fc3-aac4-71fa3425d38f",
   "metadata": {},
   "outputs": [],
   "source": [
    "#Let's just do 6 for now\n",
    "##Making the groups\n",
    "\n",
    "\n",
    "z_025_035 = []\n",
    "z_035_045 = []\n",
    "z_045_055 = []\n",
    "z_055_065 = []\n",
    "z_065_075 = []\n",
    "z_075_085 = []\n",
    "z_085_096 = []\n",
    "\n",
    "z_025_035_index = []\n",
    "z_035_045_index = []\n",
    "z_045_055_index = []\n",
    "z_055_065_index = []\n",
    "z_065_075_index = []\n",
    "z_075_085_index = []\n",
    "z_085_096_index = [] \n",
    "\n",
    "\n",
    "a = -1\n",
    "for i in Data_Redshift_Confirmed[\"z\"]:\n",
    "    a = a+1\n",
    "    #print(i)\n",
    "    if 0.25 <= i < 0.35:\n",
    "        #print(i)\n",
    "        z_025_035.append(i)\n",
    "        z_025_035_index.append(a)\n",
    "    if 0.35 <= i < 0.45:\n",
    "        z_035_045.append(i)\n",
    "        z_035_045_index.append(a)\n",
    "    if 0.45 <= i < 0.55:\n",
    "        z_045_055.append(i)\n",
    "        z_045_055_index.append(a)\n",
    "    if 0.55 <= i < 0.65:\n",
    "        z_055_065.append(i)\n",
    "        z_055_065_index.append(a)\n",
    "    if 0.65 <= i < 0.75:\n",
    "        z_065_075.append(i)\n",
    "        z_065_075_index.append(a)\n",
    "    if 0.75 <= i < 0.85:\n",
    "        z_075_085.append(i)\n",
    "        z_075_085_index.append(a)\n",
    "    if 0.85<= i <= 0.96:\n",
    "        z_085_096.append(i)\n",
    "        z_085_096_index.append(a)\n",
    "    else:\n",
    "        continue"
   ]
  },
  {
   "cell_type": "code",
   "execution_count": 11,
   "id": "bd4f0525-587e-452f-b468-3e8f221f55db",
   "metadata": {},
   "outputs": [
    {
     "name": "stdout",
     "output_type": "stream",
     "text": [
      "1377\n"
     ]
    }
   ],
   "source": [
    "test_a = np.hstack((z_025_035, z_035_045, z_045_055, z_055_065, z_065_075, z_075_085, z_085_096))\n",
    "print(len(test_a))"
   ]
  },
  {
   "cell_type": "code",
   "execution_count": 12,
   "id": "43c10057-935f-44d9-8014-e36ef033f83b",
   "metadata": {
    "scrolled": true
   },
   "outputs": [],
   "source": [
    "G_Data_Array = []\n",
    "G_RA_Array = []\n",
    "G_DEC_Array = []\n",
    "G_Detect_ID = []\n",
    "G_Redshift_Array = []\n",
    "G_Mag_Array = []\n",
    "G_Mag_Err_Array = []\n",
    "G_Aperture_Array = []\n",
    "\n",
    "R_Data_Array = []\n",
    "R_RA_Array = []\n",
    "R_DEC_Array = []\n",
    "R_Detect_ID = []\n",
    "R_Redshift_Array = []\n",
    "R_Mag_Array = []\n",
    "R_Mag_Err_Array = []\n",
    "R_Aperture_Array = []\n",
    "\n",
    "I_Data_Array = []\n",
    "I_RA_Array = []\n",
    "I_DEC_Array = []\n",
    "I_Detect_ID = []\n",
    "I_Redshift_Array = []\n",
    "I_Mag_Array = []\n",
    "I_Mag_Err_Array = []\n",
    "I_Aperture_Array = []\n",
    "\n",
    "Z_Data_Array = []\n",
    "Z_RA_Array = []\n",
    "Z_DEC_Array = []\n",
    "Z_Detect_ID = []\n",
    "Z_Redshift_Array = []\n",
    "Z_Mag_Array = []\n",
    "Z_Mag_Err_Array = []\n",
    "Z_Aperture_Array = []\n",
    "\n",
    "Y_Data_Array = []\n",
    "Y_RA_Array = []\n",
    "Y_DEC_Array = []\n",
    "Y_Detect_ID = []\n",
    "Y_Redshift_Array = []\n",
    "Y_Mag_Array = []\n",
    "Y_Mag_Err_Array = []\n",
    "Y_Aperture_Array = []\n",
    "\n",
    "\n",
    "\n",
    "\n",
    "for i in np.arange(len(Data_Redshift_Confirmed[\"RA\"][z_025_035_index])): \n",
    "\n",
    "#for i in np.arange(10): \n",
    "    coord7 = SkyCoord(Data_Redshift_Confirmed[\"RA\"][z_025_035_index][i], Data_Redshift_Confirmed[\"DEC\"][z_025_035_index][i], unit = 'deg')\n",
    "    cutouts7 = catlib.get_cutouts(position=coord7,radius=7.,aperture=1.5,dynamic=False,first=False,nudge=False,filter=None)\n",
    "\n",
    "    #print(cutouts7)\n",
    "    if len(cutouts7) > 0:\n",
    "        cutout = cutouts7[0] \n",
    "        #print(cutout['instrument'])\n",
    "        \n",
    "        if cutout['instrument'] == \"HSC SSP\":\n",
    "            for j in cutouts7:\n",
    "                #print(j['details'][\"filter_name\"])\n",
    "                \n",
    "                if j['details'][\"filter_name\"] == \"g\":\n",
    "                    #print(\"g\")\n",
    "                    #print(j['cutout'].error)\n",
    "                    G_Data_Array.append(j['cutout'].data)\n",
    "                    G_RA_Array.append(j['details']['ra'])\n",
    "                    G_DEC_Array.append(j['details']['dec'])\n",
    "                    G_Detect_ID.append(Data_Redshift_Confirmed[\"Detectid\"][z_025_035_index][i])\n",
    "                    G_Redshift_Array.append(Data_Redshift_Confirmed[\"z\"][z_025_035_index][i])\n",
    "                    G_Mag_Array.append(j['details']['mag'])\n",
    "                    G_Mag_Err_Array.append(j['details']['mag_err'])\n",
    "                    G_Aperture_Array.append(j['aperture'])\n",
    "\n",
    "                elif j['details'][\"filter_name\"] == \"r\":\n",
    "                    #print(\"r\")\n",
    "                    R_Data_Array.append(j['cutout'].data)\n",
    "                    R_RA_Array.append(j['details']['ra'])\n",
    "                    R_DEC_Array.append(j['details']['dec'])\n",
    "                    R_Detect_ID.append(Data_Redshift_Confirmed[\"Detectid\"][z_025_035_index][i])\n",
    "                    R_Redshift_Array.append(Data_Redshift_Confirmed[\"z\"][z_025_035_index][i])\n",
    "                    R_Mag_Array.append(j['details']['mag'])\n",
    "                    R_Mag_Err_Array.append(j['details']['mag_err'])\n",
    "                    R_Aperture_Array.append(j['aperture'])\n",
    "\n",
    "                elif j['details'][\"filter_name\"] == \"i\":\n",
    "                    I_Data_Array.append(j['cutout'].data)\n",
    "                    I_RA_Array.append(j['details']['ra'])\n",
    "                    I_DEC_Array.append(j['details']['dec'])\n",
    "                    I_Detect_ID.append(Data_Redshift_Confirmed[\"Detectid\"][z_025_035_index][i])\n",
    "                    I_Redshift_Array.append(Data_Redshift_Confirmed[\"z\"][z_025_035_index][i])\n",
    "                    I_Mag_Array.append(j['details']['mag'])\n",
    "                    I_Mag_Err_Array.append(j['details']['mag_err'])\n",
    "                    I_Aperture_Array.append(j['aperture'])\n",
    "\n",
    "                elif j['details'][\"filter_name\"] == \"z\":\n",
    "                    Z_Data_Array.append(j['cutout'].data)\n",
    "                    Z_RA_Array.append(j['details']['ra'])\n",
    "                    Z_DEC_Array.append(j['details']['dec'])\n",
    "                    Z_Detect_ID.append(Data_Redshift_Confirmed[\"Detectid\"][z_025_035_index][i])\n",
    "                    Z_Redshift_Array.append(Data_Redshift_Confirmed[\"z\"][z_025_035_index][i])\n",
    "                    Z_Mag_Array.append(j['details']['mag'])\n",
    "                    Z_Mag_Err_Array.append(j['details']['mag_err'])\n",
    "                    Z_Aperture_Array.append(j['aperture'])\n",
    "\n",
    "                elif j['details'][\"filter_name\"] == \"y\":\n",
    "                    Y_Data_Array.append(j['cutout'].data)\n",
    "                    Y_RA_Array.append(j['details']['ra'])\n",
    "                    Y_DEC_Array.append(j['details']['dec'])\n",
    "                    Y_Detect_ID.append(Data_Redshift_Confirmed[\"Detectid\"][z_025_035_index][i])\n",
    "                    Y_Redshift_Array.append(Data_Redshift_Confirmed[\"z\"][z_025_035_index][i])\n",
    "                    Y_Mag_Array.append(j['details']['mag'])\n",
    "                    Y_Mag_Err_Array.append(j['details']['mag_err'])\n",
    "                    Y_Aperture_Array.append(j['aperture'])\n"
   ]
  },
  {
   "cell_type": "code",
   "execution_count": null,
   "id": "e13ee147-26f6-4940-b4d9-d0854343682d",
   "metadata": {},
   "outputs": [],
   "source": []
  },
  {
   "cell_type": "code",
   "execution_count": null,
   "id": "fd9d0f72-e45d-4e4d-bb90-e02c68b6eccf",
   "metadata": {},
   "outputs": [],
   "source": []
  },
  {
   "cell_type": "code",
   "execution_count": 13,
   "id": "6e4370f2-fcfa-4382-9149-c7902264560c",
   "metadata": {},
   "outputs": [
    {
     "name": "stdout",
     "output_type": "stream",
     "text": [
      "{'data': array([[-0.03036156,  0.22182018,  0.02092066, ...,  0.26957205,\n",
      "        -0.18639667, -0.01530199],\n",
      "       [ 0.0335857 ,  0.2857181 ,  0.3738222 , ..., -0.10977063,\n",
      "         0.12986057, -0.16138849],\n",
      "       [-0.19057709, -0.06714725, -0.0892379 , ..., -0.26274663,\n",
      "        -0.07409967,  0.29469904],\n",
      "       ...,\n",
      "       [-0.10747054, -0.13260393, -0.10244708, ...,  0.00096292,\n",
      "         0.02283954,  0.01992133],\n",
      "       [-0.295577  , -0.15508196,  0.28732786, ..., -0.04211494,\n",
      "        -0.5125423 , -0.25028756],\n",
      "       [-0.00832794,  0.02851345, -0.10552564, ...,  0.23862232,\n",
      "        -0.11296456,  0.4262866 ]], dtype=float32), 'input_position_cutout': (41.98679056256515, 41.19373322046613), 'slices_original': (slice(3484, 3568, None), slice(347, 431, None)), 'slices_cutout': (slice(0, 84, None), slice(0, 84, None)), 'shape': (84, 84), 'input_position_original': (array(388.98679056), array(3525.19373322)), 'shape_input': array([84, 84]), 'bbox_original': ((3484, 3567), (347, 430)), 'ymin_original': 3484, 'ymax_original': 3567, 'xmin_original': 347, 'xmax_original': 430, 'bbox_cutout': ((0, 83), (0, 83)), 'ymin_cutout': 0, 'ymax_cutout': 83, 'xmin_cutout': 0, 'xmax_cutout': 83, 'origin_original': (347, 3484), '_origin_original_true': (347, 3484), 'wcs': WCS Keywords\n",
      "\n",
      "Number of WCS axes: 2\n",
      "CTYPE : 'RA---TAN' 'DEC--TAN' \n",
      "CRVAL : 148.760330578512 2.23140495867768 \n",
      "CRPIX : 17653.0 -5384.0 \n",
      "CD1_1 CD1_2  : -4.66666666666311e-05 0.0 \n",
      "CD2_1 CD2_2  : 0.0 4.66666666666393e-05 \n",
      "NAXIS : 84  84, 'center_cutout': (41.5, 41.5)}\n"
     ]
    }
   ],
   "source": [
    "print(j['cutout'].__dict__)"
   ]
  },
  {
   "cell_type": "code",
   "execution_count": 14,
   "id": "6cd6895c-e61e-4173-aaaa-cdf1312dab53",
   "metadata": {
    "scrolled": true
   },
   "outputs": [
    {
     "name": "stdout",
     "output_type": "stream",
     "text": [
      "[{'cutout': <astropy.nddata.utils.Cutout2D object at 0x7f66968b93a0>, 'hdu': [SIMPLE  =                    T / conforms to FITS standard                      \n",
      "BITPIX  =                  -32 / array data type                                \n",
      "NAXIS   =                    2 / number of array dimensions                     \n",
      "NAXIS1  =                 4100                                                  \n",
      "NAXIS2  =                 4200                                                  \n",
      "WCSAXES =                    2 / Number of WCS axes                             \n",
      "CRPIX1  =               18000. / Reference pixel on axis 1                      \n",
      "CRPIX2  =               10100. / Reference pixel on axis 2                      \n",
      "CRVAL1  =     191.688311688312 / Value at ref. pixel on axis 1                  \n",
      "CRVAL2  =     51.3223140495868 / Value at ref. pixel on axis 2                  \n",
      "CTYPE1  = 'RA---TAN'           / Type of co-ordinate on axis 1                  \n",
      "CTYPE2  = 'DEC--TAN'           / Type of co-ordinate on axis 2                  \n",
      "CD1_1   =  -4.666666666663E-05 / Transformation matrix element                  \n",
      "CD2_2   = 4.66666666666372E-05 / Transformation matrix element                  \n",
      "MJD-OBS =     51544.4992571308 / Modified Julian Date of observation            \n",
      "DATE-OBS= '2000-01-01T11:58:55.816' / Date of observation                       \n",
      "RADESYS = 'ICRS    '           / Reference frame for RA/DEC values              \n",
      "LTV1    =                   0.                                                  \n",
      "LTV2    =               -7900.                                                  \n",
      "INHERIT =                    T                                                  \n",
      "EXTTYPE = 'IMAGE   '                                                            \n",
      "CTYPE1A = 'LINEAR  '           / Type of projection                             \n",
      "CTYPE2A = 'LINEAR  '           / Type of projection                             \n",
      "CRPIX1A =                   1. / Column Pixel Coordinate of Reference           \n",
      "CRPIX2A =                   1. / Row Pixel Coordinate of Reference              \n",
      "CRVAL1A =                   0. / Column pixel of Reference Pixel                \n",
      "CRVAL2A =                7900. / Row pixel of Reference Pixel                   \n",
      "CUNIT1A = 'PIXEL   '           / Column unit                                    \n",
      "CUNIT2A = 'PIXEL   '           / Row unit                                       ], 'path': '/home/jovyan/Hobby-Eberly-Telesco/imaging/hsc/image_tract_patch/16812/calexp-HSC-R-16812-02.fits', 'filter': 'r', 'instrument': 'HSC', 'mag': 20.312458075901027, 'aperture': 1.2565676752202861, 'ap_center': (0.0, 0.0), 'mag_limit': 26.2, 'details': {'catalog_name': 'HSC-DEX', 'filter_name': 'r', 'ra': 192.91899538206894, 'dec': 50.944668730977696, 'radius': 1.2565676752202861, 'mag': 20.312458075901027, 'mag_err': 0.001799204243496888, 'mag_bright': 20.310661848237988, 'mag_faint': 20.314257280144524, 'pixel_scale': 0.167999999999868, 'area_pix': None, 'sky_area_pix': None, 'aperture_counts': 5.383140954406971, 'sky_counts': None, 'sky_average': None, 'aperture_eqw_rest_lya': None, 'aperture_eqw_rest_lya_err': None, 'aperture_plae': None, 'elixer_apertures': [{'idx': 0, 'ra': 192.91905755720333, 'dec': 50.94473473889391, 'radius': 1.5, 'area_pix': 250.44584292049825, 'aperture_counts': 448.4020283669164, 'sky_area_pix': 1248, 'sky_average': 0.021002575984258524, 'sky_counts': 5.260007845879439, 'sky_err': 0.002762173734785277, 'mag': 20.370831078804578, 'mag_err': 0.0016763194763385059, 'mag_bright': 20.369157343487867, 'mag_faint': 20.372507398280916, 'selected': False}], 'elixer_aper_idx': 0, 'sep_objects': [{'idx': 0, 'x': 6.3853872755300225, 'y': -3.9894246658800268, 'ra': 192.9162139850459, 'dec': 50.94365641517937, 'a': 2.674631710050389, 'b': 1.955345701216115, 'theta': -1.0637116432189941, 'background': 0.01081905048340559, 'background_rms': 0.05489145219326019, 'dist_baryctr': 7.529188523555025, 'dist_curve': 6.243885082273125, 'flux_cts': 20.171971572563052, 'flux_cts_err': 1.0181544517381278, 'flags': 16, 'mag': 23.738129131359557, 'mag_faint': 23.794361658766466, 'mag_bright': 23.68466615099132, 'mag_err': 0.05623252740690887, 'selected': False, 'fixed_aper_radius': 1.0, 'fixed_aper_flux_cts': 12.382132508791983, 'fixed_aper_flux_cts_err': 0.557087403572836, 'fixed_aper_flags': 16, 'fixed_aper_mag': 24.268011381616773, 'fixed_aper_mag_bright': 24.22022976472619, 'fixed_aper_mag_faint': 24.317992985056684, 'fixed_aper_mag_err': 0.049981603439910316}, {'idx': 1, 'x': 6.825073264517625, 'y': -3.010572606125223, 'ra': 192.91602742953393, 'dec': 50.94393027623912, 'a': 2.3985500907879103, 'b': 1.3010405788411408, 'theta': -0.8585568070411682, 'background': 0.01081905048340559, 'background_rms': 0.05489145219326019, 'dist_baryctr': 7.459569188819478, 'dist_curve': 6.2940967170119375, 'flux_cts': 17.594919263563575, 'flux_cts_err': 1.0231659067175323, 'flags': 16, 'mag': 23.886531804093753, 'mag_faint': 23.951578847702685, 'mag_bright': 23.825162468260935, 'mag_err': 0.06504704360893143, 'selected': False, 'fixed_aper_radius': 1.0, 'fixed_aper_flux_cts': 9.67477888893336, 'fixed_aper_flux_cts_err': 0.46252360360222305, 'fixed_aper_flags': 16, 'fixed_aper_mag': 24.535897379316154, 'fixed_aper_mag_bright': 24.48519398540142, 'fixed_aper_mag_faint': 24.589085088983357, 'fixed_aper_mag_err': 0.053187709667202654}, {'idx': 2, 'x': 5.990694440407743, 'y': 1.9131733884858837, 'ra': 192.91643146500328, 'dec': 50.945293753525874, 'a': 1.1271886825552668, 'b': 0.8779263553612487, 'theta': 1.3152307271957397, 'background': 0.01081905048340559, 'background_rms': 0.05489145219326019, 'dist_baryctr': 6.288771922461713, 'dist_curve': 5.7988918240165725, 'flux_cts': 7.645425451126822, 'flux_cts_err': 0.7768971099325856, 'flags': 16, 'mag': 24.79149585511393, 'mag_faint': 24.907840763524494, 'mag_bright': 24.68642032458765, 'mag_err': 0.11634490841056433, 'selected': False, 'fixed_aper_radius': 1.0, 'fixed_aper_flux_cts': 4.544321283698082, 'fixed_aper_flux_cts_err': 0.5809165341563117, 'fixed_aper_flags': 0, 'fixed_aper_mag': 25.356327428935465, 'fixed_aper_mag_bright': 25.22571494490706, 'fixed_aper_mag_faint': 25.50482893630007, 'fixed_aper_mag_err': 0.1485015073646032}, {'idx': 3, 'x': 6.468202259372172, 'y': 3.1253928635034915, 'ra': 192.9162299561782, 'dec': 50.945632596481936, 'a': 1.8394073066696974, 'b': 1.1657608737936398, 'theta': -0.19791747629642487, 'background': 0.01081905048340559, 'background_rms': 0.05489145219326019, 'dist_baryctr': 7.183712203268296, 'dist_curve': 6.325411134467721, 'flux_cts': 8.791440067951507, 'flux_cts_err': 0.6958586735446183, 'flags': 16, 'mag': 24.63984995044422, 'mag_faint': 24.72937989095909, 'mag_bright': 24.557143559726597, 'mag_err': 0.08952994051487195, 'selected': False, 'fixed_aper_radius': 1.0, 'fixed_aper_flux_cts': 7.650761910714209, 'fixed_aper_flux_cts_err': 0.5321923813649219, 'fixed_aper_flags': 16, 'fixed_aper_mag': 24.790738282330953, 'fixed_aper_mag_bright': 24.717724686691692, 'fixed_aper_mag_faint': 24.869018171780517, 'fixed_aper_mag_err': 0.07827988944956488}, {'idx': 4, 'x': 0.13705250972780172, 'y': -0.23997988774122359, 'ra': 192.91899538206894, 'dec': 50.944668730977696, 'a': 3.057520900723916, 'b': 2.065676570890711, 'theta': 0.2734907865524292, 'background': 0.01081905048340559, 'background_rms': 0.05489145219326019, 'dist_baryctr': 0.2763579869353868, 'dist_curve': -1.0, 'flux_cts': 473.16952935083117, 'flux_cts_err': 0.783453319921836, 'flags': 0, 'mag': 20.312458075901027, 'mag_faint': 20.314257280144524, 'mag_bright': 20.310661848237988, 'mag_err': 0.001799204243496888, 'selected': True, 'fixed_aper_radius': 1.0, 'fixed_aper_flux_cts': 418.5578445196152, 'fixed_aper_flux_cts_err': 0.5757064151527541, 'fixed_aper_flags': 0, 'fixed_aper_mag': 20.44561128551669, 'fixed_aper_mag_bright': 20.44411893308226, 'fixed_aper_mag_faint': 20.447105692024227, 'fixed_aper_mag_err': 0.0014944065075361834}, {'idx': 5, 'x': -3.4159939980496925, 'y': 2.2442550700505888, 'ra': 192.92057965229947, 'dec': 50.94534213731273, 'a': 3.5676955947847944, 'b': 3.213144435880044, 'theta': 1.082048773765564, 'background': 0.01081905048340559, 'background_rms': 0.05489145219326019, 'dist_baryctr': 4.087260184299415, 'dist_curve': 2.4790370533209343, 'flux_cts': 372.22545905276496, 'flux_cts_err': 1.1383312828402412, 'flags': 0, 'mag': 20.572984814525764, 'mag_faint': 20.576310275374667, 'mag_bright': 20.569669508013202, 'mag_err': 0.003325460848902395, 'selected': False, 'fixed_aper_radius': 1.0, 'fixed_aper_flux_cts': 294.65481346845627, 'fixed_aper_flux_cts_err': 0.5809165341563117, 'fixed_aper_flags': 0, 'fixed_aper_mag': 20.826716149736907, 'fixed_aper_mag_bright': 20.82457771126235, 'fixed_aper_mag_faint': 20.82885880833884, 'fixed_aper_mag_err': 0.0021426586019330784}, {'idx': 6, 'x': 5.510289977796956, 'y': 6.78948097191889, 'ra': 192.91667916506853, 'dec': 50.94664569274856, 'a': 1.3250911960591396, 'b': 0.9557384834282042, 'theta': 0.10436780750751495, 'background': 0.01081905048340559, 'background_rms': 0.05489145219326019, 'dist_baryctr': 8.74416076633191, 'dist_curve': 8.141655736881335, 'flux_cts': 5.383140954406971, 'flux_cts_err': 0.39605526274639685, 'flags': 16, 'mag': 25.172410620719145, 'mag_faint': 25.255382923400553, 'mag_bright': 25.09533139993877, 'mag_err': 0.08297230268140865, 'selected': False, 'fixed_aper_radius': 1.0, 'fixed_aper_flux_cts': 5.427421963773668, 'fixed_aper_flux_cts_err': 0.4721941324300902, 'fixed_aper_flags': 16, 'fixed_aper_mag': 25.163516030437485, 'fixed_aper_mag_bright': 25.07294062035433, 'fixed_aper_mag_faint': 25.262340931846552, 'fixed_aper_mag_err': 0.09882490140906697}], 'sep_obj_idx': 4, 'fail_mag_limit': False, 'raw_mag': None, 'raw_mag_bright': None, 'raw_mag_faint': None, 'raw_mag_err': None, 'exptime': None, 'mag_limit': 26.2}}]\n"
     ]
    }
   ],
   "source": [
    "print(cutouts7)"
   ]
  },
  {
   "cell_type": "code",
   "execution_count": null,
   "id": "1580548d-870e-4e0d-ba53-ef206ba7e2a4",
   "metadata": {},
   "outputs": [],
   "source": [
    "Table_start_a = ([(G_Data_Array[0])])\n",
    "Table_start_b = ([(G_RA_Array[0])])\n",
    "Table_start_c = ([(G_DEC_Array[0])])\n",
    "Table_start_d = ([(G_Detect_ID[0])])\n",
    "Table_start_e = ([(G_Redshift_Array[0])])\n",
    "Table_start_f = ([(G_Mag_Array[0])])\n",
    "Table_start_g = ([(G_Mag_Err_Array[0])])\n",
    "Table_start_h = ([(G_Aperture_Array[0])])\n",
    "\n",
    "Table_b = QTable([Table_start_a, Table_start_b, Table_start_c, Table_start_d, Table_start_e, Table_start_f, Table_start_g, Table_start_h], names=(\"G_Data\",\"G_RA\",\"G_DEC\", \"G_Detect_ID\", \"G_Z\", \"G_Mag\", \"G_Mag_Err\", \"G_Aperture_Array\"))\n"
   ]
  },
  {
   "cell_type": "markdown",
   "id": "b02b3107-5f38-45fc-8ebb-54d4daca6d88",
   "metadata": {},
   "source": [
    "print(len(G_Data_Array), len(R_Data_Array), len(I_Data_Array), len(Z_Data_Array), len(Y_Data_Array))"
   ]
  },
  {
   "cell_type": "code",
   "execution_count": null,
   "id": "dffebb9b-d485-48ab-bd96-b35155144c61",
   "metadata": {},
   "outputs": [],
   "source": [
    "for i in np.arange(1,len(G_RA_Array),1):\n",
    "    a = ([(G_Data_Array[i])])\n",
    "    b = ([(G_RA_Array[i])])\n",
    "    c = ([(G_DEC_Array[i])])\n",
    "    d = ([(G_Detect_ID[i])])\n",
    "    e = ([(G_Redshift_Array[i])])\n",
    "    f = ([(G_Mag_Array[i])])\n",
    "    g = ([(G_Mag_Err_Array[i])])\n",
    "    h = ([(G_Aperture_Array[i])])\n",
    "    \n",
    "    Table_b.add_row([a,b,c,d,e,f,g, h])"
   ]
  },
  {
   "cell_type": "code",
   "execution_count": null,
   "id": "fc1cce47-ba94-4229-8d0d-b65dbf1e42a7",
   "metadata": {},
   "outputs": [],
   "source": [
    "Table_b.write(\"/home/jovyan/work/stampede3/Table_Filters_025_035_G.fits\", overwrite = True)"
   ]
  },
  {
   "cell_type": "code",
   "execution_count": null,
   "id": "31c5e482-9bb5-4286-b41a-20b1cf0ac083",
   "metadata": {},
   "outputs": [],
   "source": []
  },
  {
   "cell_type": "code",
   "execution_count": null,
   "id": "5042c278-cdd7-4957-8698-04cf3a5e617b",
   "metadata": {},
   "outputs": [],
   "source": [
    "Table_start_a = ([(R_Data_Array[0])])\n",
    "Table_start_b = ([(R_RA_Array[0])])\n",
    "Table_start_c = ([(R_DEC_Array[0])])\n",
    "Table_start_d = ([(R_Detect_ID[0])])\n",
    "Table_start_e = ([(R_Redshift_Array[0])])\n",
    "Table_start_f = ([(R_Mag_Array[0])])\n",
    "Table_start_g = ([(R_Mag_Err_Array[0])])\n",
    "Table_start_h = ([(R_Aperture_Array[0])])\n",
    "\n",
    "Table_b = QTable([Table_start_a, Table_start_b, Table_start_c, Table_start_d, Table_start_e, Table_start_f, Table_start_g, Table_start_h], names=(\"R_Data\",\"R_RA\",\"R_DEC\", \"R_Detect_ID\", \"R_Z\", \"R_Mag\", \"R_Mag_Err\", \"R_Aperture_Array\"))\n"
   ]
  },
  {
   "cell_type": "code",
   "execution_count": null,
   "id": "7a8f5df6-5a63-45bc-8aca-fa91fa150ef4",
   "metadata": {},
   "outputs": [],
   "source": [
    "print(R_Mag_Array)\n",
    "print(\"\")\n",
    "print(R_Mag_Err_Array)"
   ]
  },
  {
   "cell_type": "code",
   "execution_count": null,
   "id": "dcf6dd98-9b53-4689-8b37-769698501079",
   "metadata": {},
   "outputs": [],
   "source": [
    "for i in np.arange(1,len(R_RA_Array),1):\n",
    "    a = ([(R_Data_Array[i])])\n",
    "    b = ([(R_RA_Array[i])])\n",
    "    c = ([(R_DEC_Array[i])])\n",
    "    d = ([(R_Detect_ID[i])])\n",
    "    e = ([(R_Redshift_Array[i])])\n",
    "    f = ([(R_Mag_Array[i])])\n",
    "    g = ([(R_Mag_Err_Array[i])])\n",
    "    h = ([(R_Aperture_Array[i])])\n",
    "\n",
    "\n",
    "    Table_b.add_row([a,b,c,d,e,f,g,h])"
   ]
  },
  {
   "cell_type": "code",
   "execution_count": null,
   "id": "1422b6c5-ed76-44cf-ae0d-c126f3ecb403",
   "metadata": {},
   "outputs": [],
   "source": [
    "Table_b.write(\"/home/jovyan/work/stampede3/Table_Filters_025_035_R.fits\", overwrite = True)"
   ]
  },
  {
   "cell_type": "code",
   "execution_count": null,
   "id": "29380a16-f997-467a-86ab-b7acd7e75757",
   "metadata": {},
   "outputs": [],
   "source": []
  },
  {
   "cell_type": "code",
   "execution_count": null,
   "id": "71af3d2d-10a7-4ab6-993f-2581ef93272e",
   "metadata": {},
   "outputs": [],
   "source": [
    "Table_start_a = ([(I_Data_Array[0])])\n",
    "Table_start_b = ([(I_RA_Array[0])])\n",
    "Table_start_c = ([(I_DEC_Array[0])])\n",
    "Table_start_d = ([(I_Detect_ID[0])])\n",
    "Table_start_e = ([(I_Redshift_Array[0])])\n",
    "Table_start_f = ([(I_Mag_Array[0])])\n",
    "Table_start_g = ([(I_Mag_Err_Array[0])])\n",
    "Table_start_h = ([(I_Aperture_Array[0])])\n",
    "\n",
    "Table_b = QTable([Table_start_a, Table_start_b, Table_start_c, Table_start_d, Table_start_e, Table_start_f, Table_start_g, Table_start_h], names=(\"I_Data\",\"I_RA\",\"I_DEC\", \"I_Detect_ID\", \"I_Z\", \"I_Mag\", \"I_Mag_Err\", \"I_Aperture_Array\"))\n"
   ]
  },
  {
   "cell_type": "code",
   "execution_count": null,
   "id": "f45dd796-9a7d-4f5b-a569-37add64b3da2",
   "metadata": {},
   "outputs": [],
   "source": [
    "for i in np.arange(1,len(I_RA_Array),1):\n",
    "    a = ([(I_Data_Array[i])])\n",
    "    b = ([(I_RA_Array[i])])\n",
    "    c = ([(I_DEC_Array[i])])\n",
    "    d = ([(I_Detect_ID[i])])\n",
    "    e = ([(I_Redshift_Array[i])])\n",
    "    f = ([(I_Mag_Array[i])])\n",
    "    g = ([(I_Mag_Err_Array[i])])\n",
    "    h = ([(I_Aperture_Array[0])])\n",
    "\n",
    "    Table_b.add_row([a,b,c,d,e,f,g,h])"
   ]
  },
  {
   "cell_type": "code",
   "execution_count": null,
   "id": "e9616065-9d21-4865-bd92-c6c0feb003eb",
   "metadata": {},
   "outputs": [],
   "source": [
    "Table_b.write(\"/home/jovyan/work/stampede3/Table_Filters_025_035_I.fits\", overwrite = True)"
   ]
  },
  {
   "cell_type": "code",
   "execution_count": null,
   "id": "d665cf85-8f63-4adb-9bff-3db5f93372e2",
   "metadata": {},
   "outputs": [],
   "source": []
  },
  {
   "cell_type": "code",
   "execution_count": null,
   "id": "5090a4c2-4b6d-47ae-88e9-74442673f63c",
   "metadata": {},
   "outputs": [],
   "source": [
    "Table_start_a = ([(Z_Data_Array[0])])\n",
    "Table_start_b = ([(Z_RA_Array[0])])\n",
    "Table_start_c = ([(Z_DEC_Array[0])])\n",
    "Table_start_d = ([(Z_Detect_ID[0])])\n",
    "Table_start_e = ([(Z_Redshift_Array[0])])\n",
    "Table_start_f = ([(Z_Mag_Array[0])])\n",
    "Table_start_g = ([(Z_Mag_Err_Array[0])])\n",
    "Table_start_h = ([(Z_Aperture_Array[0])])\n",
    "\n",
    "Table_b = QTable([Table_start_a, Table_start_b, Table_start_c, Table_start_d, Table_start_e, Table_start_f, Table_start_g, Table_start_h], names=(\"Z_Data\",\"Z_RA\",\"Z_DEC\", \"Z_Detect_ID\", \"Z_Z\", \"Z_Mag\", \"Z_Mag_Err\", \"Z_Aperture_Array\"))\n"
   ]
  },
  {
   "cell_type": "code",
   "execution_count": null,
   "id": "1c010617-e208-4a26-ba02-96600207f5d8",
   "metadata": {},
   "outputs": [],
   "source": [
    "for i in np.arange(1,len(Z_RA_Array),1):\n",
    "    a = ([(Z_Data_Array[i])])\n",
    "    b = ([(Z_RA_Array[i])])\n",
    "    c = ([(Z_DEC_Array[i])])\n",
    "    d = ([(Z_Detect_ID[i])])\n",
    "    e = ([(Z_Redshift_Array[i])])\n",
    "    f = ([(Z_Mag_Array[i])])\n",
    "    g = ([(Z_Mag_Err_Array[i])])\n",
    "    h = ([(Z_Aperture_Array[0])])\n",
    "\n",
    "    Table_b.add_row([a,b,c,d,e,f,g,h])"
   ]
  },
  {
   "cell_type": "code",
   "execution_count": null,
   "id": "15b6c851-ba4f-4c7e-823f-cb42d3e24d6f",
   "metadata": {},
   "outputs": [],
   "source": [
    "Table_b.write(\"/home/jovyan/work/stampede3/Table_Filters_025_035_Z.fits\", overwrite = True)"
   ]
  },
  {
   "cell_type": "code",
   "execution_count": null,
   "id": "bb08ae57-12e6-480e-99e8-9a7929775bfd",
   "metadata": {},
   "outputs": [],
   "source": []
  },
  {
   "cell_type": "code",
   "execution_count": null,
   "id": "9460c3a2-ea01-40cb-883b-e6c61b6f9a9a",
   "metadata": {},
   "outputs": [],
   "source": [
    "Table_start_a = ([(Y_Data_Array[0])])\n",
    "Table_start_b = ([(Y_RA_Array[0])])\n",
    "Table_start_c = ([(Y_DEC_Array[0])])\n",
    "Table_start_d = ([(Y_Detect_ID[0])])\n",
    "Table_start_e = ([(Y_Redshift_Array[0])])\n",
    "Table_start_f = ([(Y_Mag_Array[0])])\n",
    "Table_start_g = ([(Y_Mag_Err_Array[0])])\n",
    "Table_start_h = ([(Y_Aperture_Array[0])])\n",
    "\n",
    "Table_b = QTable([Table_start_a, Table_start_b, Table_start_c, Table_start_d, Table_start_e, Table_start_f, Table_start_g, Table_start_h], names=(\"Y_Data\",\"Y_RA\",\"Y_DEC\", \"Y_Detect_ID\", \"Y_Z\", \"Y_Mag\", \"Y_Mag_Err\", \"Y_Aperture_Array\"))\n"
   ]
  },
  {
   "cell_type": "code",
   "execution_count": null,
   "id": "951d3c23-1388-4134-ab4f-eca66ffa923e",
   "metadata": {},
   "outputs": [],
   "source": [
    "for i in np.arange(1,len(Y_RA_Array),1):\n",
    "    a = ([(Y_Data_Array[i])])\n",
    "    b = ([(Y_RA_Array[i])])\n",
    "    c = ([(Y_DEC_Array[i])])\n",
    "    d = ([(Y_Detect_ID[i])])\n",
    "    e = ([(Y_Redshift_Array[i])])\n",
    "    f = ([(Y_Mag_Array[i])])\n",
    "    g = ([(Y_Mag_Err_Array[i])])\n",
    "    h = ([(Y_Aperture_Array[0])])\n",
    "\n",
    "    Table_b.add_row([a,b,c,d,e,f,g,h])"
   ]
  },
  {
   "cell_type": "code",
   "execution_count": null,
   "id": "f0f95b6b-5f0c-49df-95aa-d09680ce1ca3",
   "metadata": {},
   "outputs": [],
   "source": [
    "Table_b.write(\"/home/jovyan/work/stampede3/Table_Filters_025_035_Y.fits\", overwrite = True)"
   ]
  },
  {
   "cell_type": "markdown",
   "id": "c40f0e9f-948d-4cc5-842e-3170cfd9bb05",
   "metadata": {},
   "source": []
  },
  {
   "cell_type": "markdown",
   "id": "e7987c73-6b21-4ea2-af24-48bfd94c92e6",
   "metadata": {},
   "source": [
    "<hr style=\"border:4px solid blue\">"
   ]
  },
  {
   "cell_type": "markdown",
   "id": "256f6794-3bac-4574-84d8-0e5a2186d245",
   "metadata": {},
   "source": []
  },
  {
   "cell_type": "code",
   "execution_count": 34,
   "id": "35c2516b-cb48-4aa4-a150-6895b1dcbc7a",
   "metadata": {
    "scrolled": true
   },
   "outputs": [],
   "source": [
    "G_Data_Array = []\n",
    "G_RA_Array = []\n",
    "G_DEC_Array = []\n",
    "G_Detect_ID = []\n",
    "G_Redshift_Array = []\n",
    "G_Mag_Array = []\n",
    "G_Mag_Err_Array = []\n",
    "G_Aperture_Array = []\n",
    "\n",
    "R_Data_Array = []\n",
    "R_RA_Array = []\n",
    "R_DEC_Array = []\n",
    "R_Detect_ID = []\n",
    "R_Redshift_Array = []\n",
    "R_Mag_Array = []\n",
    "R_Mag_Err_Array = []\n",
    "R_Aperture_Array = []\n",
    "\n",
    "I_Data_Array = []\n",
    "I_RA_Array = []\n",
    "I_DEC_Array = []\n",
    "I_Detect_ID = []\n",
    "I_Redshift_Array = []\n",
    "I_Mag_Array = []\n",
    "I_Mag_Err_Array = []\n",
    "I_Aperture_Array = []\n",
    "\n",
    "Z_Data_Array = []\n",
    "Z_RA_Array = []\n",
    "Z_DEC_Array = []\n",
    "Z_Detect_ID = []\n",
    "Z_Redshift_Array = []\n",
    "Z_Mag_Array = []\n",
    "Z_Mag_Err_Array = []\n",
    "Z_Aperture_Array = []\n",
    "\n",
    "Y_Data_Array = []\n",
    "Y_RA_Array = []\n",
    "Y_DEC_Array = []\n",
    "Y_Detect_ID = []\n",
    "Y_Redshift_Array = []\n",
    "Y_Mag_Array = []\n",
    "Y_Mag_Err_Array = []\n",
    "Y_Aperture_Array = []\n",
    "\n",
    "\n",
    "\n",
    "for i in np.arange(len(Data_Redshift_Confirmed[\"RA\"][z_035_045_index])): \n",
    "\n",
    "#for i in np.arange(10): \n",
    "    coord7 = SkyCoord(Data_Redshift_Confirmed[\"RA\"][z_035_045_index][i], Data_Redshift_Confirmed[\"DEC\"][z_035_045_index][i], unit = 'deg')\n",
    "    cutouts7 = catlib.get_cutouts(position=coord7,radius=7.,aperture=1.5,dynamic=False,first=False,nudge=False,filter=None)\n",
    "\n",
    "    #print(cutouts7)\n",
    "    if len(cutouts7) > 0:\n",
    "        cutout = cutouts7[0] \n",
    "        #print(cutout['instrument'])\n",
    "        \n",
    "        if cutout['instrument'] == \"HSC SSP\":\n",
    "            for j in cutouts7:\n",
    "                #print(j['details'][\"filter_name\"])\n",
    "                \n",
    "                if j['details'][\"filter_name\"] == \"g\":\n",
    "                    #print(\"g\")\n",
    "                    #print(j['cutout'].error)\n",
    "                    G_Data_Array.append(j['cutout'].data)\n",
    "                    G_RA_Array.append(j['details']['ra'])\n",
    "                    G_DEC_Array.append(j['details']['dec'])\n",
    "                    G_Detect_ID.append(Data_Redshift_Confirmed[\"Detectid\"][z_035_045_index][i])\n",
    "                    G_Redshift_Array.append(Data_Redshift_Confirmed[\"z\"][z_035_045_index][i])\n",
    "                    G_Mag_Array.append(j['details']['mag'])\n",
    "                    G_Mag_Err_Array.append(j['details']['mag_err'])\n",
    "                    G_Aperture_Array.append(j['aperture'])\n",
    "\n",
    "\n",
    "                elif j['details'][\"filter_name\"] == \"r\":\n",
    "                    #print(\"r\")\n",
    "                    R_Data_Array.append(j['cutout'].data)\n",
    "                    R_RA_Array.append(j['details']['ra'])\n",
    "                    R_DEC_Array.append(j['details']['dec'])\n",
    "                    R_Detect_ID.append(Data_Redshift_Confirmed[\"Detectid\"][z_035_045_index][i])\n",
    "                    R_Redshift_Array.append(Data_Redshift_Confirmed[\"z\"][z_035_045_index][i])\n",
    "                    R_Mag_Array.append(j['details']['mag'])\n",
    "                    R_Mag_Err_Array.append(j['details']['mag_err'])\n",
    "                    R_Aperture_Array.append(j['aperture'])\n",
    "\n",
    "                elif j['details'][\"filter_name\"] == \"i\":\n",
    "                    I_Data_Array.append(j['cutout'].data)\n",
    "                    I_RA_Array.append(j['details']['ra'])\n",
    "                    I_DEC_Array.append(j['details']['dec'])\n",
    "                    I_Detect_ID.append(Data_Redshift_Confirmed[\"Detectid\"][z_035_045_index][i])\n",
    "                    I_Redshift_Array.append(Data_Redshift_Confirmed[\"z\"][z_035_045_index][i])\n",
    "                    I_Mag_Array.append(j['details']['mag'])\n",
    "                    I_Mag_Err_Array.append(j['details']['mag_err'])\n",
    "                    I_Aperture_Array.append(j['aperture'])\n",
    "\n",
    "                elif j['details'][\"filter_name\"] == \"z\":\n",
    "                    Z_Data_Array.append(j['cutout'].data)\n",
    "                    Z_RA_Array.append(j['details']['ra'])\n",
    "                    Z_DEC_Array.append(j['details']['dec'])\n",
    "                    Z_Detect_ID.append(Data_Redshift_Confirmed[\"Detectid\"][z_035_045_index][i])\n",
    "                    Z_Redshift_Array.append(Data_Redshift_Confirmed[\"z\"][z_035_045_index][i])\n",
    "                    Z_Mag_Array.append(j['details']['mag'])\n",
    "                    Z_Mag_Err_Array.append(j['details']['mag_err'])\n",
    "                    Z_Aperture_Array.append(j['aperture'])\n",
    "\n",
    "                elif j['details'][\"filter_name\"] == \"y\":\n",
    "                    Y_Data_Array.append(j['cutout'].data)\n",
    "                    Y_RA_Array.append(j['details']['ra'])\n",
    "                    Y_DEC_Array.append(j['details']['dec'])\n",
    "                    Y_Detect_ID.append(Data_Redshift_Confirmed[\"Detectid\"][z_035_045_index][i])\n",
    "                    Y_Redshift_Array.append(Data_Redshift_Confirmed[\"z\"][z_035_045_index][i])\n",
    "                    Y_Mag_Array.append(j['details']['mag'])\n",
    "                    Y_Mag_Err_Array.append(j['details']['mag_err'])\n",
    "                    Y_Aperture_Array.append(j['aperture'])\n"
   ]
  },
  {
   "cell_type": "code",
   "execution_count": 35,
   "id": "d5044380-b30f-48c3-b0e9-849b6f74a533",
   "metadata": {},
   "outputs": [],
   "source": [
    "Table_start_a = ([(G_Data_Array[0])])\n",
    "Table_start_b = ([(G_RA_Array[0])])\n",
    "Table_start_c = ([(G_DEC_Array[0])])\n",
    "Table_start_d = ([(G_Detect_ID[0])])\n",
    "Table_start_e = ([(G_Redshift_Array[0])])\n",
    "Table_start_f = ([(G_Mag_Array[0])])\n",
    "Table_start_g = ([(G_Mag_Err_Array[0])])\n",
    "Table_start_h = ([(G_Aperture_Array[0])])\n",
    "\n",
    "\n",
    "Table_b = QTable([Table_start_a, Table_start_b, Table_start_c, Table_start_d, Table_start_e, Table_start_f, Table_start_g, Table_start_h], names=(\"G_Data\",\"G_RA\",\"G_DEC\", \"G_Detect_ID\", \"G_Z\", \"G_Mag\", \"G_Mag_Err\", \"G_Aperture_Array\"))\n"
   ]
  },
  {
   "cell_type": "code",
   "execution_count": 36,
   "id": "728e6183-3252-4559-8bbe-97c3c733098c",
   "metadata": {},
   "outputs": [],
   "source": [
    "for i in np.arange(1,len(G_RA_Array),1):\n",
    "    a = ([(G_Data_Array[i])])\n",
    "    b = ([(G_RA_Array[i])])\n",
    "    c = ([(G_DEC_Array[i])])\n",
    "    d = ([(G_Detect_ID[i])])\n",
    "    e = ([(G_Redshift_Array[i])])\n",
    "    f = ([(G_Mag_Array[i])])\n",
    "    g = ([(G_Mag_Err_Array[i])])\n",
    "    h = ([(G_Aperture_Array[i])])\n",
    "\n",
    "    Table_b.add_row([a,b,c,d,e,f,g,h])"
   ]
  },
  {
   "cell_type": "code",
   "execution_count": 37,
   "id": "14ec7954-8165-46fb-af36-1925aa05a3b6",
   "metadata": {},
   "outputs": [],
   "source": [
    "Table_b.write(\"/home/jovyan/work/stampede3/Table_Filters_035_045_G.fits\", overwrite = True)"
   ]
  },
  {
   "cell_type": "markdown",
   "id": "13aa2fe1-fb0b-4de1-a272-d7e01c034313",
   "metadata": {},
   "source": []
  },
  {
   "cell_type": "code",
   "execution_count": 38,
   "id": "6a1a7fc3-471f-438f-ad8a-8a9a96d9a006",
   "metadata": {},
   "outputs": [],
   "source": [
    "Table_start_a = ([(R_Data_Array[0])])\n",
    "Table_start_b = ([(R_RA_Array[0])])\n",
    "Table_start_c = ([(R_DEC_Array[0])])\n",
    "Table_start_d = ([(R_Detect_ID[0])])\n",
    "Table_start_e = ([(R_Redshift_Array[0])])\n",
    "Table_start_f = ([(R_Mag_Array[0])])\n",
    "Table_start_g = ([(R_Mag_Err_Array[0])])\n",
    "Table_start_h = ([(R_Aperture_Array[0])])\n",
    "\n",
    "\n",
    "Table_b = QTable([Table_start_a, Table_start_b, Table_start_c, Table_start_d, Table_start_e, Table_start_f, Table_start_g, Table_start_h], names=(\"R_Data\",\"R_RA\",\"R_DEC\", \"R_Detect_ID\", \"R_Z\", \"R_Mag\", \"R_Mag_Err\", \"R_Aperture_Array\"))\n"
   ]
  },
  {
   "cell_type": "code",
   "execution_count": 39,
   "id": "2ebb193c-1c2f-4b32-a4a9-fb74d0ef2e86",
   "metadata": {},
   "outputs": [
    {
     "name": "stdout",
     "output_type": "stream",
     "text": [
      "88 88 74 85 61\n"
     ]
    }
   ],
   "source": [
    "print(len(G_Data_Array), len(R_Data_Array), len(I_Data_Array), len(Z_Data_Array), len(Y_Data_Array))"
   ]
  },
  {
   "cell_type": "code",
   "execution_count": 40,
   "id": "ce1f9a25-90c8-437f-90e8-093b520dce28",
   "metadata": {},
   "outputs": [],
   "source": [
    "for i in np.arange(1,len(R_RA_Array),1):\n",
    "    a = ([(R_Data_Array[i])])\n",
    "    b = ([(R_RA_Array[i])])\n",
    "    c = ([(R_DEC_Array[i])])\n",
    "    d = ([(R_Detect_ID[i])])\n",
    "    e = ([(R_Redshift_Array[i])])\n",
    "    f = ([(R_Mag_Array[i])])\n",
    "    g = ([(R_Mag_Err_Array[i])])\n",
    "    h = ([(R_Aperture_Array[i])])\n",
    "\n",
    "    Table_b.add_row([a,b,c,d,e,f,g,h])"
   ]
  },
  {
   "cell_type": "code",
   "execution_count": 41,
   "id": "d1c60fd6-6e26-4276-b65b-c2da179de46d",
   "metadata": {},
   "outputs": [],
   "source": [
    "Table_b.write(\"/home/jovyan/work/stampede3/Table_Filters_035_045_R.fits\", overwrite = True)"
   ]
  },
  {
   "cell_type": "markdown",
   "id": "8cdc3ca5-a458-40fc-8c41-dc5f2f6afb26",
   "metadata": {},
   "source": []
  },
  {
   "cell_type": "code",
   "execution_count": 42,
   "id": "da8fa0dd-f3f4-4498-ae3b-aa56b2b7331b",
   "metadata": {},
   "outputs": [],
   "source": [
    "Table_start_a = ([(I_Data_Array[0])])\n",
    "Table_start_b = ([(I_RA_Array[0])])\n",
    "Table_start_c = ([(I_DEC_Array[0])])\n",
    "Table_start_d = ([(I_Detect_ID[0])])\n",
    "Table_start_e = ([(I_Redshift_Array[0])])\n",
    "Table_start_f = ([(I_Mag_Array[0])])\n",
    "Table_start_g = ([(I_Mag_Err_Array[0])])\n",
    "Table_start_h = ([(I_Aperture_Array[0])])\n",
    "\n",
    "\n",
    "Table_b = QTable([Table_start_a, Table_start_b, Table_start_c, Table_start_d, Table_start_e, Table_start_f, Table_start_g, Table_start_h], names=(\"I_Data\",\"I_RA\",\"I_DEC\", \"I_Detect_ID\", \"I_Z\", \"I_Mag\", \"I_Mag_Err\", \"I_Aperture_Array\"))\n"
   ]
  },
  {
   "cell_type": "code",
   "execution_count": 43,
   "id": "30a4e49e-683c-415d-bd3e-ef5972d9e064",
   "metadata": {},
   "outputs": [],
   "source": [
    "for i in np.arange(1,len(I_RA_Array),1):\n",
    "    a = ([(I_Data_Array[i])])\n",
    "    b = ([(I_RA_Array[i])])\n",
    "    c = ([(I_DEC_Array[i])])\n",
    "    d = ([(I_Detect_ID[i])])\n",
    "    e = ([(I_Redshift_Array[i])])\n",
    "    f = ([(I_Mag_Array[i])])\n",
    "    g = ([(I_Mag_Err_Array[i])])\n",
    "    h = ([(I_Aperture_Array[i])])\n",
    "\n",
    "    Table_b.add_row([a,b,c,d,e,f,g,h])"
   ]
  },
  {
   "cell_type": "code",
   "execution_count": 44,
   "id": "92b41625-1ebe-497c-9e85-c4337d1a8d93",
   "metadata": {},
   "outputs": [],
   "source": [
    "Table_b.write(\"/home/jovyan/work/stampede3/Table_Filters_035_045_I.fits\", overwrite = True)"
   ]
  },
  {
   "cell_type": "markdown",
   "id": "84cebd72-13c3-45f2-a6cd-c492075dfb7b",
   "metadata": {},
   "source": []
  },
  {
   "cell_type": "code",
   "execution_count": 45,
   "id": "533fb318-4ae2-4d79-8e42-75815e85c6a0",
   "metadata": {},
   "outputs": [],
   "source": [
    "Table_start_a = ([(Z_Data_Array[0])])\n",
    "Table_start_b = ([(Z_RA_Array[0])])\n",
    "Table_start_c = ([(Z_DEC_Array[0])])\n",
    "Table_start_d = ([(Z_Detect_ID[0])])\n",
    "Table_start_e = ([(Z_Redshift_Array[0])])\n",
    "Table_start_f = ([(Z_Mag_Array[0])])\n",
    "Table_start_g = ([(Z_Mag_Err_Array[0])])\n",
    "Table_start_h = ([(Z_Aperture_Array[0])])\n",
    "\n",
    "\n",
    "Table_b = QTable([Table_start_a, Table_start_b, Table_start_c, Table_start_d, Table_start_e, Table_start_f, Table_start_g, Table_start_h], names=(\"Z_Data\",\"Z_RA\",\"Z_DEC\", \"Z_Detect_ID\", \"Z_Z\", \"Z_Mag\", \"Z_Mag_Err\", \"Z_Aperture_Array\"))\n"
   ]
  },
  {
   "cell_type": "code",
   "execution_count": 46,
   "id": "211affba-350f-499d-8c9b-ea264ed61e9c",
   "metadata": {},
   "outputs": [],
   "source": [
    "for i in np.arange(1,len(Z_RA_Array),1):\n",
    "    a = ([(Z_Data_Array[i])])\n",
    "    b = ([(Z_RA_Array[i])])\n",
    "    c = ([(Z_DEC_Array[i])])\n",
    "    d = ([(Z_Detect_ID[i])])\n",
    "    e = ([(Z_Redshift_Array[i])])\n",
    "    f = ([(Z_Mag_Array[i])])\n",
    "    g = ([(Z_Mag_Err_Array[i])])\n",
    "    h = ([(Z_Aperture_Array[i])])\n",
    "\n",
    "    Table_b.add_row([a,b,c,d,e,f,g,h])"
   ]
  },
  {
   "cell_type": "code",
   "execution_count": 47,
   "id": "dcce6e61-b77a-4785-8960-de35444913d4",
   "metadata": {},
   "outputs": [],
   "source": [
    "Table_b.write(\"/home/jovyan/work/stampede3/Table_Filters_035_045_Z.fits\", overwrite = True)"
   ]
  },
  {
   "cell_type": "code",
   "execution_count": null,
   "id": "165af933-1018-4818-8169-99f93e926c4e",
   "metadata": {},
   "outputs": [],
   "source": []
  },
  {
   "cell_type": "code",
   "execution_count": 48,
   "id": "837161bf-26fc-4e08-9796-eb8e04999915",
   "metadata": {},
   "outputs": [],
   "source": [
    "Table_start_a = ([(Y_Data_Array[0])])\n",
    "Table_start_b = ([(Y_RA_Array[0])])\n",
    "Table_start_c = ([(Y_DEC_Array[0])])\n",
    "Table_start_d = ([(Y_Detect_ID[0])])\n",
    "Table_start_e = ([(Y_Redshift_Array[0])])\n",
    "Table_start_f = ([(Y_Mag_Array[0])])\n",
    "Table_start_g = ([(Y_Mag_Err_Array[0])])\n",
    "Table_start_h = ([(Y_Aperture_Array[0])])\n",
    "\n",
    "\n",
    "Table_b = QTable([Table_start_a, Table_start_b, Table_start_c, Table_start_d, Table_start_e, Table_start_f, Table_start_g, Table_start_h], names=(\"Y_Data\",\"Y_RA\",\"Y_DEC\", \"Y_Detect_ID\", \"Y_Z\", \"Y_Mag\", \"Y_Mag_Err\", \"Y_Aperture_Array\"))\n"
   ]
  },
  {
   "cell_type": "code",
   "execution_count": 49,
   "id": "1203141e-d254-457b-ba37-c9e63edc31cd",
   "metadata": {},
   "outputs": [],
   "source": [
    "for i in np.arange(1,len(Y_RA_Array),1):\n",
    "    a = ([(Y_Data_Array[i])])\n",
    "    b = ([(Y_RA_Array[i])])\n",
    "    c = ([(Y_DEC_Array[i])])\n",
    "    d = ([(Y_Detect_ID[i])])\n",
    "    e = ([(Y_Redshift_Array[i])])\n",
    "    f = ([(Y_Mag_Array[i])])\n",
    "    g = ([(Y_Mag_Err_Array[i])])\n",
    "    h = ([(Y_Aperture_Array[i])])\n",
    "\n",
    "    Table_b.add_row([a,b,c,d,e,f,g,h])"
   ]
  },
  {
   "cell_type": "code",
   "execution_count": 50,
   "id": "5692a2cb-7ff5-4de0-8a28-14aec8636297",
   "metadata": {},
   "outputs": [],
   "source": [
    "Table_b.write(\"/home/jovyan/work/stampede3/Table_Filters_035_045_Y.fits\", overwrite = True)"
   ]
  },
  {
   "cell_type": "markdown",
   "id": "a2212809-ef29-4563-a5be-506cf4d26128",
   "metadata": {},
   "source": []
  },
  {
   "cell_type": "markdown",
   "id": "db07142f-de86-49c8-9086-93c453a51721",
   "metadata": {},
   "source": [
    "<hr style=\"border:4px solid blue\">"
   ]
  },
  {
   "cell_type": "markdown",
   "id": "7390e701-d18a-44dc-9072-fbb5efd929b6",
   "metadata": {},
   "source": []
  },
  {
   "cell_type": "code",
   "execution_count": null,
   "id": "92bb727e-d512-4e20-b1a9-bac8051dbc38",
   "metadata": {
    "scrolled": true
   },
   "outputs": [],
   "source": [
    "G_Data_Array = []\n",
    "G_RA_Array = []\n",
    "G_DEC_Array = []\n",
    "G_Detect_ID = []\n",
    "G_Redshift_Array = []\n",
    "G_Mag_Array = []\n",
    "G_Mag_Err_Array = []\n",
    "G_Aperture_Array = []\n",
    "\n",
    "R_Data_Array = []\n",
    "R_RA_Array = []\n",
    "R_DEC_Array = []\n",
    "R_Detect_ID = []\n",
    "R_Redshift_Array = []\n",
    "R_Mag_Array = []\n",
    "R_Mag_Err_Array = []\n",
    "R_Aperture_Array = []\n",
    "\n",
    "I_Data_Array = []\n",
    "I_RA_Array = []\n",
    "I_DEC_Array = []\n",
    "I_Detect_ID = []\n",
    "I_Redshift_Array = []\n",
    "I_Mag_Array = []\n",
    "I_Mag_Err_Array = []\n",
    "I_Aperture_Array = []\n",
    "\n",
    "Z_Data_Array = []\n",
    "Z_RA_Array = []\n",
    "Z_DEC_Array = []\n",
    "Z_Detect_ID = []\n",
    "Z_Redshift_Array = []\n",
    "Z_Mag_Array = []\n",
    "Z_Mag_Err_Array = []\n",
    "Z_Aperture_Array = []\n",
    "\n",
    "Y_Data_Array = []\n",
    "Y_RA_Array = []\n",
    "Y_DEC_Array = []\n",
    "Y_Detect_ID = []\n",
    "Y_Redshift_Array = []\n",
    "Y_Mag_Array = []\n",
    "Y_Mag_Err_Array = []\n",
    "Y_Aperture_Array = []\n",
    "\n",
    "\n",
    "\n",
    "\n",
    "\n",
    "for i in np.arange(len(Data_Redshift_Confirmed[\"RA\"][z_045_055_index])): \n",
    "\n",
    "#for i in np.arange(10): \n",
    "    coord7 = SkyCoord(Data_Redshift_Confirmed[\"RA\"][z_045_055_index][i], Data_Redshift_Confirmed[\"DEC\"][z_045_055_index][i], unit = 'deg')\n",
    "    cutouts7 = catlib.get_cutouts(position=coord7,radius=7.,aperture=1.5,dynamic=False,first=False,nudge=False,filter=None)\n",
    "\n",
    "    #print(cutouts7)\n",
    "    if len(cutouts7) > 0:\n",
    "        cutout = cutouts7[0] \n",
    "        #print(cutout['instrument'])\n",
    "        \n",
    "        if cutout['instrument'] == \"HSC SSP\":\n",
    "            for j in cutouts7:\n",
    "                #print(j['details'][\"filter_name\"])\n",
    "                \n",
    "                if j['details'][\"filter_name\"] == \"g\":\n",
    "                    #print(\"g\")\n",
    "                    #print(j['cutout'].error)\n",
    "                    G_Data_Array.append(j['cutout'].data)\n",
    "                    G_RA_Array.append(j['details']['ra'])\n",
    "                    G_DEC_Array.append(j['details']['dec'])\n",
    "                    G_Detect_ID.append(Data_Redshift_Confirmed[\"Detectid\"][z_045_055_index][i])\n",
    "                    G_Redshift_Array.append(Data_Redshift_Confirmed[\"z\"][z_045_055_index][i])\n",
    "                    G_Mag_Array.append(j['details']['mag'])\n",
    "                    G_Mag_Err_Array.append(j['details']['mag_err'])\n",
    "                    G_Aperture_Array.append(j['aperture'])\n",
    "\n",
    "\n",
    "                elif j['details'][\"filter_name\"] == \"r\":\n",
    "                    #print(\"r\")\n",
    "                    R_Data_Array.append(j['cutout'].data)\n",
    "                    R_RA_Array.append(j['details']['ra'])\n",
    "                    R_DEC_Array.append(j['details']['dec'])\n",
    "                    R_Detect_ID.append(Data_Redshift_Confirmed[\"Detectid\"][z_045_055_index][i])\n",
    "                    R_Redshift_Array.append(Data_Redshift_Confirmed[\"z\"][z_045_055_index][i])\n",
    "                    R_Mag_Array.append(j['details']['mag'])\n",
    "                    R_Mag_Err_Array.append(j['details']['mag_err'])\n",
    "                    R_Aperture_Array.append(j['aperture'])\n",
    "\n",
    "                elif j['details'][\"filter_name\"] == \"i\":\n",
    "                    I_Data_Array.append(j['cutout'].data)\n",
    "                    I_RA_Array.append(j['details']['ra'])\n",
    "                    I_DEC_Array.append(j['details']['dec'])\n",
    "                    I_Detect_ID.append(Data_Redshift_Confirmed[\"Detectid\"][z_045_055_index][i])\n",
    "                    I_Redshift_Array.append(Data_Redshift_Confirmed[\"z\"][z_045_055_index][i])\n",
    "                    I_Mag_Array.append(j['details']['mag'])\n",
    "                    I_Mag_Err_Array.append(j['details']['mag_err'])\n",
    "                    I_Aperture_Array.append(j['aperture'])\n",
    "\n",
    "                elif j['details'][\"filter_name\"] == \"z\":\n",
    "                    Z_Data_Array.append(j['cutout'].data)\n",
    "                    Z_RA_Array.append(j['details']['ra'])\n",
    "                    Z_DEC_Array.append(j['details']['dec'])\n",
    "                    Z_Detect_ID.append(Data_Redshift_Confirmed[\"Detectid\"][z_045_055_index][i])\n",
    "                    Z_Redshift_Array.append(Data_Redshift_Confirmed[\"z\"][z_045_055_index][i])\n",
    "                    Z_Mag_Array.append(j['details']['mag'])\n",
    "                    Z_Mag_Err_Array.append(j['details']['mag_err'])\n",
    "                    Z_Aperture_Array.append(j['aperture'])\n",
    "                    \n",
    "                elif j['details'][\"filter_name\"] == \"y\":\n",
    "                    Y_Data_Array.append(j['cutout'].data)\n",
    "                    Y_RA_Array.append(j['details']['ra'])\n",
    "                    Y_DEC_Array.append(j['details']['dec'])\n",
    "                    Y_Detect_ID.append(Data_Redshift_Confirmed[\"Detectid\"][z_045_055_index][i])\n",
    "                    Y_Redshift_Array.append(Data_Redshift_Confirmed[\"z\"][z_045_055_index][i])\n",
    "                    Y_Mag_Array.append(j['details']['mag'])\n",
    "                    Y_Mag_Err_Array.append(j['details']['mag_err'])\n",
    "                    Y_Aperture_Array.append(j['aperture'])\n",
    "\n",
    "\n",
    "                    "
   ]
  },
  {
   "cell_type": "code",
   "execution_count": null,
   "id": "6ed97fd2-8e46-4695-a63c-5f58fe03428b",
   "metadata": {},
   "outputs": [],
   "source": [
    "Table_start_a = ([(G_Data_Array[0])])\n",
    "Table_start_b = ([(G_RA_Array[0])])\n",
    "Table_start_c = ([(G_DEC_Array[0])])\n",
    "Table_start_d = ([(G_Detect_ID[0])])\n",
    "Table_start_e = ([(G_Redshift_Array[0])])\n",
    "Table_start_f = ([(G_Mag_Array[0])])\n",
    "Table_start_g = ([(G_Mag_Err_Array[0])])\n",
    "Table_start_h = ([(G_Aperture_Array[0])])\n",
    "\n",
    "Table_b = QTable([Table_start_a, Table_start_b, Table_start_c, Table_start_d, Table_start_e, Table_start_f, Table_start_g, Table_start_h], names=(\"G_Data\",\"G_RA\",\"G_DEC\", \"G_Detect_ID\", \"G_Z\", \"G_Mag\", \"G_Mag_Err\", \"G_Aperture_Array\"))\n"
   ]
  },
  {
   "cell_type": "code",
   "execution_count": null,
   "id": "0353dda5-83df-4750-a1d4-c38014caae22",
   "metadata": {},
   "outputs": [],
   "source": [
    "for i in np.arange(1,len(G_RA_Array),1):\n",
    "    a = ([(G_Data_Array[i])])\n",
    "    b = ([(G_RA_Array[i])])\n",
    "    c = ([(G_DEC_Array[i])])\n",
    "    d = ([(G_Detect_ID[i])])\n",
    "    e = ([(G_Redshift_Array[i])])\n",
    "    f = ([(G_Mag_Array[i])])\n",
    "    g = ([(G_Mag_Err_Array[i])])\n",
    "    h = ([(G_Aperture_Array[i])])\n",
    "\n",
    "    Table_b.add_row([a,b,c,d,e,f,g,h])"
   ]
  },
  {
   "cell_type": "code",
   "execution_count": null,
   "id": "73d07c5e-b4bf-4ead-9e2d-478f536d2a4e",
   "metadata": {},
   "outputs": [],
   "source": [
    "Table_b.write(\"/home/jovyan/work/stampede3/Table_Filters_045_055_G.fits\", overwrite = True)"
   ]
  },
  {
   "cell_type": "code",
   "execution_count": null,
   "id": "ed5c8328-5526-4489-9a65-341e86d3e301",
   "metadata": {},
   "outputs": [],
   "source": []
  },
  {
   "cell_type": "code",
   "execution_count": null,
   "id": "7fb3b7f7-f975-4e2b-ba14-217df811e845",
   "metadata": {},
   "outputs": [],
   "source": [
    "Table_start_a = ([(R_Data_Array[0])])\n",
    "Table_start_b = ([(R_RA_Array[0])])\n",
    "Table_start_c = ([(R_DEC_Array[0])])\n",
    "Table_start_d = ([(R_Detect_ID[0])])\n",
    "Table_start_e = ([(R_Redshift_Array[0])])\n",
    "Table_start_f = ([(R_Mag_Array[0])])\n",
    "Table_start_g = ([(R_Mag_Err_Array[0])])\n",
    "Table_start_h = ([(R_Aperture_Array[0])])\n",
    "\n",
    "Table_b = QTable([Table_start_a, Table_start_b, Table_start_c, Table_start_d, Table_start_e, Table_start_f, Table_start_g, Table_start_h], names=(\"R_Data\",\"R_RA\",\"R_DEC\", \"R_Detect_ID\", \"R_Z\", \"R_Mag\", \"R_Mag_Err\", \"R_Aperture_Array\"))\n"
   ]
  },
  {
   "cell_type": "code",
   "execution_count": null,
   "id": "eb98f2f3-940a-427a-b8cb-b3ddccb1912d",
   "metadata": {},
   "outputs": [],
   "source": [
    "print(len(G_Data_Array), len(R_Data_Array), len(I_Data_Array), len(Z_Data_Array), len(Y_Data_Array))"
   ]
  },
  {
   "cell_type": "code",
   "execution_count": null,
   "id": "df536dba-ec23-43a0-83fe-9b51d32ab644",
   "metadata": {},
   "outputs": [],
   "source": [
    "for i in np.arange(1,len(R_RA_Array),1):\n",
    "    a = ([(R_Data_Array[i])])\n",
    "    b = ([(R_RA_Array[i])])\n",
    "    c = ([(R_DEC_Array[i])])\n",
    "    d = ([(R_Detect_ID[i])])\n",
    "    e = ([(R_Redshift_Array[i])])\n",
    "    f = ([(R_Mag_Array[i])])\n",
    "    g = ([(R_Mag_Err_Array[i])])\n",
    "    h = ([(R_Aperture_Array[i])])\n",
    "\n",
    "    Table_b.add_row([a,b,c,d,e,f,g,h])"
   ]
  },
  {
   "cell_type": "code",
   "execution_count": null,
   "id": "6d415e3f-1b5e-4a88-aed3-dc0a232df2f4",
   "metadata": {},
   "outputs": [],
   "source": [
    "Table_b.write(\"/home/jovyan/work/stampede3/Table_Filters_045_055_R.fits\", overwrite = True)"
   ]
  },
  {
   "cell_type": "code",
   "execution_count": null,
   "id": "529f6b46-2e9b-4f2f-a452-269750f74809",
   "metadata": {},
   "outputs": [],
   "source": []
  },
  {
   "cell_type": "code",
   "execution_count": null,
   "id": "6d358117-c2a5-4c0f-a644-35e87a7d4cb0",
   "metadata": {},
   "outputs": [],
   "source": [
    "Table_start_a = ([(I_Data_Array[0])])\n",
    "Table_start_b = ([(I_RA_Array[0])])\n",
    "Table_start_c = ([(I_DEC_Array[0])])\n",
    "Table_start_d = ([(I_Detect_ID[0])])\n",
    "Table_start_e = ([(I_Redshift_Array[0])])\n",
    "Table_start_f = ([(I_Mag_Array[0])])\n",
    "Table_start_g = ([(I_Mag_Err_Array[0])])\n",
    "Table_start_h = ([(I_Aperture_Array[0])])\n",
    "\n",
    "\n",
    "Table_b = QTable([Table_start_a, Table_start_b, Table_start_c, Table_start_d, Table_start_e, Table_start_f, Table_start_g, Table_start_h], names=(\"I_Data\",\"I_RA\",\"I_DEC\", \"I_Detect_ID\", \"I_Z\", \"I_Mag\", \"I_Mag_Err\", \"I_Aperture_Array\"))\n"
   ]
  },
  {
   "cell_type": "code",
   "execution_count": null,
   "id": "a22570d8-e6a5-4ba9-8878-bcd6c3589162",
   "metadata": {},
   "outputs": [],
   "source": [
    "for i in np.arange(1,len(I_RA_Array),1):\n",
    "    a = ([(I_Data_Array[i])])\n",
    "    b = ([(I_RA_Array[i])])\n",
    "    c = ([(I_DEC_Array[i])])\n",
    "    d = ([(I_Detect_ID[i])])\n",
    "    e = ([(I_Redshift_Array[i])])\n",
    "    f = ([(I_Mag_Array[i])])\n",
    "    g = ([(I_Mag_Err_Array[i])])\n",
    "    h = ([(I_Aperture_Array[i])])\n",
    "\n",
    "    Table_b.add_row([a,b,c,d,e,f,g,h])"
   ]
  },
  {
   "cell_type": "code",
   "execution_count": null,
   "id": "96a3a5f0-2b4f-4e6f-9253-f592d98ed23e",
   "metadata": {},
   "outputs": [],
   "source": [
    "Table_b.write(\"/home/jovyan/work/stampede3/Table_Filters_045_055_I.fits\", overwrite = True)"
   ]
  },
  {
   "cell_type": "code",
   "execution_count": null,
   "id": "d2afa36e-77b9-4702-bbf4-7b60a4a687e0",
   "metadata": {},
   "outputs": [],
   "source": []
  },
  {
   "cell_type": "code",
   "execution_count": null,
   "id": "4397ff06-fae2-4b8f-b968-d2335f1696d6",
   "metadata": {},
   "outputs": [],
   "source": [
    "Table_start_a = ([(Z_Data_Array[0])])\n",
    "Table_start_b = ([(Z_RA_Array[0])])\n",
    "Table_start_c = ([(Z_DEC_Array[0])])\n",
    "Table_start_d = ([(Z_Detect_ID[0])])\n",
    "Table_start_e = ([(Z_Redshift_Array[0])])\n",
    "Table_start_f = ([(Z_Mag_Array[0])])\n",
    "Table_start_g = ([(Z_Mag_Err_Array[0])])\n",
    "Table_start_h = ([(Z_Aperture_Array[0])])\n",
    "\n",
    "\n",
    "Table_b = QTable([Table_start_a, Table_start_b, Table_start_c, Table_start_d, Table_start_e, Table_start_f, Table_start_g, Table_start_h], names=(\"Z_Data\",\"Z_RA\",\"Z_DEC\", \"Z_Detect_ID\", \"Z_Z\", \"Z_Mag\", \"Z_Mag_Err\", \"Z_Aperture_Array\"))\n"
   ]
  },
  {
   "cell_type": "code",
   "execution_count": null,
   "id": "4787bf05-c05b-4ab4-be9e-6e71c9d0cf69",
   "metadata": {},
   "outputs": [],
   "source": [
    "for i in np.arange(1,len(Z_RA_Array),1):\n",
    "    a = ([(Z_Data_Array[i])])\n",
    "    b = ([(Z_RA_Array[i])])\n",
    "    c = ([(Z_DEC_Array[i])])\n",
    "    d = ([(Z_Detect_ID[i])])\n",
    "    e = ([(Z_Redshift_Array[i])])\n",
    "    f = ([(Z_Mag_Array[i])])\n",
    "    g = ([(Z_Mag_Err_Array[i])])\n",
    "    h = ([(Z_Aperture_Array[i])])\n",
    "\n",
    "    Table_b.add_row([a,b,c,d,e,f,g,h])"
   ]
  },
  {
   "cell_type": "code",
   "execution_count": null,
   "id": "46419152-87a0-42e4-ad29-c545918e2558",
   "metadata": {},
   "outputs": [],
   "source": [
    "Table_b.write(\"/home/jovyan/work/stampede3/Table_Filters_045_055_Z.fits\", overwrite = True)"
   ]
  },
  {
   "cell_type": "code",
   "execution_count": null,
   "id": "cc66e7d3-b662-4b27-b70b-9bc581d8fb4e",
   "metadata": {},
   "outputs": [],
   "source": []
  },
  {
   "cell_type": "code",
   "execution_count": null,
   "id": "b7f33a47-4252-4b7d-b814-254f5c6df16a",
   "metadata": {},
   "outputs": [],
   "source": [
    "Table_start_a = ([(Y_Data_Array[0])])\n",
    "Table_start_b = ([(Y_RA_Array[0])])\n",
    "Table_start_c = ([(Y_DEC_Array[0])])\n",
    "Table_start_d = ([(Y_Detect_ID[0])])\n",
    "Table_start_e = ([(Y_Redshift_Array[0])])\n",
    "Table_start_f = ([(Y_Mag_Array[0])])\n",
    "Table_start_g = ([(Y_Mag_Err_Array[0])])\n",
    "Table_start_h = ([(Y_Aperture_Array[0])])\n",
    "\n",
    "Table_b = QTable([Table_start_a, Table_start_b, Table_start_c, Table_start_d, Table_start_e, Table_start_f, Table_start_g, Table_start_h], names=(\"Y_Data\",\"Y_RA\",\"Y_DEC\", \"Y_Detect_ID\", \"Y_Z\", \"Y_Mag\", \"Y_Mag_Err\", \"Y_Aperture_Array\"))\n"
   ]
  },
  {
   "cell_type": "code",
   "execution_count": null,
   "id": "203936e1-e5ef-42cd-a4a8-9c01b803354e",
   "metadata": {},
   "outputs": [],
   "source": [
    "for i in np.arange(1,len(Y_RA_Array),1):\n",
    "    a = ([(Y_Data_Array[i])])\n",
    "    b = ([(Y_RA_Array[i])])\n",
    "    c = ([(Y_DEC_Array[i])])\n",
    "    d = ([(Y_Detect_ID[i])])\n",
    "    e = ([(Y_Redshift_Array[i])])\n",
    "    f = ([(Y_Mag_Array[i])])\n",
    "    g = ([(Y_Mag_Err_Array[i])])\n",
    "    h = ([(Y_Aperture_Array[i])])\n",
    "\n",
    "    Table_b.add_row([a,b,c,d,e,f,g,h])"
   ]
  },
  {
   "cell_type": "code",
   "execution_count": null,
   "id": "7bf8103b-84fa-4eae-99fb-9f2e5fd5d0a0",
   "metadata": {},
   "outputs": [],
   "source": [
    "Table_b.write(\"/home/jovyan/work/stampede3/Table_Filters_045_055_Y.fits\", overwrite = True)"
   ]
  },
  {
   "cell_type": "markdown",
   "id": "5f9123d3-56a2-45b4-9356-8cc55d320163",
   "metadata": {},
   "source": []
  },
  {
   "cell_type": "markdown",
   "id": "888ea2f7-b3e8-4906-a2d4-457459eebe0d",
   "metadata": {},
   "source": [
    "<hr style=\"border:4px solid blue\">"
   ]
  },
  {
   "cell_type": "code",
   "execution_count": null,
   "id": "46b6a2d5-add2-4fb6-af85-5ece15848108",
   "metadata": {},
   "outputs": [],
   "source": []
  },
  {
   "cell_type": "code",
   "execution_count": null,
   "id": "89a60e21-5c54-4a8b-9eb4-b9aa625e9d47",
   "metadata": {},
   "outputs": [],
   "source": []
  },
  {
   "cell_type": "code",
   "execution_count": 68,
   "id": "1edfdc16-41dd-403c-968d-079203b0c830",
   "metadata": {
    "scrolled": true
   },
   "outputs": [],
   "source": [
    "G_Data_Array = []\n",
    "G_RA_Array = []\n",
    "G_DEC_Array = []\n",
    "G_Detect_ID = []\n",
    "G_Redshift_Array = []\n",
    "G_Mag_Array = []\n",
    "G_Mag_Err_Array = []\n",
    "G_Aperture_Array = []\n",
    "\n",
    "\n",
    "R_Data_Array = []\n",
    "R_RA_Array = []\n",
    "R_DEC_Array = []\n",
    "R_Detect_ID = []\n",
    "R_Redshift_Array = []\n",
    "R_Mag_Array = []\n",
    "R_Mag_Err_Array = []\n",
    "R_Aperture_Array = []\n",
    "\n",
    "\n",
    "I_Data_Array = []\n",
    "I_RA_Array = []\n",
    "I_DEC_Array = []\n",
    "I_Detect_ID = []\n",
    "I_Redshift_Array = []\n",
    "I_Mag_Array = []\n",
    "I_Mag_Err_Array = []\n",
    "I_Aperture_Array = []\n",
    "\n",
    "Z_Data_Array = []\n",
    "Z_RA_Array = []\n",
    "Z_DEC_Array = []\n",
    "Z_Detect_ID = []\n",
    "Z_Redshift_Array = []\n",
    "Z_Mag_Array = []\n",
    "Z_Mag_Err_Array = []\n",
    "Z_Aperture_Array = []\n",
    "\n",
    "Y_Data_Array = []\n",
    "Y_RA_Array = []\n",
    "Y_DEC_Array = []\n",
    "Y_Detect_ID = []\n",
    "Y_Redshift_Array = []\n",
    "Y_Mag_Array = []\n",
    "Y_Mag_Err_Array = []\n",
    "Y_Aperture_Array = []\n",
    "\n",
    "\n",
    "\n",
    "\n",
    "\n",
    "for i in np.arange(len(Data_Redshift_Confirmed[\"RA\"][z_055_065_index])): \n",
    "\n",
    "#for i in np.arange(10): \n",
    "    coord7 = SkyCoord(Data_Redshift_Confirmed[\"RA\"][z_055_065_index][i], Data_Redshift_Confirmed[\"DEC\"][z_055_065_index][i], unit = 'deg')\n",
    "    cutouts7 = catlib.get_cutouts(position=coord7,radius=7.,aperture=1.5,dynamic=False,first=False,nudge=False,filter=None)\n",
    "\n",
    "    #print(cutouts7)\n",
    "    if len(cutouts7) > 0:\n",
    "        cutout = cutouts7[0] \n",
    "        #print(cutout['instrument'])\n",
    "        \n",
    "        if cutout['instrument'] == \"HSC SSP\":\n",
    "            for j in cutouts7:\n",
    "                #print(j['details'][\"filter_name\"])\n",
    "                \n",
    "                if j['details'][\"filter_name\"] == \"g\":\n",
    "                    #print(\"g\")\n",
    "                    #print(j['cutout'].error)\n",
    "                    G_Data_Array.append(j['cutout'].data)\n",
    "                    G_RA_Array.append(j['details']['ra'])\n",
    "                    G_DEC_Array.append(j['details']['dec'])\n",
    "                    G_Detect_ID.append(Data_Redshift_Confirmed[\"Detectid\"][z_055_065_index][i])\n",
    "                    G_Redshift_Array.append(Data_Redshift_Confirmed[\"z\"][z_055_065_index][i])\n",
    "                    G_Mag_Array.append(j['details']['mag'])\n",
    "                    G_Mag_Err_Array.append(j['details']['mag_err'])\n",
    "                    G_Aperture_Array.append(j['aperture'])\n",
    "\n",
    "\n",
    "                elif j['details'][\"filter_name\"] == \"r\":\n",
    "                    #print(\"r\")\n",
    "                    R_Data_Array.append(j['cutout'].data)\n",
    "                    R_RA_Array.append(j['details']['ra'])\n",
    "                    R_DEC_Array.append(j['details']['dec'])\n",
    "                    R_Detect_ID.append(Data_Redshift_Confirmed[\"Detectid\"][z_055_065_index][i])\n",
    "                    R_Redshift_Array.append(Data_Redshift_Confirmed[\"z\"][z_055_065_index][i])\n",
    "                    R_Mag_Array.append(j['details']['mag'])\n",
    "                    R_Mag_Err_Array.append(j['details']['mag_err'])\n",
    "                    R_Aperture_Array.append(j['aperture'])\n",
    "\n",
    "                elif j['details'][\"filter_name\"] == \"i\":\n",
    "                    I_Data_Array.append(j['cutout'].data)\n",
    "                    I_RA_Array.append(j['details']['ra'])\n",
    "                    I_DEC_Array.append(j['details']['dec'])\n",
    "                    I_Detect_ID.append(Data_Redshift_Confirmed[\"Detectid\"][z_055_065_index][i])\n",
    "                    I_Redshift_Array.append(Data_Redshift_Confirmed[\"z\"][z_055_065_index][i])\n",
    "                    I_Mag_Array.append(j['details']['mag'])\n",
    "                    I_Mag_Err_Array.append(j['details']['mag_err'])\n",
    "                    I_Aperture_Array.append(j['aperture'])\n",
    "\n",
    "                elif j['details'][\"filter_name\"] == \"z\":\n",
    "                    Z_Data_Array.append(j['cutout'].data)\n",
    "                    Z_RA_Array.append(j['details']['ra'])\n",
    "                    Z_DEC_Array.append(j['details']['dec'])\n",
    "                    Z_Detect_ID.append(Data_Redshift_Confirmed[\"Detectid\"][z_055_065_index][i])\n",
    "                    Z_Redshift_Array.append(Data_Redshift_Confirmed[\"z\"][z_055_065_index][i])\n",
    "                    Z_Mag_Array.append(j['details']['mag'])\n",
    "                    Z_Mag_Err_Array.append(j['details']['mag_err'])\n",
    "                    Z_Aperture_Array.append(j['aperture'])\n",
    "\n",
    "                elif j['details'][\"filter_name\"] == \"y\":\n",
    "                    Y_Data_Array.append(j['cutout'].data)\n",
    "                    Y_RA_Array.append(j['details']['ra'])\n",
    "                    Y_DEC_Array.append(j['details']['dec'])\n",
    "                    Y_Detect_ID.append(Data_Redshift_Confirmed[\"Detectid\"][z_055_065_index][i])\n",
    "                    Y_Redshift_Array.append(Data_Redshift_Confirmed[\"z\"][z_055_065_index][i])\n",
    "                    Y_Mag_Array.append(j['details']['mag'])\n",
    "                    Y_Mag_Err_Array.append(j['details']['mag_err'])\n",
    "                    Y_Aperture_Array.append(j['aperture'])\n",
    "                    "
   ]
  },
  {
   "cell_type": "code",
   "execution_count": 69,
   "id": "a5730732-7582-469b-b344-a4e20fff9885",
   "metadata": {},
   "outputs": [],
   "source": [
    "Table_start_a = ([(G_Data_Array[0])])\n",
    "Table_start_b = ([(G_RA_Array[0])])\n",
    "Table_start_c = ([(G_DEC_Array[0])])\n",
    "Table_start_d = ([(G_Detect_ID[0])])\n",
    "Table_start_e = ([(G_Redshift_Array[0])])\n",
    "Table_start_f = ([(G_Mag_Array[0])])\n",
    "Table_start_g = ([(G_Mag_Err_Array[0])])\n",
    "Table_start_h = ([(G_Aperture_Array[0])])\n",
    "\n",
    "Table_b = QTable([Table_start_a, Table_start_b, Table_start_c, Table_start_d, Table_start_e, Table_start_f, Table_start_g, Table_start_h], names=(\"G_Data\",\"G_RA\",\"G_DEC\", \"G_Detect_ID\", \"G_Z\", \"G_Mag\", \"G_Mag_Err\", \"G_Aperture_Array\"))\n"
   ]
  },
  {
   "cell_type": "code",
   "execution_count": 70,
   "id": "955ed23f-eeb0-482b-94f1-7b708ec5775b",
   "metadata": {},
   "outputs": [],
   "source": [
    "for i in np.arange(1,len(G_RA_Array),1):\n",
    "    a = ([(G_Data_Array[i])])\n",
    "    b = ([(G_RA_Array[i])])\n",
    "    c = ([(G_DEC_Array[i])])\n",
    "    d = ([(G_Detect_ID[i])])\n",
    "    e = ([(G_Redshift_Array[i])])\n",
    "    f = ([(G_Mag_Array[i])])\n",
    "    g = ([(G_Mag_Err_Array[i])])\n",
    "    h = ([(G_Aperture_Array[i])])\n",
    "\n",
    "    Table_b.add_row([a,b,c,d,e,f,g,h])"
   ]
  },
  {
   "cell_type": "code",
   "execution_count": 71,
   "id": "b14831a1-e3d7-49fd-9b78-41a3b8743b9e",
   "metadata": {},
   "outputs": [],
   "source": [
    "Table_b.write(\"/home/jovyan/work/stampede3/Table_Filters_055_065_G.fits\", overwrite = True)"
   ]
  },
  {
   "cell_type": "code",
   "execution_count": null,
   "id": "53d6db63-0e43-4a56-9260-292365b4a7fc",
   "metadata": {},
   "outputs": [],
   "source": []
  },
  {
   "cell_type": "code",
   "execution_count": 72,
   "id": "d00cd0e5-990b-429a-976d-7043669bc1ef",
   "metadata": {},
   "outputs": [],
   "source": [
    "Table_start_a = ([(R_Data_Array[0])])\n",
    "Table_start_b = ([(R_RA_Array[0])])\n",
    "Table_start_c = ([(R_DEC_Array[0])])\n",
    "Table_start_d = ([(R_Detect_ID[0])])\n",
    "Table_start_e = ([(R_Redshift_Array[0])])\n",
    "Table_start_f = ([(R_Mag_Array[0])])\n",
    "Table_start_g = ([(R_Mag_Err_Array[0])])\n",
    "Table_start_h = ([(R_Aperture_Array[0])])\n",
    "\n",
    "\n",
    "Table_b = QTable([Table_start_a, Table_start_b, Table_start_c, Table_start_d, Table_start_e, Table_start_f, Table_start_g, Table_start_h], names=(\"R_Data\",\"R_RA\",\"R_DEC\", \"R_Detect_ID\", \"R_Z\", \"R_Mag\", \"R_Mag_Err\", \"R_Aperture_Array\"))\n"
   ]
  },
  {
   "cell_type": "code",
   "execution_count": 73,
   "id": "54f6b158-bead-4b14-831c-ea06d1a5a4b1",
   "metadata": {},
   "outputs": [
    {
     "name": "stdout",
     "output_type": "stream",
     "text": [
      "55 55 45 54 34\n"
     ]
    }
   ],
   "source": [
    "print(len(G_Data_Array), len(R_Data_Array), len(I_Data_Array), len(Z_Data_Array), len(Y_Data_Array))"
   ]
  },
  {
   "cell_type": "code",
   "execution_count": 74,
   "id": "d78d19ca-ee35-4b0a-9eae-62bd1ffb19d5",
   "metadata": {},
   "outputs": [],
   "source": [
    "for i in np.arange(1,len(R_RA_Array),1):\n",
    "    a = ([(R_Data_Array[i])])\n",
    "    b = ([(R_RA_Array[i])])\n",
    "    c = ([(R_DEC_Array[i])])\n",
    "    d = ([(R_Detect_ID[i])])\n",
    "    e = ([(R_Redshift_Array[i])])\n",
    "    f = ([(R_Mag_Array[i])])\n",
    "    g = ([(R_Mag_Err_Array[i])])\n",
    "    h = ([(R_Aperture_Array[i])])\n",
    "\n",
    "    Table_b.add_row([a,b,c,d,e,f,g,h])"
   ]
  },
  {
   "cell_type": "code",
   "execution_count": 75,
   "id": "758c9c14-519c-4e66-a99e-df6a9fec0f14",
   "metadata": {},
   "outputs": [],
   "source": [
    "Table_b.write(\"/home/jovyan/work/stampede3/Table_Filters_055_065_R.fits\", overwrite = True)"
   ]
  },
  {
   "cell_type": "code",
   "execution_count": null,
   "id": "1232454b-1201-4abf-be52-2e96d7dcada2",
   "metadata": {},
   "outputs": [],
   "source": []
  },
  {
   "cell_type": "code",
   "execution_count": 76,
   "id": "6ff8ec05-c56f-4e93-bda9-14fe06aa1114",
   "metadata": {},
   "outputs": [],
   "source": [
    "Table_start_a = ([(I_Data_Array[0])])\n",
    "Table_start_b = ([(I_RA_Array[0])])\n",
    "Table_start_c = ([(I_DEC_Array[0])])\n",
    "Table_start_d = ([(I_Detect_ID[0])])\n",
    "Table_start_e = ([(I_Redshift_Array[0])])\n",
    "Table_start_f = ([(I_Mag_Array[0])])\n",
    "Table_start_g = ([(I_Mag_Err_Array[0])])\n",
    "Table_start_h = ([(I_Aperture_Array[0])])\n",
    "\n",
    "\n",
    "Table_b = QTable([Table_start_a, Table_start_b, Table_start_c, Table_start_d, Table_start_e, Table_start_f, Table_start_g, Table_start_h], names=(\"I_Data\",\"I_RA\",\"I_DEC\", \"I_Detect_ID\", \"I_Z\", \"I_Mag\", \"I_Mag_Err\", \"I_Aperture_Array\"))\n"
   ]
  },
  {
   "cell_type": "code",
   "execution_count": 77,
   "id": "83532a7d-c936-412f-bdc8-43fd6d33cbf4",
   "metadata": {},
   "outputs": [],
   "source": [
    "for i in np.arange(1,len(I_RA_Array),1):\n",
    "    a = ([(I_Data_Array[i])])\n",
    "    b = ([(I_RA_Array[i])])\n",
    "    c = ([(I_DEC_Array[i])])\n",
    "    d = ([(I_Detect_ID[i])])\n",
    "    e = ([(I_Redshift_Array[i])])\n",
    "    f = ([(I_Mag_Array[i])])\n",
    "    g = ([(I_Mag_Err_Array[i])])\n",
    "    h = ([(I_Aperture_Array[i])])\n",
    "\n",
    "    Table_b.add_row([a,b,c,d,e,f,g,h])"
   ]
  },
  {
   "cell_type": "code",
   "execution_count": 78,
   "id": "72fee46e-cf62-43f4-8944-e7ef8ed6a98e",
   "metadata": {},
   "outputs": [],
   "source": [
    "Table_b.write(\"/home/jovyan/work/stampede3/Table_Filters_055_065_I.fits\", overwrite = True)"
   ]
  },
  {
   "cell_type": "code",
   "execution_count": null,
   "id": "126f3f7c-67bd-4336-9d55-bfd70ac17afd",
   "metadata": {},
   "outputs": [],
   "source": []
  },
  {
   "cell_type": "code",
   "execution_count": 79,
   "id": "dac7ca7d-3dc0-46cc-9756-45b1e8cae19f",
   "metadata": {},
   "outputs": [],
   "source": [
    "Table_start_a = ([(Z_Data_Array[0])])\n",
    "Table_start_b = ([(Z_RA_Array[0])])\n",
    "Table_start_c = ([(Z_DEC_Array[0])])\n",
    "Table_start_d = ([(Z_Detect_ID[0])])\n",
    "Table_start_e = ([(Z_Redshift_Array[0])])\n",
    "Table_start_f = ([(Z_Mag_Array[0])])\n",
    "Table_start_g = ([(Z_Mag_Err_Array[0])])\n",
    "Table_start_h = ([(Z_Aperture_Array[0])])\n",
    "\n",
    "\n",
    "Table_b = QTable([Table_start_a, Table_start_b, Table_start_c, Table_start_d, Table_start_e, Table_start_f, Table_start_g, Table_start_h], names=(\"Z_Data\",\"Z_RA\",\"Z_DEC\", \"Z_Detect_ID\", \"Z_Z\", \"Z_Mag\", \"Z_Mag_Err\", \"Z_Aperture_Array\"))\n"
   ]
  },
  {
   "cell_type": "code",
   "execution_count": 80,
   "id": "575861a4-da19-44c5-a78b-7ce774a085a2",
   "metadata": {},
   "outputs": [],
   "source": [
    "for i in np.arange(1,len(Z_RA_Array),1):\n",
    "    a = ([(Z_Data_Array[i])])\n",
    "    b = ([(Z_RA_Array[i])])\n",
    "    c = ([(Z_DEC_Array[i])])\n",
    "    d = ([(Z_Detect_ID[i])])\n",
    "    e = ([(Z_Redshift_Array[i])])\n",
    "    f = ([(Z_Mag_Array[i])])\n",
    "    g = ([(Z_Mag_Err_Array[i])])\n",
    "    h = ([(Z_Aperture_Array[i])])\n",
    "\n",
    "    Table_b.add_row([a,b,c,d,e,f,g,h])"
   ]
  },
  {
   "cell_type": "code",
   "execution_count": 81,
   "id": "c560ca2b-2135-49a8-b746-ec058ec72405",
   "metadata": {},
   "outputs": [],
   "source": [
    "Table_b.write(\"/home/jovyan/work/stampede3/Table_Filters_055_065_Z.fits\", overwrite = True)"
   ]
  },
  {
   "cell_type": "code",
   "execution_count": null,
   "id": "2d763121-eb07-4a4f-92de-4fe71c64ef2c",
   "metadata": {},
   "outputs": [],
   "source": []
  },
  {
   "cell_type": "code",
   "execution_count": 82,
   "id": "cd56d157-b838-4490-9a53-0cdf159ea92e",
   "metadata": {},
   "outputs": [],
   "source": [
    "Table_start_a = ([(Y_Data_Array[0])])\n",
    "Table_start_b = ([(Y_RA_Array[0])])\n",
    "Table_start_c = ([(Y_DEC_Array[0])])\n",
    "Table_start_d = ([(Y_Detect_ID[0])])\n",
    "Table_start_e = ([(Y_Redshift_Array[0])])\n",
    "Table_start_f = ([(Y_Mag_Array[0])])\n",
    "Table_start_g = ([(Y_Mag_Err_Array[0])])\n",
    "Table_start_h = ([(Y_Aperture_Array[0])])\n",
    "\n",
    "\n",
    "Table_b = QTable([Table_start_a, Table_start_b, Table_start_c, Table_start_d, Table_start_e, Table_start_f, Table_start_g, Table_start_h], names=(\"Y_Data\",\"Y_RA\",\"Y_DEC\", \"Y_Detect_ID\", \"Y_Z\", \"Y_Mag\", \"Y_Mag_Err\", \"Y_Aperture_Array\"))\n"
   ]
  },
  {
   "cell_type": "code",
   "execution_count": 83,
   "id": "0f24dfce-ba30-4afd-b9fa-e7681fea3c79",
   "metadata": {},
   "outputs": [],
   "source": [
    "for i in np.arange(1,len(Y_RA_Array),1):\n",
    "    a = ([(Y_Data_Array[i])])\n",
    "    b = ([(Y_RA_Array[i])])\n",
    "    c = ([(Y_DEC_Array[i])])\n",
    "    d = ([(Y_Detect_ID[i])])\n",
    "    e = ([(Y_Redshift_Array[i])])\n",
    "    f = ([(Y_Mag_Array[i])])\n",
    "    g = ([(Y_Mag_Err_Array[i])])\n",
    "    h = ([(Y_Aperture_Array[i])])\n",
    "\n",
    "    Table_b.add_row([a,b,c,d,e,f,g,h])"
   ]
  },
  {
   "cell_type": "code",
   "execution_count": 84,
   "id": "52d83ceb-e76a-4a02-a190-64d47a2cf6ca",
   "metadata": {},
   "outputs": [],
   "source": [
    "Table_b.write(\"/home/jovyan/work/stampede3/Table_Filters_055_065_Y.fits\", overwrite = True)"
   ]
  },
  {
   "cell_type": "markdown",
   "id": "d3196f6e-3f5b-4dd1-a386-1b932d1d7ca1",
   "metadata": {},
   "source": []
  },
  {
   "cell_type": "markdown",
   "id": "55a5e150-429e-455f-8e00-81a70309bb0d",
   "metadata": {},
   "source": [
    "<hr style=\"border:4px solid blue\">"
   ]
  },
  {
   "cell_type": "code",
   "execution_count": null,
   "id": "a3e43d7f-1d14-493d-9abd-1b4937ebd3c3",
   "metadata": {},
   "outputs": [],
   "source": []
  },
  {
   "cell_type": "code",
   "execution_count": 85,
   "id": "fb414c81-6c0f-4ab1-9c33-7a014afd73aa",
   "metadata": {
    "scrolled": true
   },
   "outputs": [],
   "source": [
    "G_Data_Array = []\n",
    "G_RA_Array = []\n",
    "G_DEC_Array = []\n",
    "G_Detect_ID = []\n",
    "G_Redshift_Array = []\n",
    "G_Mag_Array = []\n",
    "G_Mag_Err_Array = []\n",
    "G_Aperture_Array = []\n",
    "\n",
    "R_Data_Array = []\n",
    "R_RA_Array = []\n",
    "R_DEC_Array = []\n",
    "R_Detect_ID = []\n",
    "R_Redshift_Array = []\n",
    "R_Mag_Array = []\n",
    "R_Mag_Err_Array = []\n",
    "R_Aperture_Array = []\n",
    "\n",
    "I_Data_Array = []\n",
    "I_RA_Array = []\n",
    "I_DEC_Array = []\n",
    "I_Detect_ID = []\n",
    "I_Redshift_Array = []\n",
    "I_Mag_Array = []\n",
    "I_Mag_Err_Array = []\n",
    "I_Aperture_Array = []\n",
    "\n",
    "Z_Data_Array = []\n",
    "Z_RA_Array = []\n",
    "Z_DEC_Array = []\n",
    "Z_Detect_ID = []\n",
    "Z_Redshift_Array = []\n",
    "Z_Mag_Array = []\n",
    "Z_Mag_Err_Array = []\n",
    "Z_Aperture_Array = []\n",
    "\n",
    "Y_Data_Array = []\n",
    "Y_RA_Array = []\n",
    "Y_DEC_Array = []\n",
    "Y_Detect_ID = []\n",
    "Y_Redshift_Array = []\n",
    "Y_Mag_Array = []\n",
    "Y_Mag_Err_Array = []\n",
    "Y_Aperture_Array = []\n",
    "\n",
    "\n",
    "\n",
    "for i in np.arange(len(Data_Redshift_Confirmed[\"RA\"][z_065_075_index])): \n",
    "\n",
    "#for i in np.arange(10): \n",
    "    coord7 = SkyCoord(Data_Redshift_Confirmed[\"RA\"][z_065_075_index][i], Data_Redshift_Confirmed[\"DEC\"][z_065_075_index][i], unit = 'deg')\n",
    "    cutouts7 = catlib.get_cutouts(position=coord7,radius=7.,aperture=1.5,dynamic=False,first=False,nudge=False,filter=None)\n",
    "\n",
    "    #print(cutouts7)\n",
    "    if len(cutouts7) > 0:\n",
    "        cutout = cutouts7[0] \n",
    "        #print(cutout['instrument'])\n",
    "        \n",
    "        if cutout['instrument'] == \"HSC SSP\":\n",
    "            for j in cutouts7:\n",
    "                #print(j['details'][\"filter_name\"])\n",
    "                \n",
    "                if j['details'][\"filter_name\"] == \"g\":\n",
    "                    #print(\"g\")\n",
    "                    #print(j['cutout'].error)\n",
    "                    G_Data_Array.append(j['cutout'].data)\n",
    "                    G_RA_Array.append(j['details']['ra'])\n",
    "                    G_DEC_Array.append(j['details']['dec'])\n",
    "                    G_Detect_ID.append(Data_Redshift_Confirmed[\"Detectid\"][z_065_075_index][i])\n",
    "                    G_Redshift_Array.append(Data_Redshift_Confirmed[\"z\"][z_065_075_index][i])\n",
    "                    G_Mag_Array.append(j['details']['mag'])\n",
    "                    G_Mag_Err_Array.append(j['details']['mag_err'])\n",
    "                    G_Aperture_Array.append(j['aperture'])\n",
    "\n",
    "\n",
    "                elif j['details'][\"filter_name\"] == \"r\":\n",
    "                    #print(\"r\")\n",
    "                    R_Data_Array.append(j['cutout'].data)\n",
    "                    R_RA_Array.append(j['details']['ra'])\n",
    "                    R_DEC_Array.append(j['details']['dec'])\n",
    "                    R_Detect_ID.append(Data_Redshift_Confirmed[\"Detectid\"][z_065_075_index][i])\n",
    "                    R_Redshift_Array.append(Data_Redshift_Confirmed[\"z\"][z_065_075_index][i])\n",
    "                    R_Mag_Array.append(j['details']['mag'])\n",
    "                    R_Mag_Err_Array.append(j['details']['mag_err'])\n",
    "                    R_Aperture_Array.append(j['aperture'])\n",
    "\n",
    "                elif j['details'][\"filter_name\"] == \"i\":\n",
    "                    I_Data_Array.append(j['cutout'].data)\n",
    "                    I_RA_Array.append(j['details']['ra'])\n",
    "                    I_DEC_Array.append(j['details']['dec'])\n",
    "                    I_Detect_ID.append(Data_Redshift_Confirmed[\"Detectid\"][z_065_075_index][i])\n",
    "                    I_Redshift_Array.append(Data_Redshift_Confirmed[\"z\"][z_065_075_index][i])\n",
    "                    I_Mag_Array.append(j['details']['mag'])\n",
    "                    I_Mag_Err_Array.append(j['details']['mag_err'])\n",
    "                    I_Aperture_Array.append(j['aperture'])\n",
    "\n",
    "                elif j['details'][\"filter_name\"] == \"z\":\n",
    "                    Z_Data_Array.append(j['cutout'].data)\n",
    "                    Z_RA_Array.append(j['details']['ra'])\n",
    "                    Z_DEC_Array.append(j['details']['dec'])\n",
    "                    Z_Detect_ID.append(Data_Redshift_Confirmed[\"Detectid\"][z_065_075_index][i])\n",
    "                    Z_Redshift_Array.append(Data_Redshift_Confirmed[\"z\"][z_065_075_index][i])\n",
    "                    Z_Mag_Array.append(j['details']['mag'])\n",
    "                    Z_Mag_Err_Array.append(j['details']['mag_err'])\n",
    "                    Z_Aperture_Array.append(j['aperture'])\n",
    "\n",
    "                elif j['details'][\"filter_name\"] == \"y\":\n",
    "                    Y_Data_Array.append(j['cutout'].data)\n",
    "                    Y_RA_Array.append(j['details']['ra'])\n",
    "                    Y_DEC_Array.append(j['details']['dec'])\n",
    "                    Y_Detect_ID.append(Data_Redshift_Confirmed[\"Detectid\"][z_065_075_index][i])\n",
    "                    Y_Redshift_Array.append(Data_Redshift_Confirmed[\"z\"][z_065_075_index][i])\n",
    "                    Y_Mag_Array.append(j['details']['mag'])\n",
    "                    Y_Mag_Err_Array.append(j['details']['mag_err'])\n",
    "                    Y_Aperture_Array.append(j['aperture'])\n",
    "\n",
    "                    "
   ]
  },
  {
   "cell_type": "code",
   "execution_count": 86,
   "id": "dab91782-54b9-4205-8b1b-65f678808588",
   "metadata": {},
   "outputs": [],
   "source": [
    "Table_start_a = ([(G_Data_Array[0])])\n",
    "Table_start_b = ([(G_RA_Array[0])])\n",
    "Table_start_c = ([(G_DEC_Array[0])])\n",
    "Table_start_d = ([(G_Detect_ID[0])])\n",
    "Table_start_e = ([(G_Redshift_Array[0])])\n",
    "Table_start_f = ([(G_Mag_Array[0])])\n",
    "Table_start_g = ([(G_Mag_Err_Array[0])])\n",
    "Table_start_h = ([(G_Aperture_Array[0])])\n",
    "\n",
    "\n",
    "Table_b = QTable([Table_start_a, Table_start_b, Table_start_c, Table_start_d, Table_start_e, Table_start_f, Table_start_g, Table_start_h], names=(\"G_Data\",\"G_RA\",\"G_DEC\", \"G_Detect_ID\", \"G_Z\", \"G_Mag\", \"G_Mag_Err\", \"G_Aperture_Array\"))\n"
   ]
  },
  {
   "cell_type": "code",
   "execution_count": 87,
   "id": "eefefa78-8063-4ebb-84a0-21d43cd09abb",
   "metadata": {},
   "outputs": [],
   "source": [
    "for i in np.arange(1,len(G_RA_Array),1):\n",
    "    a = ([(G_Data_Array[i])])\n",
    "    b = ([(G_RA_Array[i])])\n",
    "    c = ([(G_DEC_Array[i])])\n",
    "    d = ([(G_Detect_ID[i])])\n",
    "    e = ([(G_Redshift_Array[i])])\n",
    "    f = ([(G_Mag_Array[i])])\n",
    "    g = ([(G_Mag_Err_Array[i])])\n",
    "    h = ([(G_Aperture_Array[i])])\n",
    "\n",
    "    Table_b.add_row([a,b,c,d,e,f,g,h])"
   ]
  },
  {
   "cell_type": "code",
   "execution_count": 88,
   "id": "65e5bf74-bd39-4f77-a75c-3ae930e6bc56",
   "metadata": {},
   "outputs": [],
   "source": [
    "Table_b.write(\"/home/jovyan/work/stampede3/Table_Filters_065_075_G.fits\", overwrite = True)"
   ]
  },
  {
   "cell_type": "markdown",
   "id": "f949a8a3-753e-4cb1-ba98-3831b26555f0",
   "metadata": {},
   "source": []
  },
  {
   "cell_type": "code",
   "execution_count": 89,
   "id": "996e8f82-fd97-442f-ab33-8f1942678d51",
   "metadata": {},
   "outputs": [],
   "source": [
    "Table_start_a = ([(R_Data_Array[0])])\n",
    "Table_start_b = ([(R_RA_Array[0])])\n",
    "Table_start_c = ([(R_DEC_Array[0])])\n",
    "Table_start_d = ([(R_Detect_ID[0])])\n",
    "Table_start_e = ([(R_Redshift_Array[0])])\n",
    "Table_start_f = ([(R_Mag_Array[0])])\n",
    "Table_start_g = ([(R_Mag_Err_Array[0])])\n",
    "Table_start_h = ([(R_Aperture_Array[0])])\n",
    "\n",
    "\n",
    "Table_b = QTable([Table_start_a, Table_start_b, Table_start_c, Table_start_d, Table_start_e, Table_start_f, Table_start_g, Table_start_h], names=(\"R_Data\",\"R_RA\",\"R_DEC\", \"R_Detect_ID\", \"R_Z\", \"R_Mag\", \"R_Mag_Err\", \"R_Aperture_Array\"))\n"
   ]
  },
  {
   "cell_type": "code",
   "execution_count": 90,
   "id": "064af92b-bfb9-4bb2-87c3-dd65a445a994",
   "metadata": {},
   "outputs": [
    {
     "name": "stdout",
     "output_type": "stream",
     "text": [
      "60 60 53 60 48\n"
     ]
    }
   ],
   "source": [
    "print(len(G_Data_Array), len(R_Data_Array), len(I_Data_Array), len(Z_Data_Array), len(Y_Data_Array))"
   ]
  },
  {
   "cell_type": "code",
   "execution_count": 91,
   "id": "6a66431d-d73e-492c-b529-a6315b504a12",
   "metadata": {},
   "outputs": [],
   "source": [
    "for i in np.arange(1,len(R_RA_Array),1):\n",
    "    a = ([(R_Data_Array[i])])\n",
    "    b = ([(R_RA_Array[i])])\n",
    "    c = ([(R_DEC_Array[i])])\n",
    "    d = ([(R_Detect_ID[i])])\n",
    "    e = ([(R_Redshift_Array[i])])\n",
    "    f = ([(R_Mag_Array[i])])\n",
    "    g = ([(R_Mag_Err_Array[i])])\n",
    "    h = ([(R_Aperture_Array[i])])\n",
    "\n",
    "    Table_b.add_row([a,b,c,d,e,f,g,h])"
   ]
  },
  {
   "cell_type": "code",
   "execution_count": 92,
   "id": "583ec951-a04d-467b-8636-9656784ed5b4",
   "metadata": {},
   "outputs": [],
   "source": [
    "Table_b.write(\"/home/jovyan/work/stampede3/Table_Filters_065_075_R.fits\", overwrite = True)"
   ]
  },
  {
   "cell_type": "code",
   "execution_count": null,
   "id": "7cf2f58d-2274-4157-94a3-f02e7bc4d94f",
   "metadata": {},
   "outputs": [],
   "source": []
  },
  {
   "cell_type": "code",
   "execution_count": 93,
   "id": "000fcfda-04a1-41c5-9531-5ce1c2469aa9",
   "metadata": {},
   "outputs": [],
   "source": [
    "Table_start_a = ([(I_Data_Array[0])])\n",
    "Table_start_b = ([(I_RA_Array[0])])\n",
    "Table_start_c = ([(I_DEC_Array[0])])\n",
    "Table_start_d = ([(I_Detect_ID[0])])\n",
    "Table_start_e = ([(I_Redshift_Array[0])])\n",
    "Table_start_f = ([(I_Mag_Array[0])])\n",
    "Table_start_g = ([(I_Mag_Err_Array[0])])\n",
    "Table_start_h = ([(I_Aperture_Array[0])])\n",
    "\n",
    "\n",
    "Table_b = QTable([Table_start_a, Table_start_b, Table_start_c, Table_start_d, Table_start_e, Table_start_f, Table_start_g, Table_start_h], names=(\"I_Data\",\"I_RA\",\"I_DEC\", \"I_Detect_ID\", \"I_Z\", \"I_Mag\", \"I_Mag_Err\", \"I_Aperture_Array\"))\n"
   ]
  },
  {
   "cell_type": "code",
   "execution_count": 94,
   "id": "b9bdad7b-580b-4c48-864e-71695ade41f9",
   "metadata": {},
   "outputs": [],
   "source": [
    "for i in np.arange(1,len(I_RA_Array),1):\n",
    "    a = ([(I_Data_Array[i])])\n",
    "    b = ([(I_RA_Array[i])])\n",
    "    c = ([(I_DEC_Array[i])])\n",
    "    d = ([(I_Detect_ID[i])])\n",
    "    e = ([(I_Redshift_Array[i])])\n",
    "    f = ([(I_Mag_Array[i])])\n",
    "    g = ([(I_Mag_Err_Array[i])])\n",
    "    h = ([(I_Aperture_Array[i])])\n",
    "\n",
    "    Table_b.add_row([a,b,c,d,e,f,g,h])"
   ]
  },
  {
   "cell_type": "code",
   "execution_count": 95,
   "id": "27eb7de8-1ea9-42d8-babd-a4bf0d5dca5e",
   "metadata": {},
   "outputs": [],
   "source": [
    "Table_b.write(\"/home/jovyan/work/stampede3/Table_Filters_065_075_I.fits\", overwrite = True)"
   ]
  },
  {
   "cell_type": "code",
   "execution_count": null,
   "id": "82481e39-e487-4995-8933-0711ac78b9e4",
   "metadata": {},
   "outputs": [],
   "source": []
  },
  {
   "cell_type": "code",
   "execution_count": 96,
   "id": "47d7fc00-7165-47a9-8e53-62b843cf5c55",
   "metadata": {},
   "outputs": [],
   "source": [
    "Table_start_a = ([(Z_Data_Array[0])])\n",
    "Table_start_b = ([(Z_RA_Array[0])])\n",
    "Table_start_c = ([(Z_DEC_Array[0])])\n",
    "Table_start_d = ([(Z_Detect_ID[0])])\n",
    "Table_start_e = ([(Z_Redshift_Array[0])])\n",
    "Table_start_f = ([(Z_Mag_Array[0])])\n",
    "Table_start_g = ([(Z_Mag_Err_Array[0])])\n",
    "Table_start_h = ([(Z_Aperture_Array[0])])\n",
    "\n",
    "\n",
    "Table_b = QTable([Table_start_a, Table_start_b, Table_start_c, Table_start_d, Table_start_e, Table_start_f, Table_start_g, Table_start_h], names=(\"Z_Data\",\"Z_RA\",\"Z_DEC\", \"Z_Detect_ID\", \"Z_Z\", \"Z_Mag\", \"Z_Mag_Err\", \"Z_Aperture_Array\"))\n"
   ]
  },
  {
   "cell_type": "code",
   "execution_count": 97,
   "id": "c2e14f3b-1db4-47c6-905d-74893614a3c2",
   "metadata": {},
   "outputs": [],
   "source": [
    "for i in np.arange(1,len(Z_RA_Array),1):\n",
    "    a = ([(Z_Data_Array[i])])\n",
    "    b = ([(Z_RA_Array[i])])\n",
    "    c = ([(Z_DEC_Array[i])])\n",
    "    d = ([(Z_Detect_ID[i])])\n",
    "    e = ([(Z_Redshift_Array[i])])\n",
    "    f = ([(Z_Mag_Array[i])])\n",
    "    g = ([(Z_Mag_Err_Array[i])])\n",
    "    h = ([(Z_Aperture_Array[i])])\n",
    "\n",
    "    Table_b.add_row([a,b,c,d,e,f,g,h])"
   ]
  },
  {
   "cell_type": "code",
   "execution_count": 98,
   "id": "ac7eb7dc-eb0f-46bf-b8aa-9d177dcd8597",
   "metadata": {},
   "outputs": [],
   "source": [
    "Table_b.write(\"/home/jovyan/work/stampede3/Table_Filters_065_075_Z.fits\", overwrite = True)"
   ]
  },
  {
   "cell_type": "code",
   "execution_count": null,
   "id": "83711fad-7e46-49d0-97e8-000c5226029f",
   "metadata": {},
   "outputs": [],
   "source": []
  },
  {
   "cell_type": "code",
   "execution_count": 99,
   "id": "11a02669-75c2-45b0-a3a5-ea1027948c25",
   "metadata": {},
   "outputs": [],
   "source": [
    "Table_start_a = ([(Y_Data_Array[0])])\n",
    "Table_start_b = ([(Y_RA_Array[0])])\n",
    "Table_start_c = ([(Y_DEC_Array[0])])\n",
    "Table_start_d = ([(Y_Detect_ID[0])])\n",
    "Table_start_e = ([(Y_Redshift_Array[0])])\n",
    "Table_start_f = ([(Y_Mag_Array[0])])\n",
    "Table_start_g = ([(Y_Mag_Err_Array[0])])\n",
    "Table_start_h = ([(Y_Aperture_Array[0])])\n",
    "\n",
    "\n",
    "Table_b = QTable([Table_start_a, Table_start_b, Table_start_c, Table_start_d, Table_start_e, Table_start_f, Table_start_g, Table_start_h], names=(\"Y_Data\",\"Y_RA\",\"Y_DEC\", \"Y_Detect_ID\", \"Y_Z\", \"Y_Mag\", \"Y_Mag_Err\", \"Y_Aperture_Array\"))\n"
   ]
  },
  {
   "cell_type": "code",
   "execution_count": 100,
   "id": "9abb793c-fc27-4571-b955-132f9b9b80dc",
   "metadata": {},
   "outputs": [],
   "source": [
    "for i in np.arange(1,len(Y_RA_Array),1):\n",
    "    a = ([(Y_Data_Array[i])])\n",
    "    b = ([(Y_RA_Array[i])])\n",
    "    c = ([(Y_DEC_Array[i])])\n",
    "    d = ([(Y_Detect_ID[i])])\n",
    "    e = ([(Y_Redshift_Array[i])])\n",
    "    f = ([(Y_Mag_Array[i])])\n",
    "    g = ([(Y_Mag_Err_Array[i])])\n",
    "    h = ([(Y_Aperture_Array[i])])\n",
    "\n",
    "    Table_b.add_row([a,b,c,d,e,f,g,h])"
   ]
  },
  {
   "cell_type": "code",
   "execution_count": 101,
   "id": "521eabe4-89e3-42bc-a2ba-dc3c3577989d",
   "metadata": {},
   "outputs": [],
   "source": [
    "Table_b.write(\"/home/jovyan/work/stampede3/Table_Filters_065_075_Y.fits\", overwrite = True)"
   ]
  },
  {
   "cell_type": "markdown",
   "id": "97fcee54-fdd9-4ccb-be50-69b4412b1006",
   "metadata": {},
   "source": []
  },
  {
   "cell_type": "markdown",
   "id": "27242483-997c-4048-8564-7b47ed1219b8",
   "metadata": {},
   "source": [
    "<hr style=\"border:4px solid blue\">"
   ]
  },
  {
   "cell_type": "code",
   "execution_count": null,
   "id": "9186ab52-d1d3-459e-985c-7be5119f908d",
   "metadata": {},
   "outputs": [],
   "source": []
  },
  {
   "cell_type": "code",
   "execution_count": null,
   "id": "6b0c6ba7-5eb2-4594-93cd-7f714b982663",
   "metadata": {
    "scrolled": true
   },
   "outputs": [],
   "source": [
    "G_Data_Array = []\n",
    "G_RA_Array = []\n",
    "G_DEC_Array = []\n",
    "G_Detect_ID = []\n",
    "G_Redshift_Array = []\n",
    "G_Mag_Array = []\n",
    "G_Mag_Err_Array = []\n",
    "G_Aperture_Array = []\n",
    "\n",
    "R_Data_Array = []\n",
    "R_RA_Array = []\n",
    "R_DEC_Array = []\n",
    "R_Detect_ID = []\n",
    "R_Redshift_Array = []\n",
    "R_Mag_Array = []\n",
    "R_Mag_Err_Array = []\n",
    "R_Aperture_Array = []\n",
    "\n",
    "I_Data_Array = []\n",
    "I_RA_Array = []\n",
    "I_DEC_Array = []\n",
    "I_Detect_ID = []\n",
    "I_Redshift_Array = []\n",
    "I_Mag_Array = []\n",
    "I_Mag_Err_Array = []\n",
    "I_Aperture_Array = []\n",
    "\n",
    "Z_Data_Array = []\n",
    "Z_RA_Array = []\n",
    "Z_DEC_Array = []\n",
    "Z_Detect_ID = []\n",
    "Z_Redshift_Array = []\n",
    "Z_Mag_Array = []\n",
    "Z_Mag_Err_Array = []\n",
    "Z_Aperture_Array = []\n",
    "\n",
    "Y_Data_Array = []\n",
    "Y_RA_Array = []\n",
    "Y_DEC_Array = []\n",
    "Y_Detect_ID = []\n",
    "Y_Redshift_Array = []\n",
    "Y_Mag_Array = []\n",
    "Y_Mag_Err_Array = []\n",
    "Y_Aperture_Array = []\n",
    "\n",
    "\n",
    "\n",
    "\n",
    "for i in np.arange(len(Data_Redshift_Confirmed[\"RA\"][z_075_085_index])): \n",
    "\n",
    "#for i in np.arange(10): \n",
    "    coord7 = SkyCoord(Data_Redshift_Confirmed[\"RA\"][z_075_085_index][i], Data_Redshift_Confirmed[\"DEC\"][z_075_085_index][i], unit = 'deg')\n",
    "    cutouts7 = catlib.get_cutouts(position=coord7,radius=7.,aperture=1.5,dynamic=False,first=False,nudge=False,filter=None)\n",
    "\n",
    "    #print(cutouts7)\n",
    "    if len(cutouts7) > 0:\n",
    "        cutout = cutouts7[0] \n",
    "        #print(cutout['instrument'])\n",
    "        \n",
    "        if cutout['instrument'] == \"HSC SSP\":\n",
    "            for j in cutouts7:\n",
    "                #print(j['details'][\"filter_name\"])\n",
    "                \n",
    "                if j['details'][\"filter_name\"] == \"g\":\n",
    "                    #print(\"g\")\n",
    "                    #print(j['cutout'].error)\n",
    "                    G_Data_Array.append(j['cutout'].data)\n",
    "                    G_RA_Array.append(j['details']['ra'])\n",
    "                    G_DEC_Array.append(j['details']['dec'])\n",
    "                    G_Detect_ID.append(Data_Redshift_Confirmed[\"Detectid\"][z_075_085_index][i])\n",
    "                    G_Redshift_Array.append(Data_Redshift_Confirmed[\"z\"][z_075_085_index][i])\n",
    "                    G_Mag_Array.append(j['details']['mag'])\n",
    "                    G_Mag_Err_Array.append(j['details']['mag_err'])\n",
    "                    G_Aperture_Array.append(j['aperture'])\n",
    "\n",
    "                elif j['details'][\"filter_name\"] == \"r\":\n",
    "                    #print(\"r\")\n",
    "                    R_Data_Array.append(j['cutout'].data)\n",
    "                    R_RA_Array.append(j['details']['ra'])\n",
    "                    R_DEC_Array.append(j['details']['dec'])\n",
    "                    R_Detect_ID.append(Data_Redshift_Confirmed[\"Detectid\"][z_075_085_index][i])\n",
    "                    R_Redshift_Array.append(Data_Redshift_Confirmed[\"z\"][z_075_085_index][i])\n",
    "                    R_Mag_Array.append(j['details']['mag'])\n",
    "                    R_Mag_Err_Array.append(j['details']['mag_err'])\n",
    "                    R_Aperture_Array.append(j['aperture'])\n",
    "\n",
    "                elif j['details'][\"filter_name\"] == \"i\":\n",
    "                    I_Data_Array.append(j['cutout'].data)\n",
    "                    I_RA_Array.append(j['details']['ra'])\n",
    "                    I_DEC_Array.append(j['details']['dec'])\n",
    "                    I_Detect_ID.append(Data_Redshift_Confirmed[\"Detectid\"][z_075_085_index][i])\n",
    "                    I_Redshift_Array.append(Data_Redshift_Confirmed[\"z\"][z_075_085_index][i])\n",
    "                    I_Mag_Array.append(j['details']['mag'])\n",
    "                    I_Mag_Err_Array.append(j['details']['mag_err'])\n",
    "                    I_Aperture_Array.append(j['aperture'])\n",
    "\n",
    "                elif j['details'][\"filter_name\"] == \"z\":\n",
    "                    Z_Data_Array.append(j['cutout'].data)\n",
    "                    Z_RA_Array.append(j['details']['ra'])\n",
    "                    Z_DEC_Array.append(j['details']['dec'])\n",
    "                    Z_Detect_ID.append(Data_Redshift_Confirmed[\"Detectid\"][z_075_085_index][i])\n",
    "                    Z_Redshift_Array.append(Data_Redshift_Confirmed[\"z\"][z_075_085_index][i])\n",
    "                    Z_Mag_Array.append(j['details']['mag'])\n",
    "                    Z_Mag_Err_Array.append(j['details']['mag_err'])\n",
    "                    Z_Aperture_Array.append(j['aperture'])\n",
    "\n",
    "                elif j['details'][\"filter_name\"] == \"y\":\n",
    "                    Y_Data_Array.append(j['cutout'].data)\n",
    "                    Y_RA_Array.append(j['details']['ra'])\n",
    "                    Y_DEC_Array.append(j['details']['dec'])\n",
    "                    Y_Detect_ID.append(Data_Redshift_Confirmed[\"Detectid\"][z_075_085_index][i])\n",
    "                    Y_Redshift_Array.append(Data_Redshift_Confirmed[\"z\"][z_075_085_index][i])\n",
    "                    Y_Mag_Array.append(j['details']['mag'])\n",
    "                    Y_Mag_Err_Array.append(j['details']['mag_err'])\n",
    "                    Y_Aperture_Array.append(j['aperture'])\n",
    "\n",
    "\n",
    "print(np.average(Array))"
   ]
  },
  {
   "cell_type": "code",
   "execution_count": 103,
   "id": "19b7b24b-5515-4e1e-8182-9e26d15e179b",
   "metadata": {},
   "outputs": [],
   "source": [
    "Table_start_a = ([(G_Data_Array[0])])\n",
    "Table_start_b = ([(G_RA_Array[0])])\n",
    "Table_start_c = ([(G_DEC_Array[0])])\n",
    "Table_start_d = ([(G_Detect_ID[0])])\n",
    "Table_start_e = ([(G_Redshift_Array[0])])\n",
    "Table_start_f = ([(G_Mag_Array[0])])\n",
    "Table_start_g = ([(G_Mag_Err_Array[0])])\n",
    "Table_start_h = ([(G_Aperture_Array[0])])\n",
    "\n",
    "\n",
    "Table_b = QTable([Table_start_a, Table_start_b, Table_start_c, Table_start_d, Table_start_e, Table_start_f, Table_start_g, Table_start_h], names=(\"G_Data\",\"G_RA\",\"G_DEC\", \"G_Detect_ID\", \"G_Z\", \"G_Mag\", \"G_Mag_Err\", \"G_Aperture_Array\"))\n"
   ]
  },
  {
   "cell_type": "code",
   "execution_count": 104,
   "id": "276351fc-d4f8-465d-a497-48feaec1599a",
   "metadata": {},
   "outputs": [],
   "source": [
    "for i in np.arange(1,len(G_RA_Array),1):\n",
    "    a = ([(G_Data_Array[i])])\n",
    "    b = ([(G_RA_Array[i])])\n",
    "    c = ([(G_DEC_Array[i])])\n",
    "    d = ([(G_Detect_ID[i])])\n",
    "    e = ([(G_Redshift_Array[i])])\n",
    "    f = ([(G_Mag_Array[i])])\n",
    "    g = ([(G_Mag_Err_Array[i])])\n",
    "    h = ([(G_Aperture_Array[i])])\n",
    "\n",
    "    Table_b.add_row([a,b,c,d,e,f,g,h])"
   ]
  },
  {
   "cell_type": "code",
   "execution_count": 105,
   "id": "4b5be708-bbf9-4335-87f3-e13c9af27928",
   "metadata": {},
   "outputs": [],
   "source": [
    "Table_b.write(\"/home/jovyan/work/stampede3/Table_Filters_075_085_G.fits\", overwrite = True)"
   ]
  },
  {
   "cell_type": "code",
   "execution_count": null,
   "id": "ae09f35a-03d4-4768-bd83-cbc5e5035535",
   "metadata": {},
   "outputs": [],
   "source": []
  },
  {
   "cell_type": "code",
   "execution_count": 106,
   "id": "7a16175a-78d2-4a67-a8b9-fa18282b094f",
   "metadata": {},
   "outputs": [],
   "source": [
    "Table_start_a = ([(R_Data_Array[0])])\n",
    "Table_start_b = ([(R_RA_Array[0])])\n",
    "Table_start_c = ([(R_DEC_Array[0])])\n",
    "Table_start_d = ([(R_Detect_ID[0])])\n",
    "Table_start_e = ([(R_Redshift_Array[0])])\n",
    "Table_start_f = ([(R_Mag_Array[0])])\n",
    "Table_start_g = ([(R_Mag_Err_Array[0])])\n",
    "Table_start_h = ([(R_Aperture_Array[0])])\n",
    "\n",
    "\n",
    "Table_b = QTable([Table_start_a, Table_start_b, Table_start_c, Table_start_d, Table_start_e, Table_start_f, Table_start_g, Table_start_h], names=(\"R_Data\",\"R_RA\",\"R_DEC\", \"R_Detect_ID\", \"R_Z\", \"R_Mag\", \"R_Mag_Err\", \"R_Aperture_Array\"))\n"
   ]
  },
  {
   "cell_type": "code",
   "execution_count": 107,
   "id": "7259d900-27ad-4678-8f9f-e3939f5de3d1",
   "metadata": {},
   "outputs": [
    {
     "name": "stdout",
     "output_type": "stream",
     "text": [
      "89 89 72 88 53\n"
     ]
    }
   ],
   "source": [
    "print(len(G_Data_Array), len(R_Data_Array), len(I_Data_Array), len(Z_Data_Array), len(Y_Data_Array))"
   ]
  },
  {
   "cell_type": "code",
   "execution_count": 108,
   "id": "25aa2107-52f7-4a57-bc2f-aaba2418418a",
   "metadata": {},
   "outputs": [],
   "source": [
    "for i in np.arange(1,len(R_RA_Array),1):\n",
    "    a = ([(R_Data_Array[i])])\n",
    "    b = ([(R_RA_Array[i])])\n",
    "    c = ([(R_DEC_Array[i])])\n",
    "    d = ([(R_Detect_ID[i])])\n",
    "    e = ([(R_Redshift_Array[i])])\n",
    "    f = ([(R_Mag_Array[i])])\n",
    "    g = ([(R_Mag_Err_Array[i])])\n",
    "    h = ([(R_Aperture_Array[i])])\n",
    "\n",
    "    Table_b.add_row([a,b,c,d,e,f,g,h])"
   ]
  },
  {
   "cell_type": "code",
   "execution_count": 109,
   "id": "685d1eed-6f7b-4082-b5e9-0ef02bef594c",
   "metadata": {},
   "outputs": [],
   "source": [
    "Table_b.write(\"/home/jovyan/work/stampede3/Table_Filters_075_085_R.fits\", overwrite = True)"
   ]
  },
  {
   "cell_type": "code",
   "execution_count": null,
   "id": "bf009c2c-9aa8-4bee-acef-af33a5a37bcd",
   "metadata": {},
   "outputs": [],
   "source": []
  },
  {
   "cell_type": "code",
   "execution_count": 110,
   "id": "86ca182b-38bc-463c-b960-07f0e7be379e",
   "metadata": {},
   "outputs": [],
   "source": [
    "Table_start_a = ([(I_Data_Array[0])])\n",
    "Table_start_b = ([(I_RA_Array[0])])\n",
    "Table_start_c = ([(I_DEC_Array[0])])\n",
    "Table_start_d = ([(I_Detect_ID[0])])\n",
    "Table_start_e = ([(I_Redshift_Array[0])])\n",
    "Table_start_f = ([(I_Mag_Array[0])])\n",
    "Table_start_g = ([(I_Mag_Err_Array[0])])\n",
    "Table_start_h = ([(I_Aperture_Array[0])])\n",
    "\n",
    "\n",
    "Table_b = QTable([Table_start_a, Table_start_b, Table_start_c, Table_start_d, Table_start_e, Table_start_f, Table_start_g, Table_start_h], names=(\"I_Data\",\"I_RA\",\"I_DEC\", \"I_Detect_ID\", \"I_Z\", \"I_Mag\", \"I_Mag_Err\", \"I_Aperture_Array\"))\n"
   ]
  },
  {
   "cell_type": "code",
   "execution_count": 111,
   "id": "ad1fc3f9-5caa-4f6d-a90e-3a1a1a7c306a",
   "metadata": {},
   "outputs": [],
   "source": [
    "for i in np.arange(1,len(I_RA_Array),1):\n",
    "    a = ([(I_Data_Array[i])])\n",
    "    b = ([(I_RA_Array[i])])\n",
    "    c = ([(I_DEC_Array[i])])\n",
    "    d = ([(I_Detect_ID[i])])\n",
    "    e = ([(I_Redshift_Array[i])])\n",
    "    f = ([(I_Mag_Array[i])])\n",
    "    g = ([(I_Mag_Err_Array[i])])\n",
    "    h = ([(I_Aperture_Array[i])])\n",
    "\n",
    "    Table_b.add_row([a,b,c,d,e,f,g,h])"
   ]
  },
  {
   "cell_type": "code",
   "execution_count": 112,
   "id": "5e8cdce7-121a-462f-a06d-9d4a09a06916",
   "metadata": {},
   "outputs": [],
   "source": [
    "Table_b.write(\"/home/jovyan/work/stampede3/Table_Filters_075_085_I.fits\", overwrite = True)"
   ]
  },
  {
   "cell_type": "code",
   "execution_count": null,
   "id": "2eb68232-05be-40cf-9cc0-db5486b91666",
   "metadata": {},
   "outputs": [],
   "source": []
  },
  {
   "cell_type": "code",
   "execution_count": 113,
   "id": "5c15151f-7f75-4f41-878b-416ba229332f",
   "metadata": {},
   "outputs": [],
   "source": [
    "Table_start_a = ([(Z_Data_Array[0])])\n",
    "Table_start_b = ([(Z_RA_Array[0])])\n",
    "Table_start_c = ([(Z_DEC_Array[0])])\n",
    "Table_start_d = ([(Z_Detect_ID[0])])\n",
    "Table_start_e = ([(Z_Redshift_Array[0])])\n",
    "Table_start_f = ([(Z_Mag_Array[0])])\n",
    "Table_start_g = ([(Z_Mag_Err_Array[0])])\n",
    "Table_start_h = ([(Z_Aperture_Array[0])])\n",
    "\n",
    "\n",
    "Table_b = QTable([Table_start_a, Table_start_b, Table_start_c, Table_start_d, Table_start_e, Table_start_f, Table_start_g, Table_start_h], names=(\"Z_Data\",\"Z_RA\",\"Z_DEC\", \"Z_Detect_ID\", \"Z_Z\", \"Z_Mag\", \"Z_Mag_Err\", \"Z_Aperture_Array\"))\n"
   ]
  },
  {
   "cell_type": "code",
   "execution_count": 114,
   "id": "34b36f8d-251f-4323-9f75-31a7c6c4569c",
   "metadata": {},
   "outputs": [],
   "source": [
    "for i in np.arange(1,len(Z_RA_Array),1):\n",
    "    a = ([(Z_Data_Array[i])])\n",
    "    b = ([(Z_RA_Array[i])])\n",
    "    c = ([(Z_DEC_Array[i])])\n",
    "    d = ([(Z_Detect_ID[i])])\n",
    "    e = ([(Z_Redshift_Array[i])])\n",
    "    f = ([(Z_Mag_Array[i])])\n",
    "    g = ([(Z_Mag_Err_Array[i])])\n",
    "    h = ([(Z_Aperture_Array[i])])\n",
    "\n",
    "    Table_b.add_row([a,b,c,d,e,f,g,h])"
   ]
  },
  {
   "cell_type": "code",
   "execution_count": 115,
   "id": "11331030-34af-496c-81b0-79393852f76d",
   "metadata": {},
   "outputs": [],
   "source": [
    "Table_b.write(\"/home/jovyan/work/stampede3/Table_Filters_075_085_Z.fits\", overwrite = True)"
   ]
  },
  {
   "cell_type": "code",
   "execution_count": null,
   "id": "144aae2a-dfe9-4767-9904-505b37d9d3e4",
   "metadata": {},
   "outputs": [],
   "source": []
  },
  {
   "cell_type": "code",
   "execution_count": 116,
   "id": "4957ad7f-ca06-482f-b352-e062d840f163",
   "metadata": {},
   "outputs": [],
   "source": [
    "Table_start_a = ([(Y_Data_Array[0])])\n",
    "Table_start_b = ([(Y_RA_Array[0])])\n",
    "Table_start_c = ([(Y_DEC_Array[0])])\n",
    "Table_start_d = ([(Y_Detect_ID[0])])\n",
    "Table_start_e = ([(Y_Redshift_Array[0])])\n",
    "Table_start_f = ([(Y_Mag_Array[0])])\n",
    "Table_start_g = ([(Y_Mag_Err_Array[0])])\n",
    "Table_start_h = ([(Y_Aperture_Array[0])])\n",
    "\n",
    "\n",
    "Table_b = QTable([Table_start_a, Table_start_b, Table_start_c, Table_start_d, Table_start_e, Table_start_f, Table_start_g, Table_start_h], names=(\"Y_Data\",\"Y_RA\",\"Y_DEC\", \"Y_Detect_ID\", \"Y_Z\", \"Y_Mag\", \"Y_Mag_Err\", \"Y_Aperture_Array\"))\n"
   ]
  },
  {
   "cell_type": "code",
   "execution_count": 117,
   "id": "b8d10a26-6a62-465b-bca0-5de85b144e89",
   "metadata": {},
   "outputs": [],
   "source": [
    "for i in np.arange(1,len(Y_RA_Array),1):\n",
    "    a = ([(Y_Data_Array[i])])\n",
    "    b = ([(Y_RA_Array[i])])\n",
    "    c = ([(Y_DEC_Array[i])])\n",
    "    d = ([(Y_Detect_ID[i])])\n",
    "    e = ([(Y_Redshift_Array[i])])\n",
    "    f = ([(Y_Mag_Array[i])])\n",
    "    g = ([(Y_Mag_Err_Array[i])])\n",
    "    h = ([(Y_Aperture_Array[i])])\n",
    "\n",
    "    Table_b.add_row([a,b,c,d,e,f,g,h])"
   ]
  },
  {
   "cell_type": "code",
   "execution_count": 118,
   "id": "4b46d133-b137-40cb-b548-0317d4b558c8",
   "metadata": {},
   "outputs": [],
   "source": [
    "Table_b.write(\"/home/jovyan/work/stampede3/Table_Filters_075_085_Y.fits\", overwrite = True)"
   ]
  },
  {
   "cell_type": "markdown",
   "id": "f508b0c0-7c06-46bd-af0e-0cf81897869d",
   "metadata": {},
   "source": []
  },
  {
   "cell_type": "markdown",
   "id": "c7aa04f8-3b11-4650-bc4b-f6ba24bfc45d",
   "metadata": {},
   "source": [
    "<hr style=\"border:4px solid blue\">"
   ]
  },
  {
   "cell_type": "code",
   "execution_count": null,
   "id": "37d7aebe-abcd-4a1e-a3b9-a32ffa38a529",
   "metadata": {},
   "outputs": [],
   "source": []
  },
  {
   "cell_type": "code",
   "execution_count": 13,
   "id": "a87ce505-e4e6-43c6-aeb7-bf14e49d8b3c",
   "metadata": {
    "scrolled": true
   },
   "outputs": [
    {
     "name": "stdout",
     "output_type": "stream",
     "text": [
      "1.5713871481528403\n"
     ]
    }
   ],
   "source": [
    "G_Data_Array = []\n",
    "G_RA_Array = []\n",
    "G_DEC_Array = []\n",
    "G_Detect_ID = []\n",
    "G_Redshift_Array = []\n",
    "G_Mag_Array = []\n",
    "G_Mag_Err_Array = []\n",
    "G_Aperture_Array = []\n",
    "\n",
    "R_Data_Array = []\n",
    "R_RA_Array = []\n",
    "R_DEC_Array = []\n",
    "R_Detect_ID = []\n",
    "R_Redshift_Array = []\n",
    "R_Mag_Array = []\n",
    "R_Mag_Err_Array = []\n",
    "R_Aperture_Array = []\n",
    "\n",
    "I_Data_Array = []\n",
    "I_RA_Array = []\n",
    "I_DEC_Array = []\n",
    "I_Detect_ID = []\n",
    "I_Redshift_Array = []\n",
    "I_Mag_Array = []\n",
    "I_Mag_Err_Array = []\n",
    "I_Aperture_Array = []\n",
    "\n",
    "Z_Data_Array = []\n",
    "Z_RA_Array = []\n",
    "Z_DEC_Array = []\n",
    "Z_Detect_ID = []\n",
    "Z_Redshift_Array = []\n",
    "Z_Mag_Array = []\n",
    "Z_Mag_Err_Array = []\n",
    "Z_Aperture_Array = []\n",
    "\n",
    "Y_Data_Array = []\n",
    "Y_RA_Array = []\n",
    "Y_DEC_Array = []\n",
    "Y_Detect_ID = []\n",
    "Y_Redshift_Array = []\n",
    "Y_Mag_Array = []\n",
    "Y_Mag_Err_Array = []\n",
    "Y_Aperture_Array = []\n",
    "\n",
    "\n",
    "for i in np.arange(len(Data_Redshift_Confirmed[\"RA\"][z_085_096_index])): \n",
    "\n",
    "#for i in np.arange(10): \n",
    "    coord7 = SkyCoord(Data_Redshift_Confirmed[\"RA\"][z_085_096_index][i], Data_Redshift_Confirmed[\"DEC\"][z_085_096_index][i], unit = 'deg')\n",
    "    cutouts7 = catlib.get_cutouts(position=coord7,radius=7.,aperture=1.5,dynamic=False,first=False,nudge=False,filter=None)\n",
    "\n",
    "    #print(cutouts7)\n",
    "    if len(cutouts7) > 0:\n",
    "        cutout = cutouts7[0] \n",
    "        #print(cutout['instrument'])\n",
    "        \n",
    "        if cutout['instrument'] == \"HSC SSP\":\n",
    "            for j in cutouts7:\n",
    "                #print(j['details'][\"filter_name\"])\n",
    "                \n",
    "                if j['details'][\"filter_name\"] == \"g\":\n",
    "                    #print(\"g\")\n",
    "                    #print(j['cutout'].error)\n",
    "                    G_Data_Array.append(j['cutout'].data)\n",
    "                    G_RA_Array.append(j['details']['ra'])\n",
    "                    G_DEC_Array.append(j['details']['dec'])\n",
    "                    G_Detect_ID.append(Data_Redshift_Confirmed[\"Detectid\"][z_085_096_index][i])\n",
    "                    G_Redshift_Array.append(Data_Redshift_Confirmed[\"z\"][z_085_096_index][i])\n",
    "                    G_Mag_Array.append(j['details']['mag'])\n",
    "                    G_Mag_Err_Array.append(j['details']['mag_err'])\n",
    "                    G_Aperture_Array.append(j['aperture'])\n",
    "\n",
    "                elif j['details'][\"filter_name\"] == \"r\":\n",
    "                    #print(\"r\")\n",
    "                    R_Data_Array.append(j['cutout'].data)\n",
    "                    R_RA_Array.append(j['details']['ra'])\n",
    "                    R_DEC_Array.append(j['details']['dec'])\n",
    "                    R_Detect_ID.append(Data_Redshift_Confirmed[\"Detectid\"][z_085_096_index][i])\n",
    "                    R_Redshift_Array.append(Data_Redshift_Confirmed[\"z\"][z_085_096_index][i])\n",
    "                    R_Mag_Array.append(j['details']['mag'])\n",
    "                    R_Mag_Err_Array.append(j['details']['mag_err'])\n",
    "                    R_Aperture_Array.append(j['aperture'])\n",
    "\n",
    "                elif j['details'][\"filter_name\"] == \"i\":\n",
    "                    I_Data_Array.append(j['cutout'].data)\n",
    "                    I_RA_Array.append(j['details']['ra'])\n",
    "                    I_DEC_Array.append(j['details']['dec'])\n",
    "                    I_Detect_ID.append(Data_Redshift_Confirmed[\"Detectid\"][z_085_096_index][i])\n",
    "                    I_Redshift_Array.append(Data_Redshift_Confirmed[\"z\"][z_085_096_index][i])\n",
    "                    I_Mag_Array.append(j['details']['mag'])\n",
    "                    I_Mag_Err_Array.append(j['details']['mag_err'])\n",
    "                    I_Aperture_Array.append(j['aperture'])\n",
    "\n",
    "                elif j['details'][\"filter_name\"] == \"z\":\n",
    "                    Z_Data_Array.append(j['cutout'].data)\n",
    "                    Z_RA_Array.append(j['details']['ra'])\n",
    "                    Z_DEC_Array.append(j['details']['dec'])\n",
    "                    Z_Detect_ID.append(Data_Redshift_Confirmed[\"Detectid\"][z_085_096_index][i])\n",
    "                    Z_Redshift_Array.append(Data_Redshift_Confirmed[\"z\"][z_085_096_index][i])\n",
    "                    Z_Mag_Array.append(j['details']['mag'])\n",
    "                    Z_Mag_Err_Array.append(j['details']['mag_err'])\n",
    "                    Z_Aperture_Array.append(j['aperture'])\n",
    "\n",
    "                elif j['details'][\"filter_name\"] == \"y\":\n",
    "                    Y_Data_Array.append(j['cutout'].data)\n",
    "                    Y_RA_Array.append(j['details']['ra'])\n",
    "                    Y_DEC_Array.append(j['details']['dec'])\n",
    "                    Y_Detect_ID.append(Data_Redshift_Confirmed[\"Detectid\"][z_085_096_index][i])\n",
    "                    Y_Redshift_Array.append(Data_Redshift_Confirmed[\"z\"][z_085_096_index][i])\n",
    "                    Y_Mag_Array.append(j['details']['mag'])\n",
    "                    Y_Mag_Err_Array.append(j['details']['mag_err'])\n",
    "                    Y_Aperture_Array.append(j['aperture'])\n",
    "\n"
   ]
  },
  {
   "cell_type": "code",
   "execution_count": null,
   "id": "61c07369-df13-4fdd-9f55-1a8040cc3e74",
   "metadata": {},
   "outputs": [],
   "source": []
  },
  {
   "cell_type": "code",
   "execution_count": 120,
   "id": "8186bfc6-ea47-451e-a8e4-6658a70e2a2e",
   "metadata": {},
   "outputs": [],
   "source": [
    "Table_start_a = ([(G_Data_Array[0])])\n",
    "Table_start_b = ([(G_RA_Array[0])])\n",
    "Table_start_c = ([(G_DEC_Array[0])])\n",
    "Table_start_d = ([(G_Detect_ID[0])])\n",
    "Table_start_e = ([(G_Redshift_Array[0])])\n",
    "Table_start_f = ([(G_Mag_Array[0])])\n",
    "Table_start_g = ([(G_Mag_Err_Array[0])])\n",
    "Table_start_h = ([(G_Aperture_Array[0])])\n",
    "\n",
    "\n",
    "Table_b = QTable([Table_start_a, Table_start_b, Table_start_c, Table_start_d, Table_start_e, Table_start_f, Table_start_g, Table_start_h], names=(\"G_Data\",\"G_RA\",\"G_DEC\", \"G_Detect_ID\", \"G_Z\", \"G_Mag\", \"G_Mag_Err\", \"G_Aperture_Array\"))\n"
   ]
  },
  {
   "cell_type": "code",
   "execution_count": 121,
   "id": "736bd807-ed21-47ff-9fd3-e03149c8ac1c",
   "metadata": {},
   "outputs": [],
   "source": [
    "for i in np.arange(1,len(G_RA_Array),1):\n",
    "    a = ([(G_Data_Array[i])])\n",
    "    b = ([(G_RA_Array[i])])\n",
    "    c = ([(G_DEC_Array[i])])\n",
    "    d = ([(G_Detect_ID[i])])\n",
    "    e = ([(G_Redshift_Array[i])])\n",
    "    f = ([(G_Mag_Array[i])])\n",
    "    g = ([(G_Mag_Err_Array[i])])\n",
    "    h = ([(G_Aperture_Array[i])])\n",
    "\n",
    "    Table_b.add_row([a,b,c,d,e,f,g,h])"
   ]
  },
  {
   "cell_type": "code",
   "execution_count": 122,
   "id": "abc53445-7929-4a5f-8f48-1594e48de3f8",
   "metadata": {},
   "outputs": [],
   "source": [
    "Table_b.write(\"/home/jovyan/work/stampede3/Table_Filters_085_096_G.fits\", overwrite = True)"
   ]
  },
  {
   "cell_type": "code",
   "execution_count": 34,
   "id": "a1747b76-b3a4-4e18-854c-835c725ad1f7",
   "metadata": {},
   "outputs": [
    {
     "name": "stdout",
     "output_type": "stream",
     "text": [
      "[  0   1   2   3   4   6   7   8  10  11  12  13  14  15  16  17  18  19\n",
      "  20  21  22  23  24  25  26  27  28  29  30  32  33  34  35  36  37  38\n",
      "  39  40  41  42  44  45  46  47  48  49  50  51  52  53  54  55  56  57\n",
      "  58  59  60  61  62  64  65  66  67  68  69  70  71  72  73  74  75  76\n",
      "  77  78  79  80  81  82  83  84  85  86  87  88  90  91  92  93  94  95\n",
      "  96  97  98  99 100 101 102 103]\n",
      "\n",
      "[2100419393, 2100601276, 3001378239, 3001386943, 3001388745, 3001633986, 3003987521, 3004109185, 3004170716, 3004215685, 3004453010, 3004454194, 3004530683, 3004947421, 3004979031, 3005104659, 3005586880, 3009467338, 3009476001, 3009521626, 3009576004, 3009839711, 3009857113, 3009870077, 3009913922, 3010353360, 3010967164, 3010971217, 3013732033, 3090004617, 3090006539, 3090034141, 3090035834, 3090039626, 3090041292, 3090044281, 3090048640, 3090053658, 3090097254, 3090097597, 3090097766, 3090103158, 3090103690, 3090109068, 3090109154, 3090111934, 3090112550, 3090112759, 3090113243, 3090119786, 3090128460, 3090216630, 3090216683, 3090217349, 3090219040, 3090221362, 3090223857, 3090228030, 3090233422, 3090234396, 3090240448, 4014312197, 4014719652, 4014782244, 4014968312, 4015534349, 4015935737, 4016119513, 4016274269, 4024215706, 4024662823, 4024951338, 4025274585, 4029362002, 4029427044, 4090306799, 4090306896, 4090308471, 4090308716, 4090313352, 4090313388, 4090314556, 4090322309, 4090323474, 4090326553, 4090337778, 4090339483, 4090345851, 4090349878, 4090350495, 4090353405, 4090354023, 4090470638, 4090472101, 4090472564, 4090475496, 4090483525, 4090483691, 4090487869, 4090488288, 4090491154, 4090500808, 4090565559, 4090573141]\n",
      "\n",
      "\n",
      "[1.49547248 1.13342297 1.79351981 1.44705513 1.63232101 1.25460822\n",
      " 1.39462954 1.10557023 1.72147718 1.32193105 1.46154189 1.46260006\n",
      " 1.48054758 1.59314448 1.59714122 1.63535784 1.77883697 1.48272168\n",
      " 1.67592733 1.85038688 1.36507635 1.19116278 1.41549393 1.2669585\n",
      " 1.38370427 1.17843423 1.32664893 1.52754226 1.59271449 1.47834607\n",
      " 1.9177419  2.6243938  1.36117636 1.84944465 1.57952096 1.89333893\n",
      " 1.52230621 1.30468159 1.84877402 1.77555925 1.71851707 1.328637\n",
      " 1.66204254 2.26149367 1.59029149 1.48881216 1.43096236 1.89839462\n",
      " 1.40777732 1.68444315 1.77656983 1.26761063 1.27861404 1.22503223\n",
      " 1.6751204  1.74730092 1.40603044 1.30960088 1.35917457 1.54956166\n",
      " 1.36886406 1.66953866 1.60364854 5.46217241 1.4704795  1.59996404\n",
      " 1.38328659 1.70039241 1.72414705 1.64714314 1.3793275  1.35970739\n",
      " 1.95617364 1.87312507 1.8568991  1.28004196 1.41982362 1.62789076\n",
      " 1.49159417 1.86435895 1.54988738 1.16086283 1.42898191 1.24318314\n",
      " 1.43374749 1.25067123 1.29951125 1.69526488 1.69734944 1.56234122\n",
      " 1.83006847 1.5335594  1.21303972 1.28471169 1.43760012 1.46607664\n",
      " 1.34237361 1.76492689 1.23358692 1.65474678 1.31314625 1.40736238\n",
      " 1.47530247 1.62016277]\n",
      "1.5197686025099546\n"
     ]
    }
   ],
   "source": [
    "Array_ID = [2100419393, 2100601276, 3001378239, 3001386943, 3001388745, 3003987521, 3004109185, 3004170716, 3004453010, 3004454194, 3004530683, 3004947421, 3004979031, 3005104659, 3005586880, 3009467338, 3009476001, 3009521626, 3009576004, 3009839711, 3009857113, 3009870077, 3009913922, 3010353360, 3010967164, 3010971217, 3013732033, 3090004617, 3090006539, 3090035834, 3090039626, 3090041292, 3090044281, 3090048640, 3090053658, 3090097254, 3090097597, 3090097766, 3090103158, 3090103690, 3090109154, 3090111934, 3090112550, 3090112759, 3090113243, 3090119786, 3090128460, 3090216630, 3090216683, 3090217349, 3090219040, 3090221362, 3090223857, 3090228030, 3090233422, 3090234396, 3090240448, 4014312197, 4014719652, 4014968312, 4015534349, 4015935737, 4016119513, 4016274269, 4024215706, 4024662823, 4024951338, 4025274585, 4029362002, 4029427044, 4090306799, 4090306896, 4090308471, 4090308716, 4090313352, 4090313388, 4090314556, 4090322309, 4090323474, 4090326553, 4090337778, 4090339483, 4090345851, 4090349878, 4090353405, 4090354023, 4090470638, 4090472101, 4090472564, 4090475496, 4090483525, 4090483691, 4090487869, 4090488288, 4090491154, 4090500808, 4090565559, 4090573141]\n",
    "gg = np.where(np.isin(G_Detect_ID, Array_ID))[0]\n",
    "\n",
    "print(gg)\n",
    "print()\n",
    "print(G_Detect_ID)\n",
    "\n",
    "print(\"\")\n",
    "print(\"\")\n",
    "print(np.array(Array))\n",
    "print(np.average(np.array(Array)[gg]))\n",
    "\n"
   ]
  },
  {
   "cell_type": "code",
   "execution_count": 123,
   "id": "00a3667f-b725-4402-b5b5-52980b46cec4",
   "metadata": {},
   "outputs": [],
   "source": [
    "Table_start_a = ([(R_Data_Array[0])])\n",
    "Table_start_b = ([(R_RA_Array[0])])\n",
    "Table_start_c = ([(R_DEC_Array[0])])\n",
    "Table_start_d = ([(R_Detect_ID[0])])\n",
    "Table_start_e = ([(R_Redshift_Array[0])])\n",
    "Table_start_f = ([(R_Mag_Array[0])])\n",
    "Table_start_g = ([(R_Mag_Err_Array[0])])\n",
    "Table_start_h = ([(R_Aperture_Array[0])])\n",
    "\n",
    "\n",
    "Table_b = QTable([Table_start_a, Table_start_b, Table_start_c, Table_start_d, Table_start_e, Table_start_f, Table_start_g, Table_start_h], names=(\"R_Data\",\"R_RA\",\"R_DEC\", \"R_Detect_ID\", \"R_Z\", \"R_Mag\", \"R_Mag_Err\", \"R_Aperture_Array\"))\n"
   ]
  },
  {
   "cell_type": "code",
   "execution_count": 124,
   "id": "b5b5cd5e-4f65-4c0d-ad84-f524a92009fd",
   "metadata": {},
   "outputs": [
    {
     "name": "stdout",
     "output_type": "stream",
     "text": [
      "104 104 91 104 72\n"
     ]
    }
   ],
   "source": [
    "print(len(G_Data_Array), len(R_Data_Array), len(I_Data_Array), len(Z_Data_Array), len(Y_Data_Array))"
   ]
  },
  {
   "cell_type": "code",
   "execution_count": 125,
   "id": "0adbb47c-4b00-4ab6-8be0-3b1de713cd4c",
   "metadata": {},
   "outputs": [],
   "source": [
    "for i in np.arange(1,len(R_RA_Array),1):\n",
    "    a = ([(R_Data_Array[i])])\n",
    "    b = ([(R_RA_Array[i])])\n",
    "    c = ([(R_DEC_Array[i])])\n",
    "    d = ([(R_Detect_ID[i])])\n",
    "    e = ([(R_Redshift_Array[i])])\n",
    "    f = ([(R_Mag_Array[i])])\n",
    "    g = ([(R_Mag_Err_Array[i])])\n",
    "    h = ([(R_Aperture_Array[i])])\n",
    "\n",
    "    Table_b.add_row([a,b,c,d,e,f,g,h])"
   ]
  },
  {
   "cell_type": "code",
   "execution_count": 126,
   "id": "b6624cf8-222d-4104-a83e-7ec575c89eba",
   "metadata": {},
   "outputs": [],
   "source": [
    "Table_b.write(\"/home/jovyan/work/stampede3/Table_Filters_085_096_R.fits\", overwrite = True)"
   ]
  },
  {
   "cell_type": "markdown",
   "id": "8075477a-b61f-45af-8d74-477ad1eb1061",
   "metadata": {},
   "source": []
  },
  {
   "cell_type": "code",
   "execution_count": 127,
   "id": "64aaa012-4658-4430-8221-18c15769c7dd",
   "metadata": {},
   "outputs": [],
   "source": [
    "Table_start_a = ([(I_Data_Array[0])])\n",
    "Table_start_b = ([(I_RA_Array[0])])\n",
    "Table_start_c = ([(I_DEC_Array[0])])\n",
    "Table_start_d = ([(I_Detect_ID[0])])\n",
    "Table_start_e = ([(I_Redshift_Array[0])])\n",
    "Table_start_f = ([(I_Mag_Array[0])])\n",
    "Table_start_g = ([(I_Mag_Err_Array[0])])\n",
    "Table_start_h = ([(I_Aperture_Array[0])])\n",
    "\n",
    "\n",
    "Table_b = QTable([Table_start_a, Table_start_b, Table_start_c, Table_start_d, Table_start_e, Table_start_f, Table_start_g, Table_start_h], names=(\"I_Data\",\"I_RA\",\"I_DEC\", \"I_Detect_ID\", \"I_Z\", \"I_Mag\", \"I_Mag_Err\", \"I_Aperture_Array\"))\n"
   ]
  },
  {
   "cell_type": "code",
   "execution_count": 128,
   "id": "1088f87a-db49-467c-9fac-4f80eda596f8",
   "metadata": {},
   "outputs": [],
   "source": [
    "for i in np.arange(1,len(I_RA_Array),1):\n",
    "    a = ([(I_Data_Array[i])])\n",
    "    b = ([(I_RA_Array[i])])\n",
    "    c = ([(I_DEC_Array[i])])\n",
    "    d = ([(I_Detect_ID[i])])\n",
    "    e = ([(I_Redshift_Array[i])])\n",
    "    f = ([(I_Mag_Array[i])])\n",
    "    g = ([(I_Mag_Err_Array[i])])\n",
    "    h = ([(I_Aperture_Array[i])])\n",
    "\n",
    "    Table_b.add_row([a,b,c,d,e,f,g,h])"
   ]
  },
  {
   "cell_type": "code",
   "execution_count": 129,
   "id": "42dfd600-b0cc-4149-a639-66104ab424eb",
   "metadata": {},
   "outputs": [],
   "source": [
    "Table_b.write(\"/home/jovyan/work/stampede3/Table_Filters_085_096_I.fits\", overwrite = True)"
   ]
  },
  {
   "cell_type": "code",
   "execution_count": null,
   "id": "aba7d0ab-aa93-4c67-99e2-5381b43dc36e",
   "metadata": {},
   "outputs": [],
   "source": []
  },
  {
   "cell_type": "code",
   "execution_count": 130,
   "id": "6aa5dfc6-c7e5-4c6a-99c0-1329e2b3d8ce",
   "metadata": {},
   "outputs": [],
   "source": [
    "Table_start_a = ([(Z_Data_Array[0])])\n",
    "Table_start_b = ([(Z_RA_Array[0])])\n",
    "Table_start_c = ([(Z_DEC_Array[0])])\n",
    "Table_start_d = ([(Z_Detect_ID[0])])\n",
    "Table_start_e = ([(Z_Redshift_Array[0])])\n",
    "Table_start_f = ([(Z_Mag_Array[0])])\n",
    "Table_start_g = ([(Z_Mag_Err_Array[0])])\n",
    "Table_start_h = ([(Z_Aperture_Array[0])])\n",
    "\n",
    "\n",
    "Table_b = QTable([Table_start_a, Table_start_b, Table_start_c, Table_start_d, Table_start_e, Table_start_f, Table_start_g, Table_start_h], names=(\"Z_Data\",\"Z_RA\",\"Z_DEC\", \"Z_Detect_ID\", \"Z_Z\", \"Z_Mag\", \"Z_Mag_Err\", \"Z_Aperture_Array\"))\n"
   ]
  },
  {
   "cell_type": "code",
   "execution_count": 131,
   "id": "895a39c6-be4f-4499-95ed-c3d960f66880",
   "metadata": {},
   "outputs": [],
   "source": [
    "for i in np.arange(1,len(Z_RA_Array),1):\n",
    "    a = ([(Z_Data_Array[i])])\n",
    "    b = ([(Z_RA_Array[i])])\n",
    "    c = ([(Z_DEC_Array[i])])\n",
    "    d = ([(Z_Detect_ID[i])])\n",
    "    e = ([(Z_Redshift_Array[i])])\n",
    "    f = ([(Z_Mag_Array[i])])\n",
    "    g = ([(Z_Mag_Err_Array[i])])\n",
    "    h = ([(Z_Aperture_Array[i])])\n",
    "\n",
    "    Table_b.add_row([a,b,c,d,e,f,g,h])"
   ]
  },
  {
   "cell_type": "code",
   "execution_count": 132,
   "id": "8cab06b1-82dc-4474-9598-7c0e0fc218ef",
   "metadata": {},
   "outputs": [],
   "source": [
    "Table_b.write(\"/home/jovyan/work/stampede3/Table_Filters_085_096_Z.fits\", overwrite = True)"
   ]
  },
  {
   "cell_type": "code",
   "execution_count": null,
   "id": "d8d57073-027a-4c05-9ccf-909739fddebc",
   "metadata": {},
   "outputs": [],
   "source": []
  },
  {
   "cell_type": "code",
   "execution_count": 133,
   "id": "b65920dd-fa8a-48cf-a6d8-a94bc3b3bc3b",
   "metadata": {},
   "outputs": [],
   "source": [
    "Table_start_a = ([(Y_Data_Array[0])])\n",
    "Table_start_b = ([(Y_RA_Array[0])])\n",
    "Table_start_c = ([(Y_DEC_Array[0])])\n",
    "Table_start_d = ([(Y_Detect_ID[0])])\n",
    "Table_start_e = ([(Y_Redshift_Array[0])])\n",
    "Table_start_f = ([(Y_Mag_Array[0])])\n",
    "Table_start_g = ([(Y_Mag_Err_Array[0])])\n",
    "Table_start_h = ([(Y_Aperture_Array[0])])\n",
    "\n",
    "\n",
    "Table_b = QTable([Table_start_a, Table_start_b, Table_start_c, Table_start_d, Table_start_e, Table_start_f, Table_start_g, Table_start_h], names=(\"Y_Data\",\"Y_RA\",\"Y_DEC\", \"Y_Detect_ID\", \"Y_Z\", \"Y_Mag\", \"Y_Mag_Err\", \"Y_Aperture_Array\"))\n"
   ]
  },
  {
   "cell_type": "code",
   "execution_count": 134,
   "id": "b4c1de00-9690-4f75-8f31-d31112c9f12c",
   "metadata": {},
   "outputs": [],
   "source": [
    "for i in np.arange(1,len(Y_RA_Array),1):\n",
    "    a = ([(Y_Data_Array[i])])\n",
    "    b = ([(Y_RA_Array[i])])\n",
    "    c = ([(Y_DEC_Array[i])])\n",
    "    d = ([(Y_Detect_ID[i])])\n",
    "    e = ([(Y_Redshift_Array[i])])\n",
    "    f = ([(Y_Mag_Array[i])])\n",
    "    g = ([(Y_Mag_Err_Array[i])])\n",
    "    h = ([(Y_Aperture_Array[i])])\n",
    "\n",
    "    Table_b.add_row([a,b,c,d,e,f,g,h])"
   ]
  },
  {
   "cell_type": "code",
   "execution_count": 135,
   "id": "a7368dd8-edc9-4384-9560-1dc132b1f7cd",
   "metadata": {},
   "outputs": [],
   "source": [
    "Table_b.write(\"/home/jovyan/work/stampede3/Table_Filters_085_096_Y.fits\", overwrite = True)"
   ]
  },
  {
   "cell_type": "markdown",
   "id": "e8e2e147-addc-441e-8569-48c835dfe7a0",
   "metadata": {},
   "source": []
  },
  {
   "cell_type": "markdown",
   "id": "fd6f549a-58e1-4e56-ae09-ca9d0b4ba0d2",
   "metadata": {},
   "source": [
    "<hr style=\"border:4px solid blue\">"
   ]
  },
  {
   "cell_type": "code",
   "execution_count": null,
   "id": "4370f244-3cde-4018-8cc2-5eb165eae1da",
   "metadata": {},
   "outputs": [],
   "source": []
  },
  {
   "cell_type": "code",
   "execution_count": null,
   "id": "1d61fa09-3cad-4dea-aed9-5a02ab38ccb5",
   "metadata": {},
   "outputs": [],
   "source": []
  },
  {
   "cell_type": "code",
   "execution_count": null,
   "id": "da8b4936-7b3f-4948-ae26-5f47456204c6",
   "metadata": {},
   "outputs": [],
   "source": []
  },
  {
   "cell_type": "markdown",
   "id": "23ccf5b1-0cba-43d6-8c8d-246d731c27f3",
   "metadata": {},
   "source": [
    "## <font color='#e55730' size=3 >Opening Files</font>"
   ]
  },
  {
   "cell_type": "code",
   "execution_count": 136,
   "id": "c6aa2b24-bfa2-40bd-a19c-3dda296486d5",
   "metadata": {},
   "outputs": [],
   "source": [
    "G_File_Filters_025_035 = \"Table_Filters_025_035_G.fits\"\n",
    "R_File_Filters_025_035 = \"Table_Filters_025_035_R.fits\"\n",
    "I_File_Filters_025_035 = \"Table_Filters_025_035_I.fits\"\n",
    "Z_File_Filters_025_035 = \"Table_Filters_025_035_Z.fits\"\n",
    "Y_File_Filters_025_035 = \"Table_Filters_025_035_Y.fits\"\n",
    "\n",
    "\n",
    "\n",
    "G_File_Filters_035_045 = \"Table_Filters_035_045_G.fits\"\n",
    "R_File_Filters_035_045 = \"Table_Filters_035_045_R.fits\"\n",
    "I_File_Filters_035_045 = \"Table_Filters_035_045_I.fits\"\n",
    "Z_File_Filters_035_045 = \"Table_Filters_035_045_Z.fits\"\n",
    "Y_File_Filters_035_045 = \"Table_Filters_035_045_Y.fits\"\n",
    "\n",
    "\n",
    "G_File_Filters_045_055 = \"Table_Filters_045_055_G.fits\"\n",
    "R_File_Filters_045_055 = \"Table_Filters_045_055_R.fits\"\n",
    "I_File_Filters_045_055 = \"Table_Filters_045_055_I.fits\"\n",
    "Z_File_Filters_045_055 = \"Table_Filters_045_055_Z.fits\"\n",
    "Y_File_Filters_045_055 = \"Table_Filters_045_055_Y.fits\"\n",
    "\n",
    "G_File_Filters_055_065 = \"Table_Filters_055_065_G.fits\"\n",
    "R_File_Filters_055_065 = \"Table_Filters_055_065_R.fits\"\n",
    "I_File_Filters_055_065 = \"Table_Filters_055_065_I.fits\"\n",
    "Z_File_Filters_055_065 = \"Table_Filters_055_065_Z.fits\"\n",
    "Y_File_Filters_055_065 = \"Table_Filters_055_065_Y.fits\"\n",
    "\n",
    "G_File_Filters_065_075 = \"Table_Filters_065_075_G.fits\"\n",
    "R_File_Filters_065_075 = \"Table_Filters_065_075_R.fits\"\n",
    "I_File_Filters_065_075 = \"Table_Filters_065_075_I.fits\"\n",
    "Z_File_Filters_065_075 = \"Table_Filters_065_075_Z.fits\"\n",
    "Y_File_Filters_065_075 = \"Table_Filters_065_075_Y.fits\"\n",
    "\n",
    "G_File_Filters_075_085 = \"Table_Filters_075_085_G.fits\"\n",
    "R_File_Filters_075_085 = \"Table_Filters_075_085_R.fits\"\n",
    "I_File_Filters_075_085 = \"Table_Filters_075_085_I.fits\"\n",
    "Z_File_Filters_075_085 = \"Table_Filters_075_085_Z.fits\"\n",
    "Y_File_Filters_075_085 = \"Table_Filters_075_085_Y.fits\"\n",
    "\n",
    "G_File_Filters_085_096 = \"Table_Filters_085_096_G.fits\"\n",
    "R_File_Filters_085_096 = \"Table_Filters_085_096_R.fits\"\n",
    "I_File_Filters_085_096 = \"Table_Filters_085_096_I.fits\"\n",
    "Z_File_Filters_085_096 = \"Table_Filters_085_096_Z.fits\"\n",
    "Y_File_Filters_085_096 = \"Table_Filters_085_096_Y.fits\"\n",
    "\n"
   ]
  },
  {
   "cell_type": "code",
   "execution_count": 137,
   "id": "63eb78a4-b8e2-4b05-8b8b-043258f13906",
   "metadata": {},
   "outputs": [],
   "source": [
    "G_Filters_025_035 = Table.read(G_File_Filters_025_035, format = 'fits')\n",
    "R_Filters_025_035 = Table.read(R_File_Filters_025_035, format = 'fits')\n",
    "I_Filters_025_035 = Table.read(I_File_Filters_025_035, format = 'fits')\n",
    "Z_Filters_025_035 = Table.read(Z_File_Filters_025_035, format = 'fits')\n",
    "Y_Filters_025_035 = Table.read(Y_File_Filters_025_035, format = 'fits')\n",
    "\n",
    "\n",
    "G_Filters_035_045 = Table.read(G_File_Filters_035_045, format = 'fits')\n",
    "R_Filters_035_045 = Table.read(R_File_Filters_035_045, format = 'fits')\n",
    "I_Filters_035_045 = Table.read(I_File_Filters_035_045, format = 'fits')\n",
    "Z_Filters_035_045 = Table.read(Z_File_Filters_035_045, format = 'fits')\n",
    "Y_Filters_035_045 = Table.read(Y_File_Filters_035_045, format = 'fits')\n",
    "\n",
    "\n",
    "G_Filters_045_055 = Table.read(G_File_Filters_045_055, format = 'fits')\n",
    "R_Filters_045_055 = Table.read(R_File_Filters_045_055, format = 'fits')\n",
    "I_Filters_045_055 = Table.read(I_File_Filters_045_055, format = 'fits')\n",
    "Z_Filters_045_055 = Table.read(Z_File_Filters_045_055, format = 'fits')\n",
    "Y_Filters_045_055 = Table.read(Y_File_Filters_045_055, format = 'fits')\n",
    "\n",
    "\n",
    "G_Filters_055_065 = Table.read(G_File_Filters_055_065, format = 'fits')\n",
    "R_Filters_055_065 = Table.read(R_File_Filters_055_065, format = 'fits')\n",
    "I_Filters_055_065 = Table.read(I_File_Filters_055_065, format = 'fits')\n",
    "Z_Filters_055_065 = Table.read(Z_File_Filters_055_065, format = 'fits')\n",
    "Y_Filters_055_065 = Table.read(Y_File_Filters_055_065, format = 'fits')\n",
    "\n",
    "\n",
    "G_Filters_065_075 = Table.read(G_File_Filters_065_075, format = 'fits')\n",
    "R_Filters_065_075 = Table.read(R_File_Filters_065_075, format = 'fits')\n",
    "I_Filters_065_075 = Table.read(I_File_Filters_065_075, format = 'fits')\n",
    "Z_Filters_065_075 = Table.read(Z_File_Filters_065_075, format = 'fits')\n",
    "Y_Filters_065_075 = Table.read(Y_File_Filters_065_075, format = 'fits')\n",
    "\n",
    "\n",
    "G_Filters_075_085 = Table.read(G_File_Filters_075_085, format = 'fits')\n",
    "R_Filters_075_085 = Table.read(R_File_Filters_075_085, format = 'fits')\n",
    "I_Filters_075_085 = Table.read(I_File_Filters_075_085, format = 'fits')\n",
    "Z_Filters_075_085 = Table.read(Z_File_Filters_075_085, format = 'fits')\n",
    "Y_Filters_075_085 = Table.read(Y_File_Filters_075_085, format = 'fits')\n",
    "\n",
    "G_Filters_085_096 = Table.read(G_File_Filters_085_096, format = 'fits')\n",
    "R_Filters_085_096 = Table.read(R_File_Filters_085_096, format = 'fits')\n",
    "I_Filters_085_096 = Table.read(I_File_Filters_085_096, format = 'fits')\n",
    "Z_Filters_085_096 = Table.read(Z_File_Filters_085_096, format = 'fits')\n",
    "Y_Filters_085_096 = Table.read(Y_File_Filters_085_096, format = 'fits')"
   ]
  },
  {
   "cell_type": "code",
   "execution_count": 138,
   "id": "92a888b5-5cda-4c8d-80d6-583a5bc43068",
   "metadata": {},
   "outputs": [],
   "source": [
    "G_Filters_025_035 = Table(G_Filters_025_035)\n",
    "R_Filters_025_035 = Table(R_Filters_025_035)\n",
    "I_Filters_025_035 = Table(I_Filters_025_035)\n",
    "Z_Filters_025_035 = Table(Z_Filters_025_035)\n",
    "Y_Filters_025_035 = Table(Y_Filters_025_035)\n",
    "\n",
    "G_Filters_035_045 = Table(G_Filters_035_045)\n",
    "R_Filters_035_045 = Table(R_Filters_035_045)\n",
    "I_Filters_035_045 = Table(I_Filters_035_045)\n",
    "Z_Filters_035_045 = Table(Z_Filters_035_045)\n",
    "Y_Filters_035_045 = Table(Y_Filters_035_045)\n",
    "\n",
    "\n",
    "G_Filters_045_055 = Table(G_Filters_045_055)\n",
    "R_Filters_045_055 = Table(R_Filters_045_055)\n",
    "I_Filters_045_055 = Table(I_Filters_045_055)\n",
    "Z_Filters_045_055 = Table(Z_Filters_045_055)\n",
    "Y_Filters_045_055 = Table(Y_Filters_045_055)\n",
    "\n",
    "\n",
    "G_Filters_055_065 = Table(G_Filters_055_065)\n",
    "R_Filters_055_065 = Table(R_Filters_055_065)\n",
    "I_Filters_055_065 = Table(I_Filters_055_065)\n",
    "Z_Filters_055_065 = Table(Z_Filters_055_065)\n",
    "Y_Filters_055_065 = Table(Y_Filters_055_065)\n",
    "\n",
    "\n",
    "G_Filters_065_075 = Table(G_Filters_065_075)\n",
    "R_Filters_065_075 = Table(R_Filters_065_075)\n",
    "I_Filters_065_075 = Table(I_Filters_065_075)\n",
    "Z_Filters_065_075 = Table(Z_Filters_065_075)\n",
    "Y_Filters_065_075 = Table(Y_Filters_065_075)\n",
    "\n",
    "\n",
    "G_Filters_075_085 = Table(G_Filters_075_085)\n",
    "R_Filters_075_085 = Table(R_Filters_075_085)\n",
    "I_Filters_075_085 = Table(I_Filters_075_085)\n",
    "Z_Filters_075_085 = Table(Z_Filters_075_085)\n",
    "Y_Filters_075_085 = Table(Y_Filters_075_085)\n",
    "\n",
    "\n",
    "G_Filters_085_096 = Table(G_Filters_085_096)\n",
    "R_Filters_085_096 = Table(R_Filters_085_096)\n",
    "I_Filters_085_096 = Table(I_Filters_085_096)\n",
    "Z_Filters_085_096 = Table(Z_Filters_085_096)\n",
    "Y_Filters_085_096 = Table(Y_Filters_085_096)\n"
   ]
  },
  {
   "cell_type": "code",
   "execution_count": 139,
   "id": "178e5cd6-3b6c-4afa-9c18-8457bf38a17e",
   "metadata": {},
   "outputs": [
    {
     "ename": "KeyError",
     "evalue": "'G_Data'",
     "output_type": "error",
     "traceback": [
      "\u001b[0;31m---------------------------------------------------------------------------\u001b[0m",
      "\u001b[0;31mKeyError\u001b[0m                                  Traceback (most recent call last)",
      "Cell \u001b[0;32mIn[139], line 7\u001b[0m\n\u001b[1;32m      4\u001b[0m G_Detect_ID_025_035 \u001b[38;5;241m=\u001b[39m G_Filters_025_035[\u001b[38;5;124m\"\u001b[39m\u001b[38;5;124mG_Detect_ID\u001b[39m\u001b[38;5;124m\"\u001b[39m]\n\u001b[1;32m      5\u001b[0m G_Z_025_035 \u001b[38;5;241m=\u001b[39m G_Filters_025_035[\u001b[38;5;124m\"\u001b[39m\u001b[38;5;124mG_Z\u001b[39m\u001b[38;5;124m\"\u001b[39m]\n\u001b[0;32m----> 7\u001b[0m R_Data_025_035 \u001b[38;5;241m=\u001b[39m \u001b[43mR_Filters_025_035\u001b[49m\u001b[43m[\u001b[49m\u001b[38;5;124;43m\"\u001b[39;49m\u001b[38;5;124;43mG_Data\u001b[39;49m\u001b[38;5;124;43m\"\u001b[39;49m\u001b[43m]\u001b[49m\n\u001b[1;32m      8\u001b[0m R_RA_025_035 \u001b[38;5;241m=\u001b[39m R_Filters_025_035[\u001b[38;5;124m\"\u001b[39m\u001b[38;5;124mG_RA\u001b[39m\u001b[38;5;124m\"\u001b[39m]\n\u001b[1;32m      9\u001b[0m R_DEC_025_035 \u001b[38;5;241m=\u001b[39m R_Filters_025_035[\u001b[38;5;124m\"\u001b[39m\u001b[38;5;124mG_DEC\u001b[39m\u001b[38;5;124m\"\u001b[39m]\n",
      "File \u001b[0;32m/opt/conda/lib/python3.12/site-packages/astropy/table/table.py:2064\u001b[0m, in \u001b[0;36mTable.__getitem__\u001b[0;34m(self, item)\u001b[0m\n\u001b[1;32m   2062\u001b[0m \u001b[38;5;28;01mdef\u001b[39;00m \u001b[38;5;21m__getitem__\u001b[39m(\u001b[38;5;28mself\u001b[39m, item):\n\u001b[1;32m   2063\u001b[0m     \u001b[38;5;28;01mif\u001b[39;00m \u001b[38;5;28misinstance\u001b[39m(item, \u001b[38;5;28mstr\u001b[39m):\n\u001b[0;32m-> 2064\u001b[0m         \u001b[38;5;28;01mreturn\u001b[39;00m \u001b[38;5;28;43mself\u001b[39;49m\u001b[38;5;241;43m.\u001b[39;49m\u001b[43mcolumns\u001b[49m\u001b[43m[\u001b[49m\u001b[43mitem\u001b[49m\u001b[43m]\u001b[49m\n\u001b[1;32m   2065\u001b[0m     \u001b[38;5;28;01melif\u001b[39;00m \u001b[38;5;28misinstance\u001b[39m(item, (\u001b[38;5;28mint\u001b[39m, np\u001b[38;5;241m.\u001b[39minteger)):\n\u001b[1;32m   2066\u001b[0m         \u001b[38;5;28;01mreturn\u001b[39;00m \u001b[38;5;28mself\u001b[39m\u001b[38;5;241m.\u001b[39mRow(\u001b[38;5;28mself\u001b[39m, item)\n",
      "File \u001b[0;32m/opt/conda/lib/python3.12/site-packages/astropy/table/table.py:266\u001b[0m, in \u001b[0;36mTableColumns.__getitem__\u001b[0;34m(self, item)\u001b[0m\n\u001b[1;32m    255\u001b[0m \u001b[38;5;250m\u001b[39m\u001b[38;5;124;03m\"\"\"Get items from a TableColumns object.\u001b[39;00m\n\u001b[1;32m    256\u001b[0m \n\u001b[1;32m    257\u001b[0m \u001b[38;5;124;03m::\u001b[39;00m\n\u001b[0;32m   (...)\u001b[0m\n\u001b[1;32m    263\u001b[0m \u001b[38;5;124;03m  tc[1:3] # <TableColumns names=('b', 'c')>\u001b[39;00m\n\u001b[1;32m    264\u001b[0m \u001b[38;5;124;03m\"\"\"\u001b[39;00m\n\u001b[1;32m    265\u001b[0m \u001b[38;5;28;01mif\u001b[39;00m \u001b[38;5;28misinstance\u001b[39m(item, \u001b[38;5;28mstr\u001b[39m):\n\u001b[0;32m--> 266\u001b[0m     \u001b[38;5;28;01mreturn\u001b[39;00m \u001b[43mOrderedDict\u001b[49m\u001b[38;5;241;43m.\u001b[39;49m\u001b[38;5;21;43m__getitem__\u001b[39;49m\u001b[43m(\u001b[49m\u001b[38;5;28;43mself\u001b[39;49m\u001b[43m,\u001b[49m\u001b[43m \u001b[49m\u001b[43mitem\u001b[49m\u001b[43m)\u001b[49m\n\u001b[1;32m    267\u001b[0m \u001b[38;5;28;01melif\u001b[39;00m \u001b[38;5;28misinstance\u001b[39m(item, (\u001b[38;5;28mint\u001b[39m, np\u001b[38;5;241m.\u001b[39minteger)):\n\u001b[1;32m    268\u001b[0m     \u001b[38;5;28;01mreturn\u001b[39;00m \u001b[38;5;28mlist\u001b[39m(\u001b[38;5;28mself\u001b[39m\u001b[38;5;241m.\u001b[39mvalues())[item]\n",
      "\u001b[0;31mKeyError\u001b[0m: 'G_Data'"
     ]
    }
   ],
   "source": [
    "G_Data_025_035 = G_Filters_025_035[\"G_Data\"]\n",
    "G_RA_025_035 = G_Filters_025_035[\"G_RA\"]\n",
    "G_DEC_025_035 = G_Filters_025_035[\"G_DEC\"]\n",
    "G_Detect_ID_025_035 = G_Filters_025_035[\"G_Detect_ID\"]\n",
    "G_Z_025_035 = G_Filters_025_035[\"G_Z\"]\n",
    "\n",
    "R_Data_025_035 = R_Filters_025_035[\"G_Data\"]\n",
    "R_RA_025_035 = R_Filters_025_035[\"G_RA\"]\n",
    "R_DEC_025_035 = R_Filters_025_035[\"G_DEC\"]\n",
    "R_Detect_ID_025_035 = R_Filters_025_035[\"G_Detect_ID\"]\n",
    "R_Z_025_035 = R_Filters_025_035[\"G_Z\"]\n",
    "\n",
    "I_Data_025_035 = I_Filters_025_035[\"G_Data\"]\n",
    "I_RA_025_035 = I_Filters_025_035[\"G_RA\"]\n",
    "I_DEC_025_035 = I_Filters_025_035[\"G_DEC\"]\n",
    "I_Detect_ID_025_035 = I_Filters_025_035[\"G_Detect_ID\"]\n",
    "I_Z_025_035 = I_Filters_025_035[\"G_Z\"]\n",
    "\n",
    "Z_Data_025_035 = Z_Filters_025_035[\"G_Data\"]\n",
    "Z_RA_025_035 = Z_Filters_025_035[\"G_RA\"]\n",
    "Z_DEC_025_035 = Z_Filters_025_035[\"G_DEC\"]\n",
    "Z_Detect_ID_025_035 = Z_Filters_025_035[\"G_Detect_ID\"]\n",
    "Z_Z_025_035 = Z_Filters_025_035[\"G_Z\"]\n",
    "\n",
    "Y_Data_025_035 = Y_Filters_025_035[\"G_Data\"]\n",
    "Y_RA_025_035 = Y_Filters_025_035[\"G_RA\"]\n",
    "Y_DEC_025_035 = Y_Filters_025_035[\"G_DEC\"]\n",
    "Y_Detect_ID_025_035 = Y_Filters_025_035[\"G_Detect_ID\"]\n",
    "Y_Z_025_035 = Y_Filters_025_035[\"G_Z\"]"
   ]
  },
  {
   "cell_type": "code",
   "execution_count": null,
   "id": "d847ee92-fc61-4c91-a775-2baab6300d5c",
   "metadata": {},
   "outputs": [],
   "source": [
    "G_Data_035_045 = G_Filters_035_045[\"G_Data\"]\n",
    "G_RA_035_045 = G_Filters_035_045[\"G_RA\"]\n",
    "G_DEC_035_045 = G_Filters_035_045[\"G_DEC\"]\n",
    "G_Detect_ID_035_045 = G_Filters_035_045[\"G_Detect_ID\"]\n",
    "G_Z_035_045 = G_Filters_035_045[\"G_Z\"]\n",
    "\n",
    "R_Data_035_045 = R_Filters_035_045[\"G_Data\"]\n",
    "R_RA_035_045 = R_Filters_035_045[\"G_RA\"]\n",
    "R_DEC_035_045 = R_Filters_035_045[\"G_DEC\"]\n",
    "R_Detect_ID_035_045 = R_Filters_035_045[\"G_Detect_ID\"]\n",
    "R_Z_035_045 = R_Filters_035_045[\"G_Z\"]\n",
    "\n",
    "I_Data_035_045 = I_Filters_035_045[\"G_Data\"]\n",
    "I_RA_035_045 = I_Filters_035_045[\"G_RA\"]\n",
    "I_DEC_035_045 = I_Filters_035_045[\"G_DEC\"]\n",
    "I_Detect_ID_035_045 = I_Filters_035_045[\"G_Detect_ID\"]\n",
    "I_Z_035_045 = I_Filters_035_045[\"G_Z\"]\n",
    "\n",
    "Z_Data_035_045 = Z_Filters_035_045[\"G_Data\"]\n",
    "Z_RA_035_045 = Z_Filters_035_045[\"G_RA\"]\n",
    "Z_DEC_035_045 = Z_Filters_035_045[\"G_DEC\"]\n",
    "Z_Detect_ID_035_045 = Z_Filters_035_045[\"G_Detect_ID\"]\n",
    "Z_Z_035_045 = Z_Filters_035_045[\"G_Z\"]\n",
    "\n",
    "Y_Data_035_045 = Y_Filters_035_045[\"G_Data\"]\n",
    "Y_RA_035_045 = Y_Filters_035_045[\"G_RA\"]\n",
    "Y_DEC_035_045 = Y_Filters_035_045[\"G_DEC\"]\n",
    "Y_Detect_ID_035_045 = Y_Filters_035_045[\"G_Detect_ID\"]\n",
    "Y_Z_035_045 = Y_Filters_035_045[\"G_Z\"]"
   ]
  },
  {
   "cell_type": "code",
   "execution_count": null,
   "id": "d7524936-177d-4ca3-983f-1391dac20028",
   "metadata": {},
   "outputs": [],
   "source": [
    "G_Data_045_055 = G_Filters_045_055[\"G_Data\"]\n",
    "G_RA_045_055 = G_Filters_045_055[\"G_RA\"]\n",
    "G_DEC_045_055 = G_Filters_045_055[\"G_DEC\"]\n",
    "G_Detect_ID_045_055 = G_Filters_045_055[\"G_Detect_ID\"]\n",
    "G_Z_045_055 = G_Filters_045_055[\"G_Z\"]\n",
    "\n",
    "R_Data_045_055 = R_Filters_045_055[\"G_Data\"]\n",
    "R_RA_045_055 = R_Filters_045_055[\"G_RA\"]\n",
    "R_DEC_045_055 = R_Filters_045_055[\"G_DEC\"]\n",
    "R_Detect_ID_045_055 = R_Filters_045_055[\"G_Detect_ID\"]\n",
    "R_Z_045_055 = R_Filters_045_055[\"G_Z\"]\n",
    "\n",
    "I_Data_045_055 = I_Filters_045_055[\"G_Data\"]\n",
    "I_RA_045_055 = I_Filters_045_055[\"G_RA\"]\n",
    "I_DEC_045_055 = I_Filters_045_055[\"G_DEC\"]\n",
    "I_Detect_ID_045_055 = I_Filters_045_055[\"G_Detect_ID\"]\n",
    "I_Z_045_055 = I_Filters_045_055[\"G_Z\"]\n",
    "\n",
    "Z_Data_045_055 = Z_Filters_045_055[\"G_Data\"]\n",
    "Z_RA_045_055 = Z_Filters_045_055[\"G_RA\"]\n",
    "Z_DEC_045_055 = Z_Filters_045_055[\"G_DEC\"]\n",
    "Z_Detect_ID_045_055 = Z_Filters_045_055[\"G_Detect_ID\"]\n",
    "Z_Z_045_055 = Z_Filters_045_055[\"G_Z\"]\n",
    "\n",
    "Y_Data_045_055 = Y_Filters_045_055[\"G_Data\"]\n",
    "Y_RA_045_055 = Y_Filters_045_055[\"G_RA\"]\n",
    "Y_DEC_045_055 = Y_Filters_045_055[\"G_DEC\"]\n",
    "Y_Detect_ID_045_055 = Y_Filters_045_055[\"G_Detect_ID\"]\n",
    "Y_Z_045_055 = Y_Filters_045_055[\"G_Z\"]"
   ]
  },
  {
   "cell_type": "code",
   "execution_count": null,
   "id": "7fb74710-abaf-4822-8b00-1bb0f4f7d228",
   "metadata": {},
   "outputs": [],
   "source": [
    "G_Data_055_065 = G_Filters_055_065[\"G_Data\"]\n",
    "G_RA_055_065 = G_Filters_055_065[\"G_RA\"]\n",
    "G_DEC_055_065 = G_Filters_055_065[\"G_DEC\"]\n",
    "G_Detect_ID_055_065 = G_Filters_055_065[\"G_Detect_ID\"]\n",
    "G_Z_055_065 = G_Filters_055_065[\"G_Z\"]\n",
    "\n",
    "R_Data_055_065 = R_Filters_055_065[\"G_Data\"]\n",
    "R_RA_055_065 = R_Filters_055_065[\"G_RA\"]\n",
    "R_DEC_055_065 = R_Filters_055_065[\"G_DEC\"]\n",
    "R_Detect_ID_055_065 = R_Filters_055_065[\"G_Detect_ID\"]\n",
    "R_Z_055_065 = R_Filters_055_065[\"G_Z\"]\n",
    "\n",
    "I_Data_055_065 = I_Filters_055_065[\"G_Data\"]\n",
    "I_RA_055_065 = I_Filters_055_065[\"G_RA\"]\n",
    "I_DEC_055_065 = I_Filters_055_065[\"G_DEC\"]\n",
    "I_Detect_ID_055_065 = I_Filters_055_065[\"G_Detect_ID\"]\n",
    "I_Z_055_065 = I_Filters_055_065[\"G_Z\"]\n",
    "\n",
    "Z_Data_055_065 = Z_Filters_055_065[\"G_Data\"]\n",
    "Z_RA_055_065 = Z_Filters_055_065[\"G_RA\"]\n",
    "Z_DEC_055_065 = Z_Filters_055_065[\"G_DEC\"]\n",
    "Z_Detect_ID_055_065 = Z_Filters_055_065[\"G_Detect_ID\"]\n",
    "Z_Z_055_065 = Z_Filters_055_065[\"G_Z\"]\n",
    "\n",
    "Y_Data_055_065 = Y_Filters_055_065[\"G_Data\"]\n",
    "Y_RA_055_065 = Y_Filters_055_065[\"G_RA\"]\n",
    "Y_DEC_055_065 = Y_Filters_055_065[\"G_DEC\"]\n",
    "Y_Detect_ID_055_065 = Y_Filters_055_065[\"G_Detect_ID\"]\n",
    "Y_Z_055_065 = Y_Filters_055_065[\"G_Z\"]"
   ]
  },
  {
   "cell_type": "code",
   "execution_count": null,
   "id": "92f3122e-4ed5-4274-b376-abb6d4d5a655",
   "metadata": {},
   "outputs": [],
   "source": [
    "G_Data_065_075 = G_Filters_065_075[\"G_Data\"]\n",
    "G_RA_065_075 = G_Filters_065_075[\"G_RA\"]\n",
    "G_DEC_065_075 = G_Filters_065_075[\"G_DEC\"]\n",
    "G_Detect_ID_065_075 = G_Filters_065_075[\"G_Detect_ID\"]\n",
    "G_Z_065_075 = G_Filters_065_075[\"G_Z\"]\n",
    "\n",
    "R_Data_065_075 = R_Filters_065_075[\"G_Data\"]\n",
    "R_RA_065_075 = R_Filters_065_075[\"G_RA\"]\n",
    "R_DEC_065_075 = R_Filters_065_075[\"G_DEC\"]\n",
    "R_Detect_ID_065_075 = R_Filters_065_075[\"G_Detect_ID\"]\n",
    "R_Z_065_075 = R_Filters_065_075[\"G_Z\"]\n",
    "\n",
    "I_Data_065_075 = I_Filters_065_075[\"G_Data\"]\n",
    "I_RA_065_075 = I_Filters_065_075[\"G_RA\"]\n",
    "I_DEC_065_075 = I_Filters_065_075[\"G_DEC\"]\n",
    "I_Detect_ID_065_075 = I_Filters_065_075[\"G_Detect_ID\"]\n",
    "I_Z_065_075 = I_Filters_065_075[\"G_Z\"]\n",
    "\n",
    "Z_Data_065_075 = Z_Filters_065_075[\"G_Data\"]\n",
    "Z_RA_065_075 = Z_Filters_065_075[\"G_RA\"]\n",
    "Z_DEC_065_075 = Z_Filters_065_075[\"G_DEC\"]\n",
    "Z_Detect_ID_065_075 = Z_Filters_065_075[\"G_Detect_ID\"]\n",
    "Z_Z_065_075 = Z_Filters_065_075[\"G_Z\"]\n",
    "\n",
    "Y_Data_065_075 = Y_Filters_065_075[\"G_Data\"]\n",
    "Y_RA_065_075 = Y_Filters_065_075[\"G_RA\"]\n",
    "Y_DEC_065_075 = Y_Filters_065_075[\"G_DEC\"]\n",
    "Y_Detect_ID_065_075 = Y_Filters_065_075[\"G_Detect_ID\"]\n",
    "Y_Z_065_075 = Y_Filters_065_075[\"G_Z\"]"
   ]
  },
  {
   "cell_type": "code",
   "execution_count": null,
   "id": "49d279ff-9afb-4dda-bbb4-2635fedac62b",
   "metadata": {},
   "outputs": [],
   "source": [
    "G_Data_075_085 = G_Filters_075_085[\"G_Data\"]\n",
    "G_RA_075_085 = G_Filters_075_085[\"G_RA\"]\n",
    "G_DEC_075_085 = G_Filters_075_085[\"G_DEC\"]\n",
    "G_Detect_ID_075_085 = G_Filters_075_085[\"G_Detect_ID\"]\n",
    "G_Z_075_085 = G_Filters_075_085[\"G_Z\"]\n",
    "\n",
    "R_Data_075_085 = R_Filters_075_085[\"G_Data\"]\n",
    "R_RA_075_085 = R_Filters_075_085[\"G_RA\"]\n",
    "R_DEC_075_085 = R_Filters_075_085[\"G_DEC\"]\n",
    "R_Detect_ID_075_085 = R_Filters_075_085[\"G_Detect_ID\"]\n",
    "R_Z_075_085 = R_Filters_075_085[\"G_Z\"]\n",
    "\n",
    "I_Data_075_085 = I_Filters_075_085[\"G_Data\"]\n",
    "I_RA_075_085 = I_Filters_075_085[\"G_RA\"]\n",
    "I_DEC_075_085 = I_Filters_075_085[\"G_DEC\"]\n",
    "I_Detect_ID_075_085 = I_Filters_075_085[\"G_Detect_ID\"]\n",
    "I_Z_075_085 = I_Filters_075_085[\"G_Z\"]\n",
    "\n",
    "Z_Data_075_085 = Z_Filters_075_085[\"G_Data\"]\n",
    "Z_RA_075_085 = Z_Filters_075_085[\"G_RA\"]\n",
    "Z_DEC_075_085 = Z_Filters_075_085[\"G_DEC\"]\n",
    "Z_Detect_ID_075_085 = Z_Filters_075_085[\"G_Detect_ID\"]\n",
    "Z_Z_075_085 = Z_Filters_075_085[\"G_Z\"]\n",
    "\n",
    "Y_Data_075_085 = Y_Filters_075_085[\"G_Data\"]\n",
    "Y_RA_075_085 = Y_Filters_075_085[\"G_RA\"]\n",
    "Y_DEC_075_085 = Y_Filters_075_085[\"G_DEC\"]\n",
    "Y_Detect_ID_075_085 = Y_Filters_075_085[\"G_Detect_ID\"]\n",
    "Y_Z_075_085 = Y_Filters_075_085[\"G_Z\"]"
   ]
  },
  {
   "cell_type": "code",
   "execution_count": null,
   "id": "7f3c62c0-dd1b-4c66-b1a9-d43f3a547efc",
   "metadata": {},
   "outputs": [],
   "source": [
    "G_Data_085_096 = G_Filters_085_096[\"G_Data\"]\n",
    "G_RA_085_096 = G_Filters_085_096[\"G_RA\"]\n",
    "G_DEC_085_096 = G_Filters_085_096[\"G_DEC\"]\n",
    "G_Detect_ID_085_096 = G_Filters_085_096[\"G_Detect_ID\"]\n",
    "G_Z_085_096 = G_Filters_085_096[\"G_Z\"]\n",
    "\n",
    "R_Data_085_096 = R_Filters_085_096[\"G_Data\"]\n",
    "R_RA_085_096 = R_Filters_085_096[\"G_RA\"]\n",
    "R_DEC_085_096 = R_Filters_085_096[\"G_DEC\"]\n",
    "R_Detect_ID_085_096 = R_Filters_085_096[\"G_Detect_ID\"]\n",
    "R_Z_085_096 = R_Filters_085_096[\"G_Z\"]\n",
    "\n",
    "I_Data_085_096 = I_Filters_085_096[\"G_Data\"]\n",
    "I_RA_085_096 = I_Filters_085_096[\"G_RA\"]\n",
    "I_DEC_085_096 = I_Filters_085_096[\"G_DEC\"]\n",
    "I_Detect_ID_085_096 = I_Filters_085_096[\"G_Detect_ID\"]\n",
    "I_Z_085_096 = I_Filters_085_096[\"G_Z\"]\n",
    "\n",
    "Z_Data_085_096 = Z_Filters_085_096[\"G_Data\"]\n",
    "Z_RA_085_096 = Z_Filters_085_096[\"G_RA\"]\n",
    "Z_DEC_085_096 = Z_Filters_085_096[\"G_DEC\"]\n",
    "Z_Detect_ID_085_096 = Z_Filters_085_096[\"G_Detect_ID\"]\n",
    "Z_Z_085_096 = Z_Filters_085_096[\"G_Z\"]\n",
    "\n",
    "Y_Data_085_096 = Y_Filters_085_096[\"G_Data\"]\n",
    "Y_RA_085_096 = Y_Filters_085_096[\"G_RA\"]\n",
    "Y_DEC_085_096 = Y_Filters_085_096[\"G_DEC\"]\n",
    "Y_Detect_ID_085_096 = Y_Filters_085_096[\"G_Detect_ID\"]\n",
    "Y_Z_085_096 = Y_Filters_085_096[\"G_Z\"]"
   ]
  },
  {
   "cell_type": "code",
   "execution_count": null,
   "id": "4da5b1f7-08df-4e25-95fc-357d438139b1",
   "metadata": {},
   "outputs": [],
   "source": [
    "fig = plt.figure(figsize=(10,10))\n",
    "\n",
    "ax = fig.add_subplot(1,1, 1)\n",
    "\n",
    "im = ax.imshow(Y_Data_085_096[0], origin=\"lower\", cmap=\"YlOrBr\")\n",
    "\n",
    "#plt.scatter(X, Y, color=\"skyblue\", s=200, marker=\"+\")\n",
    "\n",
    "#sep_ap = cutout['details']['sep_objects'][cutout['details']['sep_obj_idx']]\n",
    "\n",
    "coord_offset = 0.5 * (ax.get_xlim()[0] + ax.get_xlim()[1])\n",
    "\n",
    "plt.colorbar(im, ax=ax)\n",
    "\n",
    "#filename = str(Data_Redshift_Confirmed[\"Detectid\"][200])\n",
    "\n",
    "#plt.title(str(filename))"
   ]
  },
  {
   "cell_type": "code",
   "execution_count": null,
   "id": "03c31b35-a494-4193-a64f-e0734fb38b01",
   "metadata": {},
   "outputs": [],
   "source": []
  },
  {
   "cell_type": "code",
   "execution_count": null,
   "id": "a6411a3b-cd87-48a2-b7d6-0402e32b3fcf",
   "metadata": {},
   "outputs": [],
   "source": []
  },
  {
   "cell_type": "code",
   "execution_count": null,
   "id": "35e39214-0f4b-487e-8820-e8c61fbf1bee",
   "metadata": {},
   "outputs": [],
   "source": []
  },
  {
   "cell_type": "code",
   "execution_count": null,
   "id": "6bb2cd51-64e1-4c80-957c-f76bf2900e14",
   "metadata": {},
   "outputs": [],
   "source": []
  },
  {
   "cell_type": "code",
   "execution_count": null,
   "id": "11c7918a-d2a3-4337-b05f-cffc6e427f55",
   "metadata": {},
   "outputs": [],
   "source": []
  },
  {
   "cell_type": "code",
   "execution_count": null,
   "id": "d7246132-98ec-4163-aba1-45daf1f53a5f",
   "metadata": {},
   "outputs": [],
   "source": []
  },
  {
   "cell_type": "code",
   "execution_count": null,
   "id": "0b4b0aa2-3dd1-412e-94e8-b14db0183ef3",
   "metadata": {},
   "outputs": [],
   "source": []
  },
  {
   "cell_type": "code",
   "execution_count": null,
   "id": "c5196434-ef74-45b0-b4e1-1faad3f46a07",
   "metadata": {},
   "outputs": [],
   "source": []
  },
  {
   "cell_type": "code",
   "execution_count": null,
   "id": "4a63e769-3f55-49a9-bbc1-30d97511228c",
   "metadata": {},
   "outputs": [],
   "source": []
  },
  {
   "cell_type": "code",
   "execution_count": null,
   "id": "6fbfb56a-f4e1-4892-b370-b7d037ad43cf",
   "metadata": {},
   "outputs": [],
   "source": []
  },
  {
   "cell_type": "code",
   "execution_count": null,
   "id": "30b9632c-e4f3-4ba8-a97b-b51365ed9a2c",
   "metadata": {},
   "outputs": [],
   "source": []
  },
  {
   "cell_type": "code",
   "execution_count": 1,
   "id": "39046488-1105-4e12-8143-3498a011d952",
   "metadata": {},
   "outputs": [
    {
     "data": {
      "text/plain": [
       "3"
      ]
     },
     "execution_count": 1,
     "metadata": {},
     "output_type": "execute_result"
    }
   ],
   "source": [
    "3"
   ]
  },
  {
   "cell_type": "code",
   "execution_count": null,
   "id": "d6986cae-2497-49c8-a9d2-9e467b396f19",
   "metadata": {},
   "outputs": [],
   "source": []
  },
  {
   "cell_type": "code",
   "execution_count": null,
   "id": "272d8fc5-145a-413b-b544-1702eb4ab789",
   "metadata": {},
   "outputs": [],
   "source": []
  },
  {
   "cell_type": "code",
   "execution_count": null,
   "id": "6cf3213e-a471-468c-b493-0eed86d69453",
   "metadata": {},
   "outputs": [],
   "source": []
  },
  {
   "cell_type": "code",
   "execution_count": null,
   "id": "5f473227-a574-4ab8-82ec-94a311355da3",
   "metadata": {},
   "outputs": [],
   "source": []
  },
  {
   "cell_type": "code",
   "execution_count": null,
   "id": "d85269c9-9da7-486b-9885-40dd6076eef1",
   "metadata": {},
   "outputs": [],
   "source": []
  },
  {
   "cell_type": "code",
   "execution_count": null,
   "id": "e0724d2a-b3f6-4798-a65e-d36baaeb3e48",
   "metadata": {},
   "outputs": [],
   "source": []
  },
  {
   "cell_type": "code",
   "execution_count": null,
   "id": "5fc1a8fe-4741-4937-83c8-b34f1c0b7058",
   "metadata": {},
   "outputs": [],
   "source": []
  },
  {
   "cell_type": "code",
   "execution_count": null,
   "id": "12b1ca80-f126-405e-9575-d9da3996772d",
   "metadata": {},
   "outputs": [],
   "source": []
  },
  {
   "cell_type": "code",
   "execution_count": null,
   "id": "d73cbcb8-e095-4c64-a51c-240fe309987c",
   "metadata": {},
   "outputs": [],
   "source": []
  },
  {
   "cell_type": "code",
   "execution_count": null,
   "id": "a32bdb42-132d-4d70-8009-8aeaa7e8af4b",
   "metadata": {},
   "outputs": [],
   "source": []
  },
  {
   "cell_type": "code",
   "execution_count": null,
   "id": "ef4d5073-0ed2-4181-a5ea-45175b1cf485",
   "metadata": {},
   "outputs": [],
   "source": []
  },
  {
   "cell_type": "code",
   "execution_count": null,
   "id": "b91eaeed-979f-4cc7-b7c8-c3ecb99d0ed0",
   "metadata": {},
   "outputs": [],
   "source": []
  },
  {
   "cell_type": "code",
   "execution_count": null,
   "id": "11a9a606-0859-4be0-a912-75023f303d7d",
   "metadata": {},
   "outputs": [],
   "source": []
  },
  {
   "cell_type": "code",
   "execution_count": null,
   "id": "8649c172-3f49-40a2-9f3f-f6964cde7133",
   "metadata": {},
   "outputs": [],
   "source": []
  },
  {
   "cell_type": "code",
   "execution_count": null,
   "id": "4369bd77-162c-4e62-a7d3-6b3e32719768",
   "metadata": {},
   "outputs": [],
   "source": []
  },
  {
   "cell_type": "code",
   "execution_count": null,
   "id": "1a8a6c10-6aa7-4cb6-9f31-8178aa83c0bc",
   "metadata": {},
   "outputs": [],
   "source": []
  },
  {
   "cell_type": "code",
   "execution_count": null,
   "id": "cac62203-9146-4bb7-b736-be5a41294d28",
   "metadata": {},
   "outputs": [],
   "source": []
  },
  {
   "cell_type": "code",
   "execution_count": null,
   "id": "d53b95b2-1908-4431-81b1-5be784fe7d9a",
   "metadata": {},
   "outputs": [],
   "source": []
  },
  {
   "cell_type": "code",
   "execution_count": null,
   "id": "96305d0b-2b23-4122-8286-1561ea193a89",
   "metadata": {},
   "outputs": [],
   "source": []
  },
  {
   "cell_type": "code",
   "execution_count": null,
   "id": "e0f7e7af-845f-423c-b28d-16f806435921",
   "metadata": {},
   "outputs": [],
   "source": []
  },
  {
   "cell_type": "code",
   "execution_count": null,
   "id": "e1f68ead-4047-4cc4-976a-b325c3e896fa",
   "metadata": {},
   "outputs": [],
   "source": []
  },
  {
   "cell_type": "code",
   "execution_count": null,
   "id": "a8c6ab68-b336-4eb5-b820-9f266e5b2f0f",
   "metadata": {},
   "outputs": [],
   "source": []
  },
  {
   "cell_type": "code",
   "execution_count": null,
   "id": "83930943-e6bd-4ecc-a1d7-2581453a0d32",
   "metadata": {},
   "outputs": [],
   "source": []
  },
  {
   "cell_type": "code",
   "execution_count": null,
   "id": "770226b4-c0cf-41a8-abc0-101e3e3c1652",
   "metadata": {},
   "outputs": [],
   "source": []
  },
  {
   "cell_type": "code",
   "execution_count": null,
   "id": "ef817ea1-de47-4c9d-abbb-4c7ee6fe1232",
   "metadata": {},
   "outputs": [],
   "source": []
  },
  {
   "cell_type": "code",
   "execution_count": null,
   "id": "d4df389b-2d83-443f-9dce-fc42306442b4",
   "metadata": {},
   "outputs": [],
   "source": []
  },
  {
   "cell_type": "code",
   "execution_count": null,
   "id": "d100aa61-f1ac-43b1-a5ed-80915fb7d732",
   "metadata": {},
   "outputs": [],
   "source": []
  },
  {
   "cell_type": "code",
   "execution_count": null,
   "id": "1f9ade0e-4e9d-4a1d-9070-a7b1745cfcfc",
   "metadata": {},
   "outputs": [],
   "source": []
  },
  {
   "cell_type": "code",
   "execution_count": null,
   "id": "02f353f5-0aad-4fd0-be45-de55a6aeac3e",
   "metadata": {},
   "outputs": [],
   "source": []
  },
  {
   "cell_type": "code",
   "execution_count": null,
   "id": "1f6fee91-d6cf-4b8b-9efd-cf0b38d9a5aa",
   "metadata": {},
   "outputs": [],
   "source": []
  },
  {
   "cell_type": "code",
   "execution_count": null,
   "id": "fc544cd7-eecc-4940-9b4b-2f77452ea4b1",
   "metadata": {},
   "outputs": [],
   "source": []
  },
  {
   "cell_type": "code",
   "execution_count": null,
   "id": "6e1cb80f-7e53-4044-a32c-ba4a7326c93c",
   "metadata": {},
   "outputs": [],
   "source": []
  },
  {
   "cell_type": "code",
   "execution_count": null,
   "id": "81019223-f946-4c12-b400-0025a3197815",
   "metadata": {},
   "outputs": [],
   "source": []
  }
 ],
 "metadata": {
  "kernelspec": {
   "display_name": "Python 3 (ipykernel)",
   "language": "python",
   "name": "python3"
  },
  "language_info": {
   "codemirror_mode": {
    "name": "ipython",
    "version": 3
   },
   "file_extension": ".py",
   "mimetype": "text/x-python",
   "name": "python",
   "nbconvert_exporter": "python",
   "pygments_lexer": "ipython3",
   "version": "3.12.7"
  }
 },
 "nbformat": 4,
 "nbformat_minor": 5
}
